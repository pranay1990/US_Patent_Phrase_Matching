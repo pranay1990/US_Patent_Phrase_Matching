{
 "cells": [
  {
   "cell_type": "code",
   "execution_count": 1,
   "id": "4475fef1",
   "metadata": {
    "_cell_guid": "b1076dfc-b9ad-4769-8c92-a6c4dae69d19",
    "_uuid": "8f2839f25d086af736a60e9eeb907d3b93b6e0e5",
    "execution": {
     "iopub.execute_input": "2022-05-05T10:01:01.156972Z",
     "iopub.status.busy": "2022-05-05T10:01:01.156532Z",
     "iopub.status.idle": "2022-05-05T10:01:08.135592Z",
     "shell.execute_reply": "2022-05-05T10:01:08.134627Z"
    },
    "papermill": {
     "duration": 7.005946,
     "end_time": "2022-05-05T10:01:08.137834",
     "exception": false,
     "start_time": "2022-05-05T10:01:01.131888",
     "status": "completed"
    },
    "tags": []
   },
   "outputs": [
    {
     "name": "stdout",
     "output_type": "stream",
     "text": [
      "/kaggle/input/cpc-codes/titles.csv\n",
      "/kaggle/input/deberta-v3-large/spm.model\n",
      "/kaggle/input/deberta-v3-large/config.json\n",
      "/kaggle/input/deberta-v3-large/README.md\n",
      "/kaggle/input/deberta-v3-large/tf_model.h5\n",
      "/kaggle/input/deberta-v3-large/tokenizer_config.json\n",
      "/kaggle/input/deberta-v3-large/pytorch_model.bin\n",
      "/kaggle/input/new-tensorflow-deberta-v3-large-model-uspppm/new2_deberta_v3large_patent_1.h5\n",
      "/kaggle/input/new-tensorflow-deberta-v3-large-model-uspppm/__results__.html\n",
      "/kaggle/input/new-tensorflow-deberta-v3-large-model-uspppm/new2_deberta_v3large_patent_4.h5\n",
      "/kaggle/input/new-tensorflow-deberta-v3-large-model-uspppm/new2_deberta_v3large_patent_2.h5\n",
      "/kaggle/input/new-tensorflow-deberta-v3-large-model-uspppm/new2_deberta_v3large_patent_3.h5\n",
      "/kaggle/input/new-tensorflow-deberta-v3-large-model-uspppm/new2_deberta_v3large_patent_0.h5\n",
      "/kaggle/input/new-tensorflow-deberta-v3-large-model-uspppm/submission.csv\n",
      "/kaggle/input/new-tensorflow-deberta-v3-large-model-uspppm/__notebook__.ipynb\n",
      "/kaggle/input/new-tensorflow-deberta-v3-large-model-uspppm/__output__.json\n",
      "/kaggle/input/new-tensorflow-deberta-v3-large-model-uspppm/custom.css\n",
      "/kaggle/input/new-tensorflow-deberta-v3-large-model-uspppm/__results___files/__results___42_1.png\n",
      "/kaggle/input/us-patent-phrase-to-phrase-matching/sample_submission.csv\n",
      "/kaggle/input/us-patent-phrase-to-phrase-matching/train.csv\n",
      "/kaggle/input/us-patent-phrase-to-phrase-matching/test.csv\n"
     ]
    }
   ],
   "source": [
    "# This Python 3 environment comes with many helpful analytics libraries installed\n",
    "# It is defined by the kaggle/python Docker image: https://github.com/kaggle/docker-python\n",
    "# For example, here's several helpful packages to load\n",
    "\n",
    "import numpy as np # linear algebra\n",
    "import pandas as pd # data processing, CSV file I/O (e.g. pd.read_csv)\n",
    "import tensorflow as tf\n",
    "from transformers import TFAutoModel, AutoTokenizer, AutoConfig\n",
    "\n",
    "# Input data files are available in the read-only \"../input/\" directory\n",
    "# For example, running this (by clicking run or pressing Shift+Enter) will list all files under the input directory\n",
    "\n",
    "import os\n",
    "for dirname, _, filenames in os.walk('/kaggle/input'):\n",
    "    for filename in filenames:\n",
    "        print(os.path.join(dirname, filename))\n",
    "os.environ[\"WANDB_DISABLED\"] = \"true\"\n",
    "# You can write up to 20GB to the current directory (/kaggle/working/) that gets preserved as output when you create a version using \"Save & Run All\" \n",
    "# You can also write temporary files to /kaggle/temp/, but they won't be saved outside of the current session"
   ]
  },
  {
   "cell_type": "markdown",
   "id": "67bb6782",
   "metadata": {},
   "source": [
    "# Defining all the parameters of the NLP model"
   ]
  },
  {
   "cell_type": "code",
   "execution_count": 2,
   "id": "f0a77595",
   "metadata": {
    "execution": {
     "iopub.execute_input": "2022-05-05T10:01:08.186288Z",
     "iopub.status.busy": "2022-05-05T10:01:08.185987Z",
     "iopub.status.idle": "2022-05-05T10:01:08.191132Z",
     "shell.execute_reply": "2022-05-05T10:01:08.190108Z"
    },
    "papermill": {
     "duration": 0.03113,
     "end_time": "2022-05-05T10:01:08.193121",
     "exception": false,
     "start_time": "2022-05-05T10:01:08.161991",
     "status": "completed"
    },
    "tags": []
   },
   "outputs": [],
   "source": [
    "model_name = \"../input/deberta-v3-large\"\n",
    "max_len = 32 # Maxmimum Length of the sentence that will be input to the model\n",
    "NUM_EPOCHS = 4\n",
    "batch_size=8\n",
    "LR = 1e-5 # This the learning rate\n",
    "fold = 5 # Stratified K-fold number"
   ]
  },
  {
   "cell_type": "markdown",
   "id": "bc93511e",
   "metadata": {},
   "source": [
    "`test` variable will be holding the test dataset."
   ]
  },
  {
   "cell_type": "code",
   "execution_count": 3,
   "id": "00b38bcc",
   "metadata": {
    "execution": {
     "iopub.execute_input": "2022-05-05T10:01:08.239237Z",
     "iopub.status.busy": "2022-05-05T10:01:08.239026Z",
     "iopub.status.idle": "2022-05-05T10:01:08.267372Z",
     "shell.execute_reply": "2022-05-05T10:01:08.266362Z"
    },
    "papermill": {
     "duration": 0.054558,
     "end_time": "2022-05-05T10:01:08.270082",
     "exception": false,
     "start_time": "2022-05-05T10:01:08.215524",
     "status": "completed"
    },
    "tags": []
   },
   "outputs": [
    {
     "data": {
      "text/html": [
       "<div>\n",
       "<style scoped>\n",
       "    .dataframe tbody tr th:only-of-type {\n",
       "        vertical-align: middle;\n",
       "    }\n",
       "\n",
       "    .dataframe tbody tr th {\n",
       "        vertical-align: top;\n",
       "    }\n",
       "\n",
       "    .dataframe thead th {\n",
       "        text-align: right;\n",
       "    }\n",
       "</style>\n",
       "<table border=\"1\" class=\"dataframe\">\n",
       "  <thead>\n",
       "    <tr style=\"text-align: right;\">\n",
       "      <th></th>\n",
       "      <th>id</th>\n",
       "      <th>anchor</th>\n",
       "      <th>target</th>\n",
       "      <th>context</th>\n",
       "    </tr>\n",
       "  </thead>\n",
       "  <tbody>\n",
       "    <tr>\n",
       "      <th>0</th>\n",
       "      <td>4112d61851461f60</td>\n",
       "      <td>opc drum</td>\n",
       "      <td>inorganic photoconductor drum</td>\n",
       "      <td>G02</td>\n",
       "    </tr>\n",
       "    <tr>\n",
       "      <th>1</th>\n",
       "      <td>09e418c93a776564</td>\n",
       "      <td>adjust gas flow</td>\n",
       "      <td>altering gas flow</td>\n",
       "      <td>F23</td>\n",
       "    </tr>\n",
       "    <tr>\n",
       "      <th>2</th>\n",
       "      <td>36baf228038e314b</td>\n",
       "      <td>lower trunnion</td>\n",
       "      <td>lower locating</td>\n",
       "      <td>B60</td>\n",
       "    </tr>\n",
       "    <tr>\n",
       "      <th>3</th>\n",
       "      <td>1f37ead645e7f0c8</td>\n",
       "      <td>cap component</td>\n",
       "      <td>upper portion</td>\n",
       "      <td>D06</td>\n",
       "    </tr>\n",
       "    <tr>\n",
       "      <th>4</th>\n",
       "      <td>71a5b6ad068d531f</td>\n",
       "      <td>neural stimulation</td>\n",
       "      <td>artificial neural network</td>\n",
       "      <td>H04</td>\n",
       "    </tr>\n",
       "  </tbody>\n",
       "</table>\n",
       "</div>"
      ],
      "text/plain": [
       "                 id              anchor                         target context\n",
       "0  4112d61851461f60            opc drum  inorganic photoconductor drum     G02\n",
       "1  09e418c93a776564     adjust gas flow              altering gas flow     F23\n",
       "2  36baf228038e314b      lower trunnion                 lower locating     B60\n",
       "3  1f37ead645e7f0c8       cap component                  upper portion     D06\n",
       "4  71a5b6ad068d531f  neural stimulation      artificial neural network     H04"
      ]
     },
     "execution_count": 3,
     "metadata": {},
     "output_type": "execute_result"
    }
   ],
   "source": [
    "test = pd.read_csv(\"../input/us-patent-phrase-to-phrase-matching/test.csv\")\n",
    "test.head()"
   ]
  },
  {
   "cell_type": "markdown",
   "id": "12ce8bd5",
   "metadata": {},
   "source": [
    "`title` dataset holds the actual training dataset"
   ]
  },
  {
   "cell_type": "code",
   "execution_count": 4,
   "id": "ac72bfbd",
   "metadata": {
    "execution": {
     "iopub.execute_input": "2022-05-05T10:01:08.318777Z",
     "iopub.status.busy": "2022-05-05T10:01:08.318063Z",
     "iopub.status.idle": "2022-05-05T10:01:09.040347Z",
     "shell.execute_reply": "2022-05-05T10:01:09.039454Z"
    },
    "papermill": {
     "duration": 0.749153,
     "end_time": "2022-05-05T10:01:09.042629",
     "exception": false,
     "start_time": "2022-05-05T10:01:08.293476",
     "status": "completed"
    },
    "tags": []
   },
   "outputs": [
    {
     "data": {
      "text/html": [
       "<div>\n",
       "<style scoped>\n",
       "    .dataframe tbody tr th:only-of-type {\n",
       "        vertical-align: middle;\n",
       "    }\n",
       "\n",
       "    .dataframe tbody tr th {\n",
       "        vertical-align: top;\n",
       "    }\n",
       "\n",
       "    .dataframe thead th {\n",
       "        text-align: right;\n",
       "    }\n",
       "</style>\n",
       "<table border=\"1\" class=\"dataframe\">\n",
       "  <thead>\n",
       "    <tr style=\"text-align: right;\">\n",
       "      <th></th>\n",
       "      <th>code</th>\n",
       "      <th>title</th>\n",
       "      <th>section</th>\n",
       "      <th>class</th>\n",
       "      <th>subclass</th>\n",
       "      <th>group</th>\n",
       "      <th>main_group</th>\n",
       "    </tr>\n",
       "  </thead>\n",
       "  <tbody>\n",
       "    <tr>\n",
       "      <th>0</th>\n",
       "      <td>A</td>\n",
       "      <td>HUMAN NECESSITIES</td>\n",
       "      <td>A</td>\n",
       "      <td>NaN</td>\n",
       "      <td>NaN</td>\n",
       "      <td>NaN</td>\n",
       "      <td>NaN</td>\n",
       "    </tr>\n",
       "    <tr>\n",
       "      <th>1</th>\n",
       "      <td>A01</td>\n",
       "      <td>AGRICULTURE; FORESTRY; ANIMAL HUSBANDRY; HUNTI...</td>\n",
       "      <td>A</td>\n",
       "      <td>1.0</td>\n",
       "      <td>NaN</td>\n",
       "      <td>NaN</td>\n",
       "      <td>NaN</td>\n",
       "    </tr>\n",
       "    <tr>\n",
       "      <th>2</th>\n",
       "      <td>A01B</td>\n",
       "      <td>SOIL WORKING IN AGRICULTURE OR FORESTRY; PARTS...</td>\n",
       "      <td>A</td>\n",
       "      <td>1.0</td>\n",
       "      <td>B</td>\n",
       "      <td>NaN</td>\n",
       "      <td>NaN</td>\n",
       "    </tr>\n",
       "    <tr>\n",
       "      <th>3</th>\n",
       "      <td>A01B1/00</td>\n",
       "      <td>Hand tools (edge trimmers for lawns A01G3/06  ...</td>\n",
       "      <td>A</td>\n",
       "      <td>1.0</td>\n",
       "      <td>B</td>\n",
       "      <td>1.0</td>\n",
       "      <td>0.0</td>\n",
       "    </tr>\n",
       "    <tr>\n",
       "      <th>4</th>\n",
       "      <td>A01B1/02</td>\n",
       "      <td>Spades; Shovels {(hand-operated dredgers E02F3...</td>\n",
       "      <td>A</td>\n",
       "      <td>1.0</td>\n",
       "      <td>B</td>\n",
       "      <td>1.0</td>\n",
       "      <td>2.0</td>\n",
       "    </tr>\n",
       "  </tbody>\n",
       "</table>\n",
       "</div>"
      ],
      "text/plain": [
       "       code                                              title section  class  \\\n",
       "0         A                                  HUMAN NECESSITIES       A    NaN   \n",
       "1       A01  AGRICULTURE; FORESTRY; ANIMAL HUSBANDRY; HUNTI...       A    1.0   \n",
       "2      A01B  SOIL WORKING IN AGRICULTURE OR FORESTRY; PARTS...       A    1.0   \n",
       "3  A01B1/00  Hand tools (edge trimmers for lawns A01G3/06  ...       A    1.0   \n",
       "4  A01B1/02  Spades; Shovels {(hand-operated dredgers E02F3...       A    1.0   \n",
       "\n",
       "  subclass  group  main_group  \n",
       "0      NaN    NaN         NaN  \n",
       "1      NaN    NaN         NaN  \n",
       "2        B    NaN         NaN  \n",
       "3        B    1.0         0.0  \n",
       "4        B    1.0         2.0  "
      ]
     },
     "execution_count": 4,
     "metadata": {},
     "output_type": "execute_result"
    }
   ],
   "source": [
    "title = pd.read_csv(\"../input/cpc-codes/titles.csv\")\n",
    "title.head()"
   ]
  },
  {
   "cell_type": "markdown",
   "id": "8d092c24",
   "metadata": {},
   "source": [
    "Modifying the `test` dataset: adding a column of the *title*, which hold the details of the *context* column."
   ]
  },
  {
   "cell_type": "code",
   "execution_count": 5,
   "id": "74175d40",
   "metadata": {
    "execution": {
     "iopub.execute_input": "2022-05-05T10:01:09.092264Z",
     "iopub.status.busy": "2022-05-05T10:01:09.092021Z",
     "iopub.status.idle": "2022-05-05T10:01:09.221192Z",
     "shell.execute_reply": "2022-05-05T10:01:09.220080Z"
    },
    "papermill": {
     "duration": 0.156247,
     "end_time": "2022-05-05T10:01:09.224167",
     "exception": false,
     "start_time": "2022-05-05T10:01:09.067920",
     "status": "completed"
    },
    "tags": []
   },
   "outputs": [
    {
     "data": {
      "text/html": [
       "<div>\n",
       "<style scoped>\n",
       "    .dataframe tbody tr th:only-of-type {\n",
       "        vertical-align: middle;\n",
       "    }\n",
       "\n",
       "    .dataframe tbody tr th {\n",
       "        vertical-align: top;\n",
       "    }\n",
       "\n",
       "    .dataframe thead th {\n",
       "        text-align: right;\n",
       "    }\n",
       "</style>\n",
       "<table border=\"1\" class=\"dataframe\">\n",
       "  <thead>\n",
       "    <tr style=\"text-align: right;\">\n",
       "      <th></th>\n",
       "      <th>id</th>\n",
       "      <th>anchor</th>\n",
       "      <th>target</th>\n",
       "      <th>context</th>\n",
       "      <th>code</th>\n",
       "      <th>title</th>\n",
       "    </tr>\n",
       "  </thead>\n",
       "  <tbody>\n",
       "    <tr>\n",
       "      <th>0</th>\n",
       "      <td>4112d61851461f60</td>\n",
       "      <td>opc drum</td>\n",
       "      <td>inorganic photoconductor drum</td>\n",
       "      <td>G02</td>\n",
       "      <td>G02</td>\n",
       "      <td>OPTICS</td>\n",
       "    </tr>\n",
       "    <tr>\n",
       "      <th>1</th>\n",
       "      <td>09e418c93a776564</td>\n",
       "      <td>adjust gas flow</td>\n",
       "      <td>altering gas flow</td>\n",
       "      <td>F23</td>\n",
       "      <td>F23</td>\n",
       "      <td>COMBUSTION APPARATUS; COMBUSTION PROCESSES</td>\n",
       "    </tr>\n",
       "    <tr>\n",
       "      <th>2</th>\n",
       "      <td>36baf228038e314b</td>\n",
       "      <td>lower trunnion</td>\n",
       "      <td>lower locating</td>\n",
       "      <td>B60</td>\n",
       "      <td>B60</td>\n",
       "      <td>VEHICLES IN GENERAL</td>\n",
       "    </tr>\n",
       "    <tr>\n",
       "      <th>3</th>\n",
       "      <td>1f37ead645e7f0c8</td>\n",
       "      <td>cap component</td>\n",
       "      <td>upper portion</td>\n",
       "      <td>D06</td>\n",
       "      <td>D06</td>\n",
       "      <td>TREATMENT OF TEXTILES OR THE LIKE; LAUNDERING;...</td>\n",
       "    </tr>\n",
       "    <tr>\n",
       "      <th>4</th>\n",
       "      <td>71a5b6ad068d531f</td>\n",
       "      <td>neural stimulation</td>\n",
       "      <td>artificial neural network</td>\n",
       "      <td>H04</td>\n",
       "      <td>H04</td>\n",
       "      <td>ELECTRIC COMMUNICATION TECHNIQUE</td>\n",
       "    </tr>\n",
       "  </tbody>\n",
       "</table>\n",
       "</div>"
      ],
      "text/plain": [
       "                 id              anchor                         target  \\\n",
       "0  4112d61851461f60            opc drum  inorganic photoconductor drum   \n",
       "1  09e418c93a776564     adjust gas flow              altering gas flow   \n",
       "2  36baf228038e314b      lower trunnion                 lower locating   \n",
       "3  1f37ead645e7f0c8       cap component                  upper portion   \n",
       "4  71a5b6ad068d531f  neural stimulation      artificial neural network   \n",
       "\n",
       "  context code                                              title  \n",
       "0     G02  G02                                             OPTICS  \n",
       "1     F23  F23         COMBUSTION APPARATUS; COMBUSTION PROCESSES  \n",
       "2     B60  B60                                VEHICLES IN GENERAL  \n",
       "3     D06  D06  TREATMENT OF TEXTILES OR THE LIKE; LAUNDERING;...  \n",
       "4     H04  H04                   ELECTRIC COMMUNICATION TECHNIQUE  "
      ]
     },
     "execution_count": 5,
     "metadata": {},
     "output_type": "execute_result"
    }
   ],
   "source": [
    "test = pd.merge(test, title[[\"code\",\"title\"]], \n",
    "                 left_on = \"context\", right_on = \"code\",\n",
    "                 how='left')\n",
    "test.head()"
   ]
  },
  {
   "cell_type": "markdown",
   "id": "9058ad32",
   "metadata": {},
   "source": [
    "Dropping the *context* column from the `test` dataset because the *code* already withold the same information"
   ]
  },
  {
   "cell_type": "code",
   "execution_count": 6,
   "id": "b81012fa",
   "metadata": {
    "execution": {
     "iopub.execute_input": "2022-05-05T10:01:09.273521Z",
     "iopub.status.busy": "2022-05-05T10:01:09.273250Z",
     "iopub.status.idle": "2022-05-05T10:01:09.287581Z",
     "shell.execute_reply": "2022-05-05T10:01:09.286201Z"
    },
    "papermill": {
     "duration": 0.042788,
     "end_time": "2022-05-05T10:01:09.290670",
     "exception": false,
     "start_time": "2022-05-05T10:01:09.247882",
     "status": "completed"
    },
    "tags": []
   },
   "outputs": [
    {
     "data": {
      "text/html": [
       "<div>\n",
       "<style scoped>\n",
       "    .dataframe tbody tr th:only-of-type {\n",
       "        vertical-align: middle;\n",
       "    }\n",
       "\n",
       "    .dataframe tbody tr th {\n",
       "        vertical-align: top;\n",
       "    }\n",
       "\n",
       "    .dataframe thead th {\n",
       "        text-align: right;\n",
       "    }\n",
       "</style>\n",
       "<table border=\"1\" class=\"dataframe\">\n",
       "  <thead>\n",
       "    <tr style=\"text-align: right;\">\n",
       "      <th></th>\n",
       "      <th>id</th>\n",
       "      <th>anchor</th>\n",
       "      <th>target</th>\n",
       "      <th>code</th>\n",
       "      <th>title</th>\n",
       "    </tr>\n",
       "  </thead>\n",
       "  <tbody>\n",
       "    <tr>\n",
       "      <th>0</th>\n",
       "      <td>4112d61851461f60</td>\n",
       "      <td>opc drum</td>\n",
       "      <td>inorganic photoconductor drum</td>\n",
       "      <td>G02</td>\n",
       "      <td>OPTICS</td>\n",
       "    </tr>\n",
       "    <tr>\n",
       "      <th>1</th>\n",
       "      <td>09e418c93a776564</td>\n",
       "      <td>adjust gas flow</td>\n",
       "      <td>altering gas flow</td>\n",
       "      <td>F23</td>\n",
       "      <td>COMBUSTION APPARATUS; COMBUSTION PROCESSES</td>\n",
       "    </tr>\n",
       "    <tr>\n",
       "      <th>2</th>\n",
       "      <td>36baf228038e314b</td>\n",
       "      <td>lower trunnion</td>\n",
       "      <td>lower locating</td>\n",
       "      <td>B60</td>\n",
       "      <td>VEHICLES IN GENERAL</td>\n",
       "    </tr>\n",
       "    <tr>\n",
       "      <th>3</th>\n",
       "      <td>1f37ead645e7f0c8</td>\n",
       "      <td>cap component</td>\n",
       "      <td>upper portion</td>\n",
       "      <td>D06</td>\n",
       "      <td>TREATMENT OF TEXTILES OR THE LIKE; LAUNDERING;...</td>\n",
       "    </tr>\n",
       "    <tr>\n",
       "      <th>4</th>\n",
       "      <td>71a5b6ad068d531f</td>\n",
       "      <td>neural stimulation</td>\n",
       "      <td>artificial neural network</td>\n",
       "      <td>H04</td>\n",
       "      <td>ELECTRIC COMMUNICATION TECHNIQUE</td>\n",
       "    </tr>\n",
       "  </tbody>\n",
       "</table>\n",
       "</div>"
      ],
      "text/plain": [
       "                 id              anchor                         target code  \\\n",
       "0  4112d61851461f60            opc drum  inorganic photoconductor drum  G02   \n",
       "1  09e418c93a776564     adjust gas flow              altering gas flow  F23   \n",
       "2  36baf228038e314b      lower trunnion                 lower locating  B60   \n",
       "3  1f37ead645e7f0c8       cap component                  upper portion  D06   \n",
       "4  71a5b6ad068d531f  neural stimulation      artificial neural network  H04   \n",
       "\n",
       "                                               title  \n",
       "0                                             OPTICS  \n",
       "1         COMBUSTION APPARATUS; COMBUSTION PROCESSES  \n",
       "2                                VEHICLES IN GENERAL  \n",
       "3  TREATMENT OF TEXTILES OR THE LIKE; LAUNDERING;...  \n",
       "4                   ELECTRIC COMMUNICATION TECHNIQUE  "
      ]
     },
     "execution_count": 6,
     "metadata": {},
     "output_type": "execute_result"
    }
   ],
   "source": [
    "test = test.drop([\"context\"],axis=1)\n",
    "test.head()"
   ]
  },
  {
   "cell_type": "code",
   "execution_count": 7,
   "id": "171c5994",
   "metadata": {
    "execution": {
     "iopub.execute_input": "2022-05-05T10:01:09.342177Z",
     "iopub.status.busy": "2022-05-05T10:01:09.341900Z",
     "iopub.status.idle": "2022-05-05T10:01:09.355714Z",
     "shell.execute_reply": "2022-05-05T10:01:09.354822Z"
    },
    "papermill": {
     "duration": 0.041247,
     "end_time": "2022-05-05T10:01:09.357676",
     "exception": false,
     "start_time": "2022-05-05T10:01:09.316429",
     "status": "completed"
    },
    "tags": []
   },
   "outputs": [
    {
     "data": {
      "text/html": [
       "<div>\n",
       "<style scoped>\n",
       "    .dataframe tbody tr th:only-of-type {\n",
       "        vertical-align: middle;\n",
       "    }\n",
       "\n",
       "    .dataframe tbody tr th {\n",
       "        vertical-align: top;\n",
       "    }\n",
       "\n",
       "    .dataframe thead th {\n",
       "        text-align: right;\n",
       "    }\n",
       "</style>\n",
       "<table border=\"1\" class=\"dataframe\">\n",
       "  <thead>\n",
       "    <tr style=\"text-align: right;\">\n",
       "      <th></th>\n",
       "      <th>id</th>\n",
       "      <th>anchor</th>\n",
       "      <th>target</th>\n",
       "      <th>code</th>\n",
       "      <th>title</th>\n",
       "    </tr>\n",
       "  </thead>\n",
       "  <tbody>\n",
       "    <tr>\n",
       "      <th>0</th>\n",
       "      <td>4112d61851461f60</td>\n",
       "      <td>opc drum</td>\n",
       "      <td>inorganic photoconductor drum</td>\n",
       "      <td>G02</td>\n",
       "      <td>OPTICS</td>\n",
       "    </tr>\n",
       "    <tr>\n",
       "      <th>1</th>\n",
       "      <td>09e418c93a776564</td>\n",
       "      <td>adjust gas flow</td>\n",
       "      <td>altering gas flow</td>\n",
       "      <td>F23</td>\n",
       "      <td>COMBUSTION APPARATUS; COMBUSTION PROCESSES</td>\n",
       "    </tr>\n",
       "    <tr>\n",
       "      <th>2</th>\n",
       "      <td>36baf228038e314b</td>\n",
       "      <td>lower trunnion</td>\n",
       "      <td>lower locating</td>\n",
       "      <td>B60</td>\n",
       "      <td>VEHICLES IN GENERAL</td>\n",
       "    </tr>\n",
       "    <tr>\n",
       "      <th>3</th>\n",
       "      <td>1f37ead645e7f0c8</td>\n",
       "      <td>cap component</td>\n",
       "      <td>upper portion</td>\n",
       "      <td>D06</td>\n",
       "      <td>TREATMENT OF TEXTILES OR THE LIKE; LAUNDERING;...</td>\n",
       "    </tr>\n",
       "    <tr>\n",
       "      <th>4</th>\n",
       "      <td>71a5b6ad068d531f</td>\n",
       "      <td>neural stimulation</td>\n",
       "      <td>artificial neural network</td>\n",
       "      <td>H04</td>\n",
       "      <td>ELECTRIC COMMUNICATION TECHNIQUE</td>\n",
       "    </tr>\n",
       "  </tbody>\n",
       "</table>\n",
       "</div>"
      ],
      "text/plain": [
       "                 id              anchor                         target code  \\\n",
       "0  4112d61851461f60            opc drum  inorganic photoconductor drum  G02   \n",
       "1  09e418c93a776564     adjust gas flow              altering gas flow  F23   \n",
       "2  36baf228038e314b      lower trunnion                 lower locating  B60   \n",
       "3  1f37ead645e7f0c8       cap component                  upper portion  D06   \n",
       "4  71a5b6ad068d531f  neural stimulation      artificial neural network  H04   \n",
       "\n",
       "                                               title  \n",
       "0                                             OPTICS  \n",
       "1         COMBUSTION APPARATUS; COMBUSTION PROCESSES  \n",
       "2                                VEHICLES IN GENERAL  \n",
       "3  TREATMENT OF TEXTILES OR THE LIKE; LAUNDERING;...  \n",
       "4                   ELECTRIC COMMUNICATION TECHNIQUE  "
      ]
     },
     "execution_count": 7,
     "metadata": {},
     "output_type": "execute_result"
    }
   ],
   "source": [
    "test['anchor'] = test['anchor'].str.lower() # Lowering the letters as data preprocessing steps\n",
    "test['target'] = test['target'].str.lower() # Lowering the letters as data preprocessing steps\n",
    "test.head()"
   ]
  },
  {
   "cell_type": "code",
   "execution_count": 8,
   "id": "6b1a04e2",
   "metadata": {
    "execution": {
     "iopub.execute_input": "2022-05-05T10:01:09.410409Z",
     "iopub.status.busy": "2022-05-05T10:01:09.408891Z",
     "iopub.status.idle": "2022-05-05T10:01:09.425394Z",
     "shell.execute_reply": "2022-05-05T10:01:09.424584Z"
    },
    "papermill": {
     "duration": 0.043707,
     "end_time": "2022-05-05T10:01:09.427427",
     "exception": false,
     "start_time": "2022-05-05T10:01:09.383720",
     "status": "completed"
    },
    "tags": []
   },
   "outputs": [
    {
     "data": {
      "text/html": [
       "<div>\n",
       "<style scoped>\n",
       "    .dataframe tbody tr th:only-of-type {\n",
       "        vertical-align: middle;\n",
       "    }\n",
       "\n",
       "    .dataframe tbody tr th {\n",
       "        vertical-align: top;\n",
       "    }\n",
       "\n",
       "    .dataframe thead th {\n",
       "        text-align: right;\n",
       "    }\n",
       "</style>\n",
       "<table border=\"1\" class=\"dataframe\">\n",
       "  <thead>\n",
       "    <tr style=\"text-align: right;\">\n",
       "      <th></th>\n",
       "      <th>id</th>\n",
       "      <th>anchor</th>\n",
       "      <th>target</th>\n",
       "      <th>code</th>\n",
       "      <th>title</th>\n",
       "    </tr>\n",
       "  </thead>\n",
       "  <tbody>\n",
       "    <tr>\n",
       "      <th>0</th>\n",
       "      <td>4112d61851461f60</td>\n",
       "      <td>opc drum</td>\n",
       "      <td>inorganic photoconductor drum</td>\n",
       "      <td>G02</td>\n",
       "      <td>OPTICS</td>\n",
       "    </tr>\n",
       "    <tr>\n",
       "      <th>1</th>\n",
       "      <td>09e418c93a776564</td>\n",
       "      <td>adjust gas flow</td>\n",
       "      <td>altering gas flow</td>\n",
       "      <td>F23</td>\n",
       "      <td>COMBUSTION APPARATUS; COMBUSTION PROCESSES</td>\n",
       "    </tr>\n",
       "    <tr>\n",
       "      <th>2</th>\n",
       "      <td>36baf228038e314b</td>\n",
       "      <td>lower trunnion</td>\n",
       "      <td>lower locating</td>\n",
       "      <td>B60</td>\n",
       "      <td>VEHICLES IN GENERAL</td>\n",
       "    </tr>\n",
       "    <tr>\n",
       "      <th>3</th>\n",
       "      <td>1f37ead645e7f0c8</td>\n",
       "      <td>cap component</td>\n",
       "      <td>upper portion</td>\n",
       "      <td>D06</td>\n",
       "      <td>TREATMENT OF TEXTILES OR THE LIKE; LAUNDERING;...</td>\n",
       "    </tr>\n",
       "    <tr>\n",
       "      <th>4</th>\n",
       "      <td>71a5b6ad068d531f</td>\n",
       "      <td>neural stimulation</td>\n",
       "      <td>artificial neural network</td>\n",
       "      <td>H04</td>\n",
       "      <td>ELECTRIC COMMUNICATION TECHNIQUE</td>\n",
       "    </tr>\n",
       "  </tbody>\n",
       "</table>\n",
       "</div>"
      ],
      "text/plain": [
       "                 id              anchor                         target code  \\\n",
       "0  4112d61851461f60            opc drum  inorganic photoconductor drum  G02   \n",
       "1  09e418c93a776564     adjust gas flow              altering gas flow  F23   \n",
       "2  36baf228038e314b      lower trunnion                 lower locating  B60   \n",
       "3  1f37ead645e7f0c8       cap component                  upper portion  D06   \n",
       "4  71a5b6ad068d531f  neural stimulation      artificial neural network  H04   \n",
       "\n",
       "                                               title  \n",
       "0                                             OPTICS  \n",
       "1         COMBUSTION APPARATUS; COMBUSTION PROCESSES  \n",
       "2                                VEHICLES IN GENERAL  \n",
       "3  TREATMENT OF TEXTILES OR THE LIKE; LAUNDERING;...  \n",
       "4                   ELECTRIC COMMUNICATION TECHNIQUE  "
      ]
     },
     "execution_count": 8,
     "metadata": {},
     "output_type": "execute_result"
    }
   ],
   "source": [
    "test['anchor'] = test['anchor'].str.replace('[^\\w\\s]','',regex=True) # Removing punctuation as data preprocessing steps\n",
    "test['target'] = test['target'].str.replace('[^\\w\\s]','',regex=True) # Removing punctuation as data preprocessing steps\n",
    "test.head()"
   ]
  },
  {
   "cell_type": "code",
   "execution_count": 9,
   "id": "4e2bea59",
   "metadata": {
    "execution": {
     "iopub.execute_input": "2022-05-05T10:01:09.493250Z",
     "iopub.status.busy": "2022-05-05T10:01:09.493009Z",
     "iopub.status.idle": "2022-05-05T10:01:09.498793Z",
     "shell.execute_reply": "2022-05-05T10:01:09.497907Z"
    },
    "papermill": {
     "duration": 0.047649,
     "end_time": "2022-05-05T10:01:09.501061",
     "exception": false,
     "start_time": "2022-05-05T10:01:09.453412",
     "status": "completed"
    },
    "tags": []
   },
   "outputs": [],
   "source": [
    "import re\n",
    "test[\"title\"] = test[\"title\"].apply(lambda x:re.sub('[;,]', '', x)) # Removing specified characters as data preprocessing steps"
   ]
  },
  {
   "cell_type": "code",
   "execution_count": 10,
   "id": "ebd6cbbd",
   "metadata": {
    "execution": {
     "iopub.execute_input": "2022-05-05T10:01:09.553441Z",
     "iopub.status.busy": "2022-05-05T10:01:09.553243Z",
     "iopub.status.idle": "2022-05-05T10:01:09.564733Z",
     "shell.execute_reply": "2022-05-05T10:01:09.563790Z"
    },
    "papermill": {
     "duration": 0.040301,
     "end_time": "2022-05-05T10:01:09.567005",
     "exception": false,
     "start_time": "2022-05-05T10:01:09.526704",
     "status": "completed"
    },
    "tags": []
   },
   "outputs": [
    {
     "data": {
      "text/html": [
       "<div>\n",
       "<style scoped>\n",
       "    .dataframe tbody tr th:only-of-type {\n",
       "        vertical-align: middle;\n",
       "    }\n",
       "\n",
       "    .dataframe tbody tr th {\n",
       "        vertical-align: top;\n",
       "    }\n",
       "\n",
       "    .dataframe thead th {\n",
       "        text-align: right;\n",
       "    }\n",
       "</style>\n",
       "<table border=\"1\" class=\"dataframe\">\n",
       "  <thead>\n",
       "    <tr style=\"text-align: right;\">\n",
       "      <th></th>\n",
       "      <th>id</th>\n",
       "      <th>anchor</th>\n",
       "      <th>target</th>\n",
       "      <th>code</th>\n",
       "      <th>title</th>\n",
       "    </tr>\n",
       "  </thead>\n",
       "  <tbody>\n",
       "    <tr>\n",
       "      <th>0</th>\n",
       "      <td>4112d61851461f60</td>\n",
       "      <td>opc drum</td>\n",
       "      <td>inorganic photoconductor drum</td>\n",
       "      <td>G02</td>\n",
       "      <td>OPTICS</td>\n",
       "    </tr>\n",
       "    <tr>\n",
       "      <th>1</th>\n",
       "      <td>09e418c93a776564</td>\n",
       "      <td>adjust gas flow</td>\n",
       "      <td>altering gas flow</td>\n",
       "      <td>F23</td>\n",
       "      <td>COMBUSTION APPARATUS COMBUSTION PROCESSES</td>\n",
       "    </tr>\n",
       "    <tr>\n",
       "      <th>2</th>\n",
       "      <td>36baf228038e314b</td>\n",
       "      <td>lower trunnion</td>\n",
       "      <td>lower locating</td>\n",
       "      <td>B60</td>\n",
       "      <td>VEHICLES IN GENERAL</td>\n",
       "    </tr>\n",
       "    <tr>\n",
       "      <th>3</th>\n",
       "      <td>1f37ead645e7f0c8</td>\n",
       "      <td>cap component</td>\n",
       "      <td>upper portion</td>\n",
       "      <td>D06</td>\n",
       "      <td>TREATMENT OF TEXTILES OR THE LIKE LAUNDERING F...</td>\n",
       "    </tr>\n",
       "    <tr>\n",
       "      <th>4</th>\n",
       "      <td>71a5b6ad068d531f</td>\n",
       "      <td>neural stimulation</td>\n",
       "      <td>artificial neural network</td>\n",
       "      <td>H04</td>\n",
       "      <td>ELECTRIC COMMUNICATION TECHNIQUE</td>\n",
       "    </tr>\n",
       "  </tbody>\n",
       "</table>\n",
       "</div>"
      ],
      "text/plain": [
       "                 id              anchor                         target code  \\\n",
       "0  4112d61851461f60            opc drum  inorganic photoconductor drum  G02   \n",
       "1  09e418c93a776564     adjust gas flow              altering gas flow  F23   \n",
       "2  36baf228038e314b      lower trunnion                 lower locating  B60   \n",
       "3  1f37ead645e7f0c8       cap component                  upper portion  D06   \n",
       "4  71a5b6ad068d531f  neural stimulation      artificial neural network  H04   \n",
       "\n",
       "                                               title  \n",
       "0                                             OPTICS  \n",
       "1          COMBUSTION APPARATUS COMBUSTION PROCESSES  \n",
       "2                                VEHICLES IN GENERAL  \n",
       "3  TREATMENT OF TEXTILES OR THE LIKE LAUNDERING F...  \n",
       "4                   ELECTRIC COMMUNICATION TECHNIQUE  "
      ]
     },
     "execution_count": 10,
     "metadata": {},
     "output_type": "execute_result"
    }
   ],
   "source": [
    "test.head()"
   ]
  },
  {
   "cell_type": "markdown",
   "id": "9cff881e",
   "metadata": {},
   "source": [
    "# Creating the Tokenizer"
   ]
  },
  {
   "cell_type": "code",
   "execution_count": 11,
   "id": "07c44261",
   "metadata": {
    "execution": {
     "iopub.execute_input": "2022-05-05T10:01:09.622064Z",
     "iopub.status.busy": "2022-05-05T10:01:09.621328Z",
     "iopub.status.idle": "2022-05-05T10:01:10.407538Z",
     "shell.execute_reply": "2022-05-05T10:01:10.406318Z"
    },
    "papermill": {
     "duration": 0.817561,
     "end_time": "2022-05-05T10:01:10.410489",
     "exception": false,
     "start_time": "2022-05-05T10:01:09.592928",
     "status": "completed"
    },
    "tags": []
   },
   "outputs": [
    {
     "name": "stderr",
     "output_type": "stream",
     "text": [
      "Special tokens have been added in the vocabulary, make sure the associated word embeddings are fine-tuned or trained.\n"
     ]
    },
    {
     "data": {
      "text/plain": [
       "PreTrainedTokenizer(name_or_path='../input/deberta-v3-large', vocab_size=128000, model_max_len=1000000000000000019884624838656, is_fast=False, padding_side='right', truncation_side='right', special_tokens={'bos_token': '[CLS]', 'eos_token': '[SEP]', 'unk_token': '[UNK]', 'sep_token': '[SEP]', 'pad_token': '[PAD]', 'cls_token': '[CLS]', 'mask_token': '[MASK]'})"
      ]
     },
     "execution_count": 11,
     "metadata": {},
     "output_type": "execute_result"
    }
   ],
   "source": [
    "# Intializing the deberta tokenizer\n",
    "tokenizer = AutoTokenizer.from_pretrained(model_name)\n",
    "tokenizer"
   ]
  },
  {
   "cell_type": "markdown",
   "id": "2189c598",
   "metadata": {},
   "source": [
    "The `create_data` function creates the input data for the Deberta V3 Large model. If the `train_status` is *True* then the corresponding score value (`label`) is returned, which is primarily used during the training period of the model."
   ]
  },
  {
   "cell_type": "code",
   "execution_count": 12,
   "id": "7eda9a7d",
   "metadata": {
    "execution": {
     "iopub.execute_input": "2022-05-05T10:01:10.469144Z",
     "iopub.status.busy": "2022-05-05T10:01:10.468240Z",
     "iopub.status.idle": "2022-05-05T10:01:10.478387Z",
     "shell.execute_reply": "2022-05-05T10:01:10.477266Z"
    },
    "papermill": {
     "duration": 0.041958,
     "end_time": "2022-05-05T10:01:10.480869",
     "exception": false,
     "start_time": "2022-05-05T10:01:10.438911",
     "status": "completed"
    },
    "tags": []
   },
   "outputs": [],
   "source": [
    "def create_data(id_, anchor, target, code, title, score, tokenizer, max_len, train_status=True):\n",
    "    input_ids = []\n",
    "    attention_mask = []\n",
    "    token_type_ids = []\n",
    "    labels = []\n",
    "    ids = []\n",
    "    encoded_sent = tokenizer.batch_encode_plus([(k[0] + \" \" + k[2], k[1]) for k in zip(anchor,target,title)],\\\n",
    "                                                max_length = max_len,\\\n",
    "                                                padding = \"max_length\", truncation = True)\n",
    "    for i in range(len(anchor)): \n",
    "        ids.append(id_[i])\n",
    "        input_ids.append(encoded_sent['input_ids'][i])\n",
    "        attention_mask.append(encoded_sent['attention_mask'][i])\n",
    "        if train_status:\n",
    "            labels.append(score[i])\n",
    "    return {\"input_ids\":input_ids,\n",
    "            \"attention_mask\":attention_mask,\n",
    "            \"ids\":ids, \n",
    "            }, labels"
   ]
  },
  {
   "cell_type": "markdown",
   "id": "23d729f7",
   "metadata": {},
   "source": [
    "# Creating the test data, which will be used to input into the NLP model."
   ]
  },
  {
   "cell_type": "code",
   "execution_count": 13,
   "id": "934106b0",
   "metadata": {
    "execution": {
     "iopub.execute_input": "2022-05-05T10:01:10.538293Z",
     "iopub.status.busy": "2022-05-05T10:01:10.537417Z",
     "iopub.status.idle": "2022-05-05T10:01:10.563518Z",
     "shell.execute_reply": "2022-05-05T10:01:10.562436Z"
    },
    "papermill": {
     "duration": 0.056595,
     "end_time": "2022-05-05T10:01:10.565569",
     "exception": false,
     "start_time": "2022-05-05T10:01:10.508974",
     "status": "completed"
    },
    "tags": []
   },
   "outputs": [
    {
     "name": "stderr",
     "output_type": "stream",
     "text": [
      "Be aware, overflowing tokens are not returned for the setting you have chosen, i.e. sequence pairs with the 'longest_first' truncation strategy. So the returned list will always be empty even if some tokens have been removed.\n",
      "Be aware, overflowing tokens are not returned for the setting you have chosen, i.e. sequence pairs with the 'longest_first' truncation strategy. So the returned list will always be empty even if some tokens have been removed.\n",
      "Be aware, overflowing tokens are not returned for the setting you have chosen, i.e. sequence pairs with the 'longest_first' truncation strategy. So the returned list will always be empty even if some tokens have been removed.\n",
      "Be aware, overflowing tokens are not returned for the setting you have chosen, i.e. sequence pairs with the 'longest_first' truncation strategy. So the returned list will always be empty even if some tokens have been removed.\n"
     ]
    }
   ],
   "source": [
    "test_data, test_labels = create_data(test['id'].tolist(),\\\n",
    "                                   test['anchor'].tolist(),\\\n",
    "                                   test['target'].tolist(),\\\n",
    "                                   test['code'].tolist(),\\\n",
    "                                   test['title'].tolist(),\\\n",
    "                                   None, tokenizer, max_len,\\\n",
    "                                   train_status=False)"
   ]
  },
  {
   "cell_type": "markdown",
   "id": "1f353e16",
   "metadata": {},
   "source": [
    "# Creating the NLP model"
   ]
  },
  {
   "cell_type": "code",
   "execution_count": 14,
   "id": "6c16b71f",
   "metadata": {
    "execution": {
     "iopub.execute_input": "2022-05-05T10:01:10.627710Z",
     "iopub.status.busy": "2022-05-05T10:01:10.626919Z",
     "iopub.status.idle": "2022-05-05T10:01:10.640163Z",
     "shell.execute_reply": "2022-05-05T10:01:10.639187Z"
    },
    "papermill": {
     "duration": 0.047004,
     "end_time": "2022-05-05T10:01:10.642502",
     "exception": false,
     "start_time": "2022-05-05T10:01:10.595498",
     "status": "completed"
    },
    "tags": []
   },
   "outputs": [],
   "source": [
    "def build_model(model_name, MAX_LEN):\n",
    "    \n",
    "    input__ids = tf.keras.Input(shape=(MAX_LEN, ), dtype = tf.int32)\n",
    "    input__mask = tf.keras.Input(shape=(MAX_LEN, ), dtype = tf.int32)\n",
    "    config = AutoConfig.from_pretrained(model_name, output_hidden_states=True)\n",
    "    transformer = TFAutoModel.from_pretrained(model_name, trainable=True)\n",
    "    x = transformer(input_ids = input__ids, \n",
    "                      attention_mask = input__mask)\n",
    "    #print(x.last_hidden_state)\n",
    "    #x = tf.keras.layers.GlobalAveragePooling1D()(x.last_hidden_state)\n",
    "    x = tf.keras.layers.Dropout(config.hidden_dropout_prob)(x.last_hidden_state)\n",
    "    x=tf.keras.layers.Dense(2*config.hidden_size,\\\n",
    "                            kernel_initializer= \\\n",
    "                            tf.keras.initializers.RandomNormal(mean=0.0,\\\n",
    "                                                               stddev=config.initializer_range),\n",
    "                            activation='relu')(x)\n",
    "    x = tf.keras.layers.Dropout(2*config.hidden_dropout_prob)(x)\n",
    "    x=tf.keras.layers.Dense(2*config.hidden_size,\\\n",
    "                            kernel_initializer= \\\n",
    "                            tf.keras.initializers.RandomNormal(mean=0.0,\\\n",
    "                                                               stddev=config.initializer_range))(x)\n",
    "    x = tf.keras.layers.GlobalAveragePooling1D()(x)\n",
    "\n",
    "    fnl = tf.keras.layers.Dense(1)(x)\n",
    "    \n",
    "    model = tf.keras.Model(inputs = [input__ids, input__mask], \n",
    "                           outputs = fnl)\n",
    "    model.compile(optimizer = tf.keras.optimizers.Adam(learning_rate=LR), loss = \"mse\")\n",
    "    return model"
   ]
  },
  {
   "cell_type": "markdown",
   "id": "265b9339",
   "metadata": {},
   "source": [
    "# Creating the callback Pearson Correlation coefficient as a tracking metrics for the model"
   ]
  },
  {
   "cell_type": "code",
   "execution_count": 15,
   "id": "bd76be0c",
   "metadata": {
    "execution": {
     "iopub.execute_input": "2022-05-05T10:01:10.703966Z",
     "iopub.status.busy": "2022-05-05T10:01:10.703686Z",
     "iopub.status.idle": "2022-05-05T10:01:12.201560Z",
     "shell.execute_reply": "2022-05-05T10:01:12.200262Z"
    },
    "papermill": {
     "duration": 1.531769,
     "end_time": "2022-05-05T10:01:12.204087",
     "exception": false,
     "start_time": "2022-05-05T10:01:10.672318",
     "status": "completed"
    },
    "tags": []
   },
   "outputs": [],
   "source": [
    "from scipy.stats import pearsonr\n",
    "\n",
    "class PearsonCallback(tf.keras.callbacks.Callback):\n",
    "    def __init__(self, val_data):\n",
    "    #    pass\n",
    "        #print(dir(self.model))\n",
    "        self.X_val, self.Y_val = val_data\n",
    "    #def on_epoch_start(self,epoch):\n",
    "    #    print(f\"Learning rate: {self.model.optimize.learning_rate}\")\n",
    "    def on_epoch_end(self, epoch, logs):\n",
    "        X_val_preds = self.model.predict(self.X_val)\n",
    "        #print(X_val_preds.shape,self.Y_val.shape)\n",
    "        pearson_corr = pearsonr(X_val_preds.ravel(), self.Y_val)\n",
    "        print(\"pearsonr_val (from log) =\", pearson_corr[0])\n",
    "        logs[\"val_pearsonr\"] = pearson_corr[0]"
   ]
  },
  {
   "cell_type": "markdown",
   "id": "bf4c3259",
   "metadata": {},
   "source": [
    "`scheduler` is the rate at which the learning rate will change in each epoch."
   ]
  },
  {
   "cell_type": "code",
   "execution_count": 16,
   "id": "915c1287",
   "metadata": {
    "execution": {
     "iopub.execute_input": "2022-05-05T10:01:12.301444Z",
     "iopub.status.busy": "2022-05-05T10:01:12.301103Z",
     "iopub.status.idle": "2022-05-05T10:01:12.741886Z",
     "shell.execute_reply": "2022-05-05T10:01:12.738986Z"
    },
    "papermill": {
     "duration": 0.506173,
     "end_time": "2022-05-05T10:01:12.744700",
     "exception": false,
     "start_time": "2022-05-05T10:01:12.238527",
     "status": "completed"
    },
    "tags": []
   },
   "outputs": [
    {
     "data": {
      "text/plain": [
       "[<matplotlib.lines.Line2D at 0x7fae08f6c850>]"
      ]
     },
     "execution_count": 16,
     "metadata": {},
     "output_type": "execute_result"
    },
    {
     "data": {
      "image/png": "[encoded data removed]",
      "text/plain": [
       "<Figure size 432x288 with 1 Axes>"
      ]
     },
     "metadata": {
      "needs_background": "light"
     },
     "output_type": "display_data"
    }
   ],
   "source": [
    "import matplotlib.pyplot as plt\n",
    "\n",
    "def scheduler(epoch):\n",
    "    learning_rate = LR\n",
    "    if epoch == 0:\n",
    "        return learning_rate * 0.05\n",
    "    else:\n",
    "        return learning_rate * (0.8**epoch)\n",
    "    \n",
    "callback_lr = tf.keras.callbacks.LearningRateScheduler(scheduler)\n",
    "\n",
    "plt.plot([scheduler(e) for e in range(NUM_EPOCHS)])"
   ]
  },
  {
   "cell_type": "markdown",
   "id": "98082c40",
   "metadata": {},
   "source": [
    "# Intializing the Deberta V3 Large Model"
   ]
  },
  {
   "cell_type": "code",
   "execution_count": 17,
   "id": "27ccfd0a",
   "metadata": {
    "execution": {
     "iopub.execute_input": "2022-05-05T10:01:12.938498Z",
     "iopub.status.busy": "2022-05-05T10:01:12.938124Z",
     "iopub.status.idle": "2022-05-05T10:01:54.713071Z",
     "shell.execute_reply": "2022-05-05T10:01:54.711991Z"
    },
    "papermill": {
     "duration": 41.895023,
     "end_time": "2022-05-05T10:01:54.715883",
     "exception": false,
     "start_time": "2022-05-05T10:01:12.820860",
     "status": "completed"
    },
    "tags": []
   },
   "outputs": [
    {
     "name": "stderr",
     "output_type": "stream",
     "text": [
      "2022-05-05 10:01:13.274421: I tensorflow/stream_executor/cuda/cuda_gpu_executor.cc:937] successful NUMA node read from SysFS had negative value (-1), but there must be at least one NUMA node, so returning NUMA node zero\n",
      "2022-05-05 10:01:13.276293: I tensorflow/stream_executor/cuda/cuda_gpu_executor.cc:937] successful NUMA node read from SysFS had negative value (-1), but there must be at least one NUMA node, so returning NUMA node zero\n",
      "2022-05-05 10:01:13.278978: I tensorflow/stream_executor/cuda/cuda_gpu_executor.cc:937] successful NUMA node read from SysFS had negative value (-1), but there must be at least one NUMA node, so returning NUMA node zero\n",
      "2022-05-05 10:01:13.292057: I tensorflow/core/platform/cpu_feature_guard.cc:142] This TensorFlow binary is optimized with oneAPI Deep Neural Network Library (oneDNN) to use the following CPU instructions in performance-critical operations:  AVX2 FMA\n",
      "To enable them in other operations, rebuild TensorFlow with the appropriate compiler flags.\n",
      "2022-05-05 10:01:13.292413: I tensorflow/stream_executor/cuda/cuda_gpu_executor.cc:937] successful NUMA node read from SysFS had negative value (-1), but there must be at least one NUMA node, so returning NUMA node zero\n",
      "2022-05-05 10:01:13.293692: I tensorflow/stream_executor/cuda/cuda_gpu_executor.cc:937] successful NUMA node read from SysFS had negative value (-1), but there must be at least one NUMA node, so returning NUMA node zero\n",
      "2022-05-05 10:01:13.298050: I tensorflow/stream_executor/cuda/cuda_gpu_executor.cc:937] successful NUMA node read from SysFS had negative value (-1), but there must be at least one NUMA node, so returning NUMA node zero\n",
      "2022-05-05 10:01:18.431577: I tensorflow/stream_executor/cuda/cuda_gpu_executor.cc:937] successful NUMA node read from SysFS had negative value (-1), but there must be at least one NUMA node, so returning NUMA node zero\n",
      "2022-05-05 10:01:18.432692: I tensorflow/stream_executor/cuda/cuda_gpu_executor.cc:937] successful NUMA node read from SysFS had negative value (-1), but there must be at least one NUMA node, so returning NUMA node zero\n",
      "2022-05-05 10:01:18.433534: I tensorflow/stream_executor/cuda/cuda_gpu_executor.cc:937] successful NUMA node read from SysFS had negative value (-1), but there must be at least one NUMA node, so returning NUMA node zero\n",
      "2022-05-05 10:01:18.435141: I tensorflow/core/common_runtime/gpu/gpu_device.cc:1510] Created device /job:localhost/replica:0/task:0/device:GPU:0 with 14969 MB memory:  -> device: 0, name: Tesla P100-PCIE-16GB, pci bus id: 0000:00:04.0, compute capability: 6.0\n",
      "All model checkpoint layers were used when initializing TFDebertaV2Model.\n",
      "\n",
      "All the layers of TFDebertaV2Model were initialized from the model checkpoint at ../input/deberta-v3-large.\n",
      "If your task is similar to the task the model of the checkpoint was trained on, you can already use TFDebertaV2Model for predictions without further training.\n"
     ]
    }
   ],
   "source": [
    "model = build_model(model_name, max_len)"
   ]
  },
  {
   "cell_type": "markdown",
   "id": "d8c05346",
   "metadata": {},
   "source": [
    "# Generating the score value for the test set\n",
    "In the notebook, **new-tensorflow-deberta-v3-large-model-uspppm** we have trained and saved different models on different dataset folds. Now we predict the score value for the test dataset from each of the training folds, and finally write down the mean for each sample of the test set.   "
   ]
  },
  {
   "cell_type": "code",
   "execution_count": 18,
   "id": "04fdb608",
   "metadata": {
    "execution": {
     "iopub.execute_input": "2022-05-05T10:01:54.781911Z",
     "iopub.status.busy": "2022-05-05T10:01:54.781689Z",
     "iopub.status.idle": "2022-05-05T10:03:08.277454Z",
     "shell.execute_reply": "2022-05-05T10:03:08.276478Z"
    },
    "papermill": {
     "duration": 73.563377,
     "end_time": "2022-05-05T10:03:08.311651",
     "exception": false,
     "start_time": "2022-05-05T10:01:54.748274",
     "status": "completed"
    },
    "tags": []
   },
   "outputs": [
    {
     "name": "stderr",
     "output_type": "stream",
     "text": [
      "2022-05-05 10:02:09.174930: I tensorflow/compiler/mlir/mlir_graph_optimization_pass.cc:185] None of the MLIR Optimization Passes are enabled (registered 2)\n"
     ]
    },
    {
     "data": {
      "text/plain": [
       "array([ 0.49260563,  0.6887337 ,  0.51726794,  0.19416131, -0.04635803,\n",
       "        0.44849274,  0.4479335 , -0.05245592,  0.28675613,  1.1416916 ,\n",
       "        0.17254221,  0.24643686,  0.7722764 ,  0.93151134,  0.7539686 ,\n",
       "        0.27093008,  0.25349414, -0.04630439,  0.49479356,  0.2703356 ,\n",
       "        0.41052246,  0.23741607, -0.01034431,  0.21066287,  0.5374259 ,\n",
       "       -0.04611911, -0.02894833, -0.04408982, -0.04906857,  0.600369  ,\n",
       "        0.1300444 , -0.01999174,  0.66389924,  0.5410953 ,  0.26922172,\n",
       "        0.18724379], dtype=float32)"
      ]
     },
     "execution_count": 18,
     "metadata": {},
     "output_type": "execute_result"
    }
   ],
   "source": [
    "predictions = []\n",
    "for fld in range(1,fold):\n",
    "    model.load_weights(f\"../input/new-tensorflow-deberta-v3-large-model-uspppm/new2_deberta_v3large_patent_{fld}.h5\")\n",
    "    test_preds = model.predict((np.asarray(test_data['input_ids']),\n",
    "                                np.asarray(test_data['attention_mask']),\n",
    "                               #np.asarray(test_data['token_type_ids']),\n",
    "                               ))\n",
    "    prediction = test_preds.reshape(-1)\n",
    "    predictions.append(prediction)\n",
    "predictions = np.mean(predictions, axis=0)\n",
    "predictions"
   ]
  },
  {
   "cell_type": "markdown",
   "id": "b94aa5fd",
   "metadata": {},
   "source": [
    "# Generating the Submission File"
   ]
  },
  {
   "cell_type": "code",
   "execution_count": 19,
   "id": "c0f170ac",
   "metadata": {
    "execution": {
     "iopub.execute_input": "2022-05-05T10:03:08.379395Z",
     "iopub.status.busy": "2022-05-05T10:03:08.378430Z",
     "iopub.status.idle": "2022-05-05T10:03:08.384959Z",
     "shell.execute_reply": "2022-05-05T10:03:08.384006Z"
    },
    "papermill": {
     "duration": 0.042395,
     "end_time": "2022-05-05T10:03:08.387009",
     "exception": false,
     "start_time": "2022-05-05T10:03:08.344614",
     "status": "completed"
    },
    "tags": []
   },
   "outputs": [],
   "source": [
    "# initialize data of lists.\n",
    "submission = {'id':test['id'],\\\n",
    "              'score':predictions}\n",
    " \n",
    "# Create DataFrame\n",
    "submission = pd.DataFrame(submission)"
   ]
  },
  {
   "cell_type": "code",
   "execution_count": 20,
   "id": "ebd46b73",
   "metadata": {
    "execution": {
     "iopub.execute_input": "2022-05-05T10:03:08.454440Z",
     "iopub.status.busy": "2022-05-05T10:03:08.454187Z",
     "iopub.status.idle": "2022-05-05T10:03:08.466178Z",
     "shell.execute_reply": "2022-05-05T10:03:08.465279Z"
    },
    "papermill": {
     "duration": 0.049427,
     "end_time": "2022-05-05T10:03:08.468456",
     "exception": false,
     "start_time": "2022-05-05T10:03:08.419029",
     "status": "completed"
    },
    "tags": []
   },
   "outputs": [],
   "source": [
    "submission['score'] = submission.score.apply(lambda x: 0 if x < 0 else x)\n",
    "submission['score'] = submission.score.apply(lambda x: 1 if x > 1 else x)\n",
    "submission.to_csv('submission.csv', index=False)"
   ]
  },
  {
   "cell_type": "code",
   "execution_count": 21,
   "id": "2d03e7f8",
   "metadata": {
    "execution": {
     "iopub.execute_input": "2022-05-05T10:03:08.537680Z",
     "iopub.status.busy": "2022-05-05T10:03:08.537390Z",
     "iopub.status.idle": "2022-05-05T10:03:08.550415Z",
     "shell.execute_reply": "2022-05-05T10:03:08.549457Z"
    },
    "papermill": {
     "duration": 0.050324,
     "end_time": "2022-05-05T10:03:08.552709",
     "exception": false,
     "start_time": "2022-05-05T10:03:08.502385",
     "status": "completed"
    },
    "tags": []
   },
   "outputs": [
    {
     "data": {
      "text/html": [
       "<div>\n",
       "<style scoped>\n",
       "    .dataframe tbody tr th:only-of-type {\n",
       "        vertical-align: middle;\n",
       "    }\n",
       "\n",
       "    .dataframe tbody tr th {\n",
       "        vertical-align: top;\n",
       "    }\n",
       "\n",
       "    .dataframe thead th {\n",
       "        text-align: right;\n",
       "    }\n",
       "</style>\n",
       "<table border=\"1\" class=\"dataframe\">\n",
       "  <thead>\n",
       "    <tr style=\"text-align: right;\">\n",
       "      <th></th>\n",
       "      <th>id</th>\n",
       "      <th>score</th>\n",
       "    </tr>\n",
       "  </thead>\n",
       "  <tbody>\n",
       "    <tr>\n",
       "      <th>0</th>\n",
       "      <td>4112d61851461f60</td>\n",
       "      <td>0.492606</td>\n",
       "    </tr>\n",
       "    <tr>\n",
       "      <th>1</th>\n",
       "      <td>09e418c93a776564</td>\n",
       "      <td>0.688734</td>\n",
       "    </tr>\n",
       "    <tr>\n",
       "      <th>2</th>\n",
       "      <td>36baf228038e314b</td>\n",
       "      <td>0.517268</td>\n",
       "    </tr>\n",
       "    <tr>\n",
       "      <th>3</th>\n",
       "      <td>1f37ead645e7f0c8</td>\n",
       "      <td>0.194161</td>\n",
       "    </tr>\n",
       "    <tr>\n",
       "      <th>4</th>\n",
       "      <td>71a5b6ad068d531f</td>\n",
       "      <td>0.000000</td>\n",
       "    </tr>\n",
       "    <tr>\n",
       "      <th>5</th>\n",
       "      <td>474c874d0c07bd21</td>\n",
       "      <td>0.448493</td>\n",
       "    </tr>\n",
       "    <tr>\n",
       "      <th>6</th>\n",
       "      <td>442c114ed5c4e3c9</td>\n",
       "      <td>0.447933</td>\n",
       "    </tr>\n",
       "    <tr>\n",
       "      <th>7</th>\n",
       "      <td>b8ae62ea5e1d8bdb</td>\n",
       "      <td>0.000000</td>\n",
       "    </tr>\n",
       "    <tr>\n",
       "      <th>8</th>\n",
       "      <td>faaddaf8fcba8a3f</td>\n",
       "      <td>0.286756</td>\n",
       "    </tr>\n",
       "    <tr>\n",
       "      <th>9</th>\n",
       "      <td>ae0262c02566d2ce</td>\n",
       "      <td>1.000000</td>\n",
       "    </tr>\n",
       "    <tr>\n",
       "      <th>10</th>\n",
       "      <td>a8808e31641e856d</td>\n",
       "      <td>0.172542</td>\n",
       "    </tr>\n",
       "    <tr>\n",
       "      <th>11</th>\n",
       "      <td>16ae4b99d3601e60</td>\n",
       "      <td>0.246437</td>\n",
       "    </tr>\n",
       "    <tr>\n",
       "      <th>12</th>\n",
       "      <td>25c555ca3d5a2092</td>\n",
       "      <td>0.772276</td>\n",
       "    </tr>\n",
       "    <tr>\n",
       "      <th>13</th>\n",
       "      <td>5203a36c501f1b7c</td>\n",
       "      <td>0.931511</td>\n",
       "    </tr>\n",
       "    <tr>\n",
       "      <th>14</th>\n",
       "      <td>b9fdc772bb8fd61c</td>\n",
       "      <td>0.753969</td>\n",
       "    </tr>\n",
       "    <tr>\n",
       "      <th>15</th>\n",
       "      <td>7aa5908a77a7ec24</td>\n",
       "      <td>0.270930</td>\n",
       "    </tr>\n",
       "    <tr>\n",
       "      <th>16</th>\n",
       "      <td>d19ef3979396d47e</td>\n",
       "      <td>0.253494</td>\n",
       "    </tr>\n",
       "    <tr>\n",
       "      <th>17</th>\n",
       "      <td>fd83613b7843f5e1</td>\n",
       "      <td>0.000000</td>\n",
       "    </tr>\n",
       "    <tr>\n",
       "      <th>18</th>\n",
       "      <td>2a619016908bfa45</td>\n",
       "      <td>0.494794</td>\n",
       "    </tr>\n",
       "    <tr>\n",
       "      <th>19</th>\n",
       "      <td>733979d75f59770d</td>\n",
       "      <td>0.270336</td>\n",
       "    </tr>\n",
       "    <tr>\n",
       "      <th>20</th>\n",
       "      <td>6546846df17f9800</td>\n",
       "      <td>0.410522</td>\n",
       "    </tr>\n",
       "    <tr>\n",
       "      <th>21</th>\n",
       "      <td>3ff0e7a35015be69</td>\n",
       "      <td>0.237416</td>\n",
       "    </tr>\n",
       "    <tr>\n",
       "      <th>22</th>\n",
       "      <td>12ca31f018a2e2b9</td>\n",
       "      <td>0.000000</td>\n",
       "    </tr>\n",
       "    <tr>\n",
       "      <th>23</th>\n",
       "      <td>03ba802ed4029e4d</td>\n",
       "      <td>0.210663</td>\n",
       "    </tr>\n",
       "    <tr>\n",
       "      <th>24</th>\n",
       "      <td>c404f8b378cbb008</td>\n",
       "      <td>0.537426</td>\n",
       "    </tr>\n",
       "    <tr>\n",
       "      <th>25</th>\n",
       "      <td>78243984c02a72e4</td>\n",
       "      <td>0.000000</td>\n",
       "    </tr>\n",
       "    <tr>\n",
       "      <th>26</th>\n",
       "      <td>de51114bc0faec3e</td>\n",
       "      <td>0.000000</td>\n",
       "    </tr>\n",
       "    <tr>\n",
       "      <th>27</th>\n",
       "      <td>7e3aff857f056bf9</td>\n",
       "      <td>0.000000</td>\n",
       "    </tr>\n",
       "    <tr>\n",
       "      <th>28</th>\n",
       "      <td>26c3c6dc6174b589</td>\n",
       "      <td>0.000000</td>\n",
       "    </tr>\n",
       "    <tr>\n",
       "      <th>29</th>\n",
       "      <td>b892011ab2e2cabc</td>\n",
       "      <td>0.600369</td>\n",
       "    </tr>\n",
       "    <tr>\n",
       "      <th>30</th>\n",
       "      <td>8247ff562ca185cc</td>\n",
       "      <td>0.130044</td>\n",
       "    </tr>\n",
       "    <tr>\n",
       "      <th>31</th>\n",
       "      <td>c057aecbba832387</td>\n",
       "      <td>0.000000</td>\n",
       "    </tr>\n",
       "    <tr>\n",
       "      <th>32</th>\n",
       "      <td>9f2279ce667b21dc</td>\n",
       "      <td>0.663899</td>\n",
       "    </tr>\n",
       "    <tr>\n",
       "      <th>33</th>\n",
       "      <td>b9ea2b06a878df6f</td>\n",
       "      <td>0.541095</td>\n",
       "    </tr>\n",
       "    <tr>\n",
       "      <th>34</th>\n",
       "      <td>79795133c30ef097</td>\n",
       "      <td>0.269222</td>\n",
       "    </tr>\n",
       "    <tr>\n",
       "      <th>35</th>\n",
       "      <td>25522ee5411e63e9</td>\n",
       "      <td>0.187244</td>\n",
       "    </tr>\n",
       "  </tbody>\n",
       "</table>\n",
       "</div>"
      ],
      "text/plain": [
       "                  id     score\n",
       "0   4112d61851461f60  0.492606\n",
       "1   09e418c93a776564  0.688734\n",
       "2   36baf228038e314b  0.517268\n",
       "3   1f37ead645e7f0c8  0.194161\n",
       "4   71a5b6ad068d531f  0.000000\n",
       "5   474c874d0c07bd21  0.448493\n",
       "6   442c114ed5c4e3c9  0.447933\n",
       "7   b8ae62ea5e1d8bdb  0.000000\n",
       "8   faaddaf8fcba8a3f  0.286756\n",
       "9   ae0262c02566d2ce  1.000000\n",
       "10  a8808e31641e856d  0.172542\n",
       "11  16ae4b99d3601e60  0.246437\n",
       "12  25c555ca3d5a2092  0.772276\n",
       "13  5203a36c501f1b7c  0.931511\n",
       "14  b9fdc772bb8fd61c  0.753969\n",
       "15  7aa5908a77a7ec24  0.270930\n",
       "16  d19ef3979396d47e  0.253494\n",
       "17  fd83613b7843f5e1  0.000000\n",
       "18  2a619016908bfa45  0.494794\n",
       "19  733979d75f59770d  0.270336\n",
       "20  6546846df17f9800  0.410522\n",
       "21  3ff0e7a35015be69  0.237416\n",
       "22  12ca31f018a2e2b9  0.000000\n",
       "23  03ba802ed4029e4d  0.210663\n",
       "24  c404f8b378cbb008  0.537426\n",
       "25  78243984c02a72e4  0.000000\n",
       "26  de51114bc0faec3e  0.000000\n",
       "27  7e3aff857f056bf9  0.000000\n",
       "28  26c3c6dc6174b589  0.000000\n",
       "29  b892011ab2e2cabc  0.600369\n",
       "30  8247ff562ca185cc  0.130044\n",
       "31  c057aecbba832387  0.000000\n",
       "32  9f2279ce667b21dc  0.663899\n",
       "33  b9ea2b06a878df6f  0.541095\n",
       "34  79795133c30ef097  0.269222\n",
       "35  25522ee5411e63e9  0.187244"
      ]
     },
     "execution_count": 21,
     "metadata": {},
     "output_type": "execute_result"
    }
   ],
   "source": [
    "submission"
   ]
  },
  {
   "cell_type": "markdown",
   "id": "62e315a1",
   "metadata": {},
   "source": [
    "# I obtain the Submission Score for the above logic = 0.84"
   ]
  }
 ],
 "metadata": {
  "kernelspec": {
   "display_name": "Python 3 (ipykernel)",
   "language": "python",
   "name": "python3"
  },
  "language_info": {
   "codemirror_mode": {
    "name": "ipython",
    "version": 3
   },
   "file_extension": ".py",
   "mimetype": "text/x-python",
   "name": "python",
   "nbconvert_exporter": "python",
   "pygments_lexer": "ipython3",
   "version": "3.9.7"
  },
  "papermill": {
   "default_parameters": {},
   "duration": 139.72546,
   "end_time": "2022-05-05T10:03:11.343750",
   "environment_variables": {},
   "exception": null,
   "input_path": "__notebook__.ipynb",
   "output_path": "__notebook__.ipynb",
   "parameters": {},
   "start_time": "2022-05-05T10:00:51.618290",
   "version": "2.3.4"
  }
 },
 "nbformat": 4,
 "nbformat_minor": 5
}
