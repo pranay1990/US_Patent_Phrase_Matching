{
 "cells": [
  {
   "cell_type": "code",
   "execution_count": 1,
   "id": "c49be9da",
   "metadata": {
    "_cell_guid": "b1076dfc-b9ad-4769-8c92-a6c4dae69d19",
    "_uuid": "8f2839f25d086af736a60e9eeb907d3b93b6e0e5",
    "execution": {
     "iopub.execute_input": "2022-04-22T05:58:52.421345Z",
     "iopub.status.busy": "2022-04-22T05:58:52.419752Z",
     "iopub.status.idle": "2022-04-22T05:58:58.729411Z",
     "shell.execute_reply": "2022-04-22T05:58:58.730006Z",
     "shell.execute_reply.started": "2022-04-17T05:53:46.395016Z"
    },
    "papermill": {
     "duration": 6.357171,
     "end_time": "2022-04-22T05:58:58.730331",
     "exception": false,
     "start_time": "2022-04-22T05:58:52.373160",
     "status": "completed"
    },
    "tags": []
   },
   "outputs": [
    {
     "name": "stdout",
     "output_type": "stream",
     "text": [
      "/kaggle/input/us-patent-phrase-to-phrase-matching/sample_submission.csv\n",
      "/kaggle/input/us-patent-phrase-to-phrase-matching/train.csv\n",
      "/kaggle/input/us-patent-phrase-to-phrase-matching/test.csv\n",
      "/kaggle/input/roberta-base/rust_model.ot\n",
      "/kaggle/input/roberta-base/config.json\n",
      "/kaggle/input/roberta-base/merges.txt\n",
      "/kaggle/input/roberta-base/README.md\n",
      "/kaggle/input/roberta-base/tokenizer.json\n",
      "/kaggle/input/roberta-base/vocab.json\n",
      "/kaggle/input/roberta-base/tf_model.h5\n",
      "/kaggle/input/roberta-base/dict.txt\n",
      "/kaggle/input/roberta-base/pytorch_model.bin\n",
      "/kaggle/input/roberta-base/flax_model.msgpack\n",
      "/kaggle/input/cpc-codes/titles.csv\n"
     ]
    }
   ],
   "source": [
    "import numpy as np # linear algebra\n",
    "import pandas as pd # data processing, CSV file I/O (e.g. pd.read_csv)\n",
    "import tensorflow as tf\n",
    "from transformers import TFAutoModel, AutoTokenizer\n",
    "\n",
    "import os\n",
    "for dirname, _, filenames in os.walk('/kaggle/input'):\n",
    "    for filename in filenames:\n",
    "        print(os.path.join(dirname, filename))"
   ]
  },
  {
   "cell_type": "markdown",
   "id": "dfd3cfee",
   "metadata": {
    "papermill": {
     "duration": 0.038474,
     "end_time": "2022-04-22T05:58:58.811259",
     "exception": false,
     "start_time": "2022-04-22T05:58:58.772785",
     "status": "completed"
    },
    "tags": []
   },
   "source": [
    "# Config"
   ]
  },
  {
   "cell_type": "code",
   "execution_count": 2,
   "id": "246df109",
   "metadata": {
    "execution": {
     "iopub.execute_input": "2022-04-22T05:58:58.892639Z",
     "iopub.status.busy": "2022-04-22T05:58:58.891743Z",
     "iopub.status.idle": "2022-04-22T05:58:58.895135Z",
     "shell.execute_reply": "2022-04-22T05:58:58.894706Z",
     "shell.execute_reply.started": "2022-04-17T05:53:52.065192Z"
    },
    "papermill": {
     "duration": 0.044942,
     "end_time": "2022-04-22T05:58:58.895245",
     "exception": false,
     "start_time": "2022-04-22T05:58:58.850303",
     "status": "completed"
    },
    "tags": []
   },
   "outputs": [],
   "source": [
    "model_name = \"../input/roberta-base\"\n",
    "max_len = 40\n",
    "NUM_EPOCHS = 15\n",
    "batch_size=32\n",
    "LR = 1e-5"
   ]
  },
  {
   "cell_type": "markdown",
   "id": "366766fc",
   "metadata": {
    "papermill": {
     "duration": 0.03887,
     "end_time": "2022-04-22T05:58:58.973206",
     "exception": false,
     "start_time": "2022-04-22T05:58:58.934336",
     "status": "completed"
    },
    "tags": []
   },
   "source": [
    "# Reading the training and test datasets"
   ]
  },
  {
   "cell_type": "code",
   "execution_count": 3,
   "id": "bedffac4",
   "metadata": {
    "execution": {
     "iopub.execute_input": "2022-04-22T05:58:59.055596Z",
     "iopub.status.busy": "2022-04-22T05:58:59.054900Z",
     "iopub.status.idle": "2022-04-22T05:58:59.149694Z",
     "shell.execute_reply": "2022-04-22T05:58:59.150125Z",
     "shell.execute_reply.started": "2022-04-17T05:53:52.070795Z"
    },
    "papermill": {
     "duration": 0.138256,
     "end_time": "2022-04-22T05:58:59.150271",
     "exception": false,
     "start_time": "2022-04-22T05:58:59.012015",
     "status": "completed"
    },
    "tags": []
   },
   "outputs": [
    {
     "data": {
      "text/html": [
       "<div>\n",
       "<style scoped>\n",
       "    .dataframe tbody tr th:only-of-type {\n",
       "        vertical-align: middle;\n",
       "    }\n",
       "\n",
       "    .dataframe tbody tr th {\n",
       "        vertical-align: top;\n",
       "    }\n",
       "\n",
       "    .dataframe thead th {\n",
       "        text-align: right;\n",
       "    }\n",
       "</style>\n",
       "<table border=\"1\" class=\"dataframe\">\n",
       "  <thead>\n",
       "    <tr style=\"text-align: right;\">\n",
       "      <th></th>\n",
       "      <th>id</th>\n",
       "      <th>anchor</th>\n",
       "      <th>target</th>\n",
       "      <th>context</th>\n",
       "      <th>score</th>\n",
       "    </tr>\n",
       "  </thead>\n",
       "  <tbody>\n",
       "    <tr>\n",
       "      <th>0</th>\n",
       "      <td>37d61fd2272659b1</td>\n",
       "      <td>abatement</td>\n",
       "      <td>abatement of pollution</td>\n",
       "      <td>A47</td>\n",
       "      <td>0.50</td>\n",
       "    </tr>\n",
       "    <tr>\n",
       "      <th>1</th>\n",
       "      <td>7b9652b17b68b7a4</td>\n",
       "      <td>abatement</td>\n",
       "      <td>act of abating</td>\n",
       "      <td>A47</td>\n",
       "      <td>0.75</td>\n",
       "    </tr>\n",
       "    <tr>\n",
       "      <th>2</th>\n",
       "      <td>36d72442aefd8232</td>\n",
       "      <td>abatement</td>\n",
       "      <td>active catalyst</td>\n",
       "      <td>A47</td>\n",
       "      <td>0.25</td>\n",
       "    </tr>\n",
       "    <tr>\n",
       "      <th>3</th>\n",
       "      <td>5296b0c19e1ce60e</td>\n",
       "      <td>abatement</td>\n",
       "      <td>eliminating process</td>\n",
       "      <td>A47</td>\n",
       "      <td>0.50</td>\n",
       "    </tr>\n",
       "    <tr>\n",
       "      <th>4</th>\n",
       "      <td>54c1e3b9184cb5b6</td>\n",
       "      <td>abatement</td>\n",
       "      <td>forest region</td>\n",
       "      <td>A47</td>\n",
       "      <td>0.00</td>\n",
       "    </tr>\n",
       "  </tbody>\n",
       "</table>\n",
       "</div>"
      ],
      "text/plain": [
       "                 id     anchor                  target context  score\n",
       "0  37d61fd2272659b1  abatement  abatement of pollution     A47   0.50\n",
       "1  7b9652b17b68b7a4  abatement          act of abating     A47   0.75\n",
       "2  36d72442aefd8232  abatement         active catalyst     A47   0.25\n",
       "3  5296b0c19e1ce60e  abatement     eliminating process     A47   0.50\n",
       "4  54c1e3b9184cb5b6  abatement           forest region     A47   0.00"
      ]
     },
     "execution_count": 3,
     "metadata": {},
     "output_type": "execute_result"
    }
   ],
   "source": [
    "train = pd.read_csv(\"../input/us-patent-phrase-to-phrase-matching/train.csv\")\n",
    "train.head()"
   ]
  },
  {
   "cell_type": "code",
   "execution_count": 4,
   "id": "9e7f0470",
   "metadata": {
    "execution": {
     "iopub.execute_input": "2022-04-22T05:58:59.233804Z",
     "iopub.status.busy": "2022-04-22T05:58:59.233095Z",
     "iopub.status.idle": "2022-04-22T05:58:59.245297Z",
     "shell.execute_reply": "2022-04-22T05:58:59.245696Z",
     "shell.execute_reply.started": "2022-04-17T05:53:52.17019Z"
    },
    "papermill": {
     "duration": 0.056134,
     "end_time": "2022-04-22T05:58:59.245824",
     "exception": false,
     "start_time": "2022-04-22T05:58:59.189690",
     "status": "completed"
    },
    "tags": []
   },
   "outputs": [
    {
     "data": {
      "text/html": [
       "<div>\n",
       "<style scoped>\n",
       "    .dataframe tbody tr th:only-of-type {\n",
       "        vertical-align: middle;\n",
       "    }\n",
       "\n",
       "    .dataframe tbody tr th {\n",
       "        vertical-align: top;\n",
       "    }\n",
       "\n",
       "    .dataframe thead th {\n",
       "        text-align: right;\n",
       "    }\n",
       "</style>\n",
       "<table border=\"1\" class=\"dataframe\">\n",
       "  <thead>\n",
       "    <tr style=\"text-align: right;\">\n",
       "      <th></th>\n",
       "      <th>id</th>\n",
       "      <th>anchor</th>\n",
       "      <th>target</th>\n",
       "      <th>context</th>\n",
       "    </tr>\n",
       "  </thead>\n",
       "  <tbody>\n",
       "    <tr>\n",
       "      <th>0</th>\n",
       "      <td>4112d61851461f60</td>\n",
       "      <td>opc drum</td>\n",
       "      <td>inorganic photoconductor drum</td>\n",
       "      <td>G02</td>\n",
       "    </tr>\n",
       "    <tr>\n",
       "      <th>1</th>\n",
       "      <td>09e418c93a776564</td>\n",
       "      <td>adjust gas flow</td>\n",
       "      <td>altering gas flow</td>\n",
       "      <td>F23</td>\n",
       "    </tr>\n",
       "    <tr>\n",
       "      <th>2</th>\n",
       "      <td>36baf228038e314b</td>\n",
       "      <td>lower trunnion</td>\n",
       "      <td>lower locating</td>\n",
       "      <td>B60</td>\n",
       "    </tr>\n",
       "    <tr>\n",
       "      <th>3</th>\n",
       "      <td>1f37ead645e7f0c8</td>\n",
       "      <td>cap component</td>\n",
       "      <td>upper portion</td>\n",
       "      <td>D06</td>\n",
       "    </tr>\n",
       "    <tr>\n",
       "      <th>4</th>\n",
       "      <td>71a5b6ad068d531f</td>\n",
       "      <td>neural stimulation</td>\n",
       "      <td>artificial neural network</td>\n",
       "      <td>H04</td>\n",
       "    </tr>\n",
       "  </tbody>\n",
       "</table>\n",
       "</div>"
      ],
      "text/plain": [
       "                 id              anchor                         target context\n",
       "0  4112d61851461f60            opc drum  inorganic photoconductor drum     G02\n",
       "1  09e418c93a776564     adjust gas flow              altering gas flow     F23\n",
       "2  36baf228038e314b      lower trunnion                 lower locating     B60\n",
       "3  1f37ead645e7f0c8       cap component                  upper portion     D06\n",
       "4  71a5b6ad068d531f  neural stimulation      artificial neural network     H04"
      ]
     },
     "execution_count": 4,
     "metadata": {},
     "output_type": "execute_result"
    }
   ],
   "source": [
    "test = pd.read_csv(\"../input/us-patent-phrase-to-phrase-matching/test.csv\")\n",
    "test.head()"
   ]
  },
  {
   "cell_type": "markdown",
   "id": "8c75046c",
   "metadata": {
    "papermill": {
     "duration": 0.03901,
     "end_time": "2022-04-22T05:58:59.324636",
     "exception": false,
     "start_time": "2022-04-22T05:58:59.285626",
     "status": "completed"
    },
    "tags": []
   },
   "source": [
    "# Importing *Cooperative Patent Classification Codes Meaning* dataset\n",
    "More details regarding the dataset can be found [here](https://www.kaggle.com/datasets/xhlulu/cpc-codes)"
   ]
  },
  {
   "cell_type": "code",
   "execution_count": 5,
   "id": "0397dac2",
   "metadata": {
    "execution": {
     "iopub.execute_input": "2022-04-22T05:58:59.407636Z",
     "iopub.status.busy": "2022-04-22T05:58:59.407143Z",
     "iopub.status.idle": "2022-04-22T05:59:00.059657Z",
     "shell.execute_reply": "2022-04-22T05:59:00.060292Z",
     "shell.execute_reply.started": "2022-04-17T05:53:52.187562Z"
    },
    "papermill": {
     "duration": 0.695896,
     "end_time": "2022-04-22T05:59:00.060461",
     "exception": false,
     "start_time": "2022-04-22T05:58:59.364565",
     "status": "completed"
    },
    "tags": []
   },
   "outputs": [
    {
     "data": {
      "text/html": [
       "<div>\n",
       "<style scoped>\n",
       "    .dataframe tbody tr th:only-of-type {\n",
       "        vertical-align: middle;\n",
       "    }\n",
       "\n",
       "    .dataframe tbody tr th {\n",
       "        vertical-align: top;\n",
       "    }\n",
       "\n",
       "    .dataframe thead th {\n",
       "        text-align: right;\n",
       "    }\n",
       "</style>\n",
       "<table border=\"1\" class=\"dataframe\">\n",
       "  <thead>\n",
       "    <tr style=\"text-align: right;\">\n",
       "      <th></th>\n",
       "      <th>code</th>\n",
       "      <th>title</th>\n",
       "      <th>section</th>\n",
       "      <th>class</th>\n",
       "      <th>subclass</th>\n",
       "      <th>group</th>\n",
       "      <th>main_group</th>\n",
       "    </tr>\n",
       "  </thead>\n",
       "  <tbody>\n",
       "    <tr>\n",
       "      <th>0</th>\n",
       "      <td>A</td>\n",
       "      <td>HUMAN NECESSITIES</td>\n",
       "      <td>A</td>\n",
       "      <td>NaN</td>\n",
       "      <td>NaN</td>\n",
       "      <td>NaN</td>\n",
       "      <td>NaN</td>\n",
       "    </tr>\n",
       "    <tr>\n",
       "      <th>1</th>\n",
       "      <td>A01</td>\n",
       "      <td>AGRICULTURE; FORESTRY; ANIMAL HUSBANDRY; HUNTI...</td>\n",
       "      <td>A</td>\n",
       "      <td>1.0</td>\n",
       "      <td>NaN</td>\n",
       "      <td>NaN</td>\n",
       "      <td>NaN</td>\n",
       "    </tr>\n",
       "    <tr>\n",
       "      <th>2</th>\n",
       "      <td>A01B</td>\n",
       "      <td>SOIL WORKING IN AGRICULTURE OR FORESTRY; PARTS...</td>\n",
       "      <td>A</td>\n",
       "      <td>1.0</td>\n",
       "      <td>B</td>\n",
       "      <td>NaN</td>\n",
       "      <td>NaN</td>\n",
       "    </tr>\n",
       "    <tr>\n",
       "      <th>3</th>\n",
       "      <td>A01B1/00</td>\n",
       "      <td>Hand tools (edge trimmers for lawns A01G3/06  ...</td>\n",
       "      <td>A</td>\n",
       "      <td>1.0</td>\n",
       "      <td>B</td>\n",
       "      <td>1.0</td>\n",
       "      <td>0.0</td>\n",
       "    </tr>\n",
       "    <tr>\n",
       "      <th>4</th>\n",
       "      <td>A01B1/02</td>\n",
       "      <td>Spades; Shovels {(hand-operated dredgers E02F3...</td>\n",
       "      <td>A</td>\n",
       "      <td>1.0</td>\n",
       "      <td>B</td>\n",
       "      <td>1.0</td>\n",
       "      <td>2.0</td>\n",
       "    </tr>\n",
       "  </tbody>\n",
       "</table>\n",
       "</div>"
      ],
      "text/plain": [
       "       code                                              title section  class  \\\n",
       "0         A                                  HUMAN NECESSITIES       A    NaN   \n",
       "1       A01  AGRICULTURE; FORESTRY; ANIMAL HUSBANDRY; HUNTI...       A    1.0   \n",
       "2      A01B  SOIL WORKING IN AGRICULTURE OR FORESTRY; PARTS...       A    1.0   \n",
       "3  A01B1/00  Hand tools (edge trimmers for lawns A01G3/06  ...       A    1.0   \n",
       "4  A01B1/02  Spades; Shovels {(hand-operated dredgers E02F3...       A    1.0   \n",
       "\n",
       "  subclass  group  main_group  \n",
       "0      NaN    NaN         NaN  \n",
       "1      NaN    NaN         NaN  \n",
       "2        B    NaN         NaN  \n",
       "3        B    1.0         0.0  \n",
       "4        B    1.0         2.0  "
      ]
     },
     "execution_count": 5,
     "metadata": {},
     "output_type": "execute_result"
    }
   ],
   "source": [
    "title = pd.read_csv(\"../input/cpc-codes/titles.csv\")\n",
    "title.head()"
   ]
  },
  {
   "cell_type": "markdown",
   "id": "3eaac796",
   "metadata": {
    "papermill": {
     "duration": 0.040387,
     "end_time": "2022-04-22T05:59:00.142132",
     "exception": false,
     "start_time": "2022-04-22T05:59:00.101745",
     "status": "completed"
    },
    "tags": []
   },
   "source": [
    "# Merging the CPCC dataset with both of the training and test datasets"
   ]
  },
  {
   "cell_type": "code",
   "execution_count": 6,
   "id": "30977b5b",
   "metadata": {
    "execution": {
     "iopub.execute_input": "2022-04-22T05:59:00.232035Z",
     "iopub.status.busy": "2022-04-22T05:59:00.231200Z",
     "iopub.status.idle": "2022-04-22T05:59:00.408307Z",
     "shell.execute_reply": "2022-04-22T05:59:00.407794Z",
     "shell.execute_reply.started": "2022-04-17T05:53:52.878303Z"
    },
    "papermill": {
     "duration": 0.226214,
     "end_time": "2022-04-22T05:59:00.408434",
     "exception": false,
     "start_time": "2022-04-22T05:59:00.182220",
     "status": "completed"
    },
    "tags": []
   },
   "outputs": [],
   "source": [
    "train = pd.merge(train, title[[\"code\",\"title\"]], \n",
    "                 left_on = \"context\", right_on = \"code\",\n",
    "                 how='left')\n",
    "\n",
    "test = pd.merge(test, title[[\"code\",\"title\"]], \n",
    "                 left_on = \"context\", right_on = \"code\",\n",
    "                 how='left')"
   ]
  },
  {
   "cell_type": "code",
   "execution_count": 7,
   "id": "42801495",
   "metadata": {
    "execution": {
     "iopub.execute_input": "2022-04-22T05:59:00.509984Z",
     "iopub.status.busy": "2022-04-22T05:59:00.509165Z",
     "iopub.status.idle": "2022-04-22T05:59:00.512164Z",
     "shell.execute_reply": "2022-04-22T05:59:00.512587Z",
     "shell.execute_reply.started": "2022-04-17T05:53:53.084298Z"
    },
    "papermill": {
     "duration": 0.058471,
     "end_time": "2022-04-22T05:59:00.512716",
     "exception": false,
     "start_time": "2022-04-22T05:59:00.454245",
     "status": "completed"
    },
    "tags": []
   },
   "outputs": [
    {
     "data": {
      "text/html": [
       "<div>\n",
       "<style scoped>\n",
       "    .dataframe tbody tr th:only-of-type {\n",
       "        vertical-align: middle;\n",
       "    }\n",
       "\n",
       "    .dataframe tbody tr th {\n",
       "        vertical-align: top;\n",
       "    }\n",
       "\n",
       "    .dataframe thead th {\n",
       "        text-align: right;\n",
       "    }\n",
       "</style>\n",
       "<table border=\"1\" class=\"dataframe\">\n",
       "  <thead>\n",
       "    <tr style=\"text-align: right;\">\n",
       "      <th></th>\n",
       "      <th>id</th>\n",
       "      <th>anchor</th>\n",
       "      <th>target</th>\n",
       "      <th>context</th>\n",
       "      <th>score</th>\n",
       "      <th>code</th>\n",
       "      <th>title</th>\n",
       "    </tr>\n",
       "  </thead>\n",
       "  <tbody>\n",
       "    <tr>\n",
       "      <th>0</th>\n",
       "      <td>37d61fd2272659b1</td>\n",
       "      <td>abatement</td>\n",
       "      <td>abatement of pollution</td>\n",
       "      <td>A47</td>\n",
       "      <td>0.50</td>\n",
       "      <td>A47</td>\n",
       "      <td>FURNITURE; DOMESTIC ARTICLES OR APPLIANCES; CO...</td>\n",
       "    </tr>\n",
       "    <tr>\n",
       "      <th>1</th>\n",
       "      <td>7b9652b17b68b7a4</td>\n",
       "      <td>abatement</td>\n",
       "      <td>act of abating</td>\n",
       "      <td>A47</td>\n",
       "      <td>0.75</td>\n",
       "      <td>A47</td>\n",
       "      <td>FURNITURE; DOMESTIC ARTICLES OR APPLIANCES; CO...</td>\n",
       "    </tr>\n",
       "    <tr>\n",
       "      <th>2</th>\n",
       "      <td>36d72442aefd8232</td>\n",
       "      <td>abatement</td>\n",
       "      <td>active catalyst</td>\n",
       "      <td>A47</td>\n",
       "      <td>0.25</td>\n",
       "      <td>A47</td>\n",
       "      <td>FURNITURE; DOMESTIC ARTICLES OR APPLIANCES; CO...</td>\n",
       "    </tr>\n",
       "    <tr>\n",
       "      <th>3</th>\n",
       "      <td>5296b0c19e1ce60e</td>\n",
       "      <td>abatement</td>\n",
       "      <td>eliminating process</td>\n",
       "      <td>A47</td>\n",
       "      <td>0.50</td>\n",
       "      <td>A47</td>\n",
       "      <td>FURNITURE; DOMESTIC ARTICLES OR APPLIANCES; CO...</td>\n",
       "    </tr>\n",
       "    <tr>\n",
       "      <th>4</th>\n",
       "      <td>54c1e3b9184cb5b6</td>\n",
       "      <td>abatement</td>\n",
       "      <td>forest region</td>\n",
       "      <td>A47</td>\n",
       "      <td>0.00</td>\n",
       "      <td>A47</td>\n",
       "      <td>FURNITURE; DOMESTIC ARTICLES OR APPLIANCES; CO...</td>\n",
       "    </tr>\n",
       "  </tbody>\n",
       "</table>\n",
       "</div>"
      ],
      "text/plain": [
       "                 id     anchor                  target context  score code  \\\n",
       "0  37d61fd2272659b1  abatement  abatement of pollution     A47   0.50  A47   \n",
       "1  7b9652b17b68b7a4  abatement          act of abating     A47   0.75  A47   \n",
       "2  36d72442aefd8232  abatement         active catalyst     A47   0.25  A47   \n",
       "3  5296b0c19e1ce60e  abatement     eliminating process     A47   0.50  A47   \n",
       "4  54c1e3b9184cb5b6  abatement           forest region     A47   0.00  A47   \n",
       "\n",
       "                                               title  \n",
       "0  FURNITURE; DOMESTIC ARTICLES OR APPLIANCES; CO...  \n",
       "1  FURNITURE; DOMESTIC ARTICLES OR APPLIANCES; CO...  \n",
       "2  FURNITURE; DOMESTIC ARTICLES OR APPLIANCES; CO...  \n",
       "3  FURNITURE; DOMESTIC ARTICLES OR APPLIANCES; CO...  \n",
       "4  FURNITURE; DOMESTIC ARTICLES OR APPLIANCES; CO...  "
      ]
     },
     "execution_count": 7,
     "metadata": {},
     "output_type": "execute_result"
    }
   ],
   "source": [
    "train.head()"
   ]
  },
  {
   "cell_type": "code",
   "execution_count": 8,
   "id": "82e6f1f9",
   "metadata": {
    "execution": {
     "iopub.execute_input": "2022-04-22T05:59:00.610581Z",
     "iopub.status.busy": "2022-04-22T05:59:00.609891Z",
     "iopub.status.idle": "2022-04-22T05:59:00.613203Z",
     "shell.execute_reply": "2022-04-22T05:59:00.613620Z",
     "shell.execute_reply.started": "2022-04-17T05:53:53.098806Z"
    },
    "papermill": {
     "duration": 0.057354,
     "end_time": "2022-04-22T05:59:00.613738",
     "exception": false,
     "start_time": "2022-04-22T05:59:00.556384",
     "status": "completed"
    },
    "tags": []
   },
   "outputs": [
    {
     "data": {
      "text/html": [
       "<div>\n",
       "<style scoped>\n",
       "    .dataframe tbody tr th:only-of-type {\n",
       "        vertical-align: middle;\n",
       "    }\n",
       "\n",
       "    .dataframe tbody tr th {\n",
       "        vertical-align: top;\n",
       "    }\n",
       "\n",
       "    .dataframe thead th {\n",
       "        text-align: right;\n",
       "    }\n",
       "</style>\n",
       "<table border=\"1\" class=\"dataframe\">\n",
       "  <thead>\n",
       "    <tr style=\"text-align: right;\">\n",
       "      <th></th>\n",
       "      <th>id</th>\n",
       "      <th>anchor</th>\n",
       "      <th>target</th>\n",
       "      <th>context</th>\n",
       "      <th>code</th>\n",
       "      <th>title</th>\n",
       "    </tr>\n",
       "  </thead>\n",
       "  <tbody>\n",
       "    <tr>\n",
       "      <th>0</th>\n",
       "      <td>4112d61851461f60</td>\n",
       "      <td>opc drum</td>\n",
       "      <td>inorganic photoconductor drum</td>\n",
       "      <td>G02</td>\n",
       "      <td>G02</td>\n",
       "      <td>OPTICS</td>\n",
       "    </tr>\n",
       "    <tr>\n",
       "      <th>1</th>\n",
       "      <td>09e418c93a776564</td>\n",
       "      <td>adjust gas flow</td>\n",
       "      <td>altering gas flow</td>\n",
       "      <td>F23</td>\n",
       "      <td>F23</td>\n",
       "      <td>COMBUSTION APPARATUS; COMBUSTION PROCESSES</td>\n",
       "    </tr>\n",
       "    <tr>\n",
       "      <th>2</th>\n",
       "      <td>36baf228038e314b</td>\n",
       "      <td>lower trunnion</td>\n",
       "      <td>lower locating</td>\n",
       "      <td>B60</td>\n",
       "      <td>B60</td>\n",
       "      <td>VEHICLES IN GENERAL</td>\n",
       "    </tr>\n",
       "    <tr>\n",
       "      <th>3</th>\n",
       "      <td>1f37ead645e7f0c8</td>\n",
       "      <td>cap component</td>\n",
       "      <td>upper portion</td>\n",
       "      <td>D06</td>\n",
       "      <td>D06</td>\n",
       "      <td>TREATMENT OF TEXTILES OR THE LIKE; LAUNDERING;...</td>\n",
       "    </tr>\n",
       "    <tr>\n",
       "      <th>4</th>\n",
       "      <td>71a5b6ad068d531f</td>\n",
       "      <td>neural stimulation</td>\n",
       "      <td>artificial neural network</td>\n",
       "      <td>H04</td>\n",
       "      <td>H04</td>\n",
       "      <td>ELECTRIC COMMUNICATION TECHNIQUE</td>\n",
       "    </tr>\n",
       "  </tbody>\n",
       "</table>\n",
       "</div>"
      ],
      "text/plain": [
       "                 id              anchor                         target  \\\n",
       "0  4112d61851461f60            opc drum  inorganic photoconductor drum   \n",
       "1  09e418c93a776564     adjust gas flow              altering gas flow   \n",
       "2  36baf228038e314b      lower trunnion                 lower locating   \n",
       "3  1f37ead645e7f0c8       cap component                  upper portion   \n",
       "4  71a5b6ad068d531f  neural stimulation      artificial neural network   \n",
       "\n",
       "  context code                                              title  \n",
       "0     G02  G02                                             OPTICS  \n",
       "1     F23  F23         COMBUSTION APPARATUS; COMBUSTION PROCESSES  \n",
       "2     B60  B60                                VEHICLES IN GENERAL  \n",
       "3     D06  D06  TREATMENT OF TEXTILES OR THE LIKE; LAUNDERING;...  \n",
       "4     H04  H04                   ELECTRIC COMMUNICATION TECHNIQUE  "
      ]
     },
     "execution_count": 8,
     "metadata": {},
     "output_type": "execute_result"
    }
   ],
   "source": [
    "test.head()"
   ]
  },
  {
   "cell_type": "markdown",
   "id": "b4193080",
   "metadata": {
    "papermill": {
     "duration": 0.044216,
     "end_time": "2022-04-22T05:59:00.700902",
     "exception": false,
     "start_time": "2022-04-22T05:59:00.656686",
     "status": "completed"
    },
    "tags": []
   },
   "source": [
    "# Performing data pre-processing on the training and test set data\n",
    "#### Dropping the *context* column"
   ]
  },
  {
   "cell_type": "code",
   "execution_count": 9,
   "id": "d68e06d7",
   "metadata": {
    "execution": {
     "iopub.execute_input": "2022-04-22T05:59:00.791106Z",
     "iopub.status.busy": "2022-04-22T05:59:00.790539Z",
     "iopub.status.idle": "2022-04-22T05:59:00.805467Z",
     "shell.execute_reply": "2022-04-22T05:59:00.805840Z",
     "shell.execute_reply.started": "2022-04-17T05:53:53.116625Z"
    },
    "papermill": {
     "duration": 0.062108,
     "end_time": "2022-04-22T05:59:00.805992",
     "exception": false,
     "start_time": "2022-04-22T05:59:00.743884",
     "status": "completed"
    },
    "tags": []
   },
   "outputs": [
    {
     "data": {
      "text/html": [
       "<div>\n",
       "<style scoped>\n",
       "    .dataframe tbody tr th:only-of-type {\n",
       "        vertical-align: middle;\n",
       "    }\n",
       "\n",
       "    .dataframe tbody tr th {\n",
       "        vertical-align: top;\n",
       "    }\n",
       "\n",
       "    .dataframe thead th {\n",
       "        text-align: right;\n",
       "    }\n",
       "</style>\n",
       "<table border=\"1\" class=\"dataframe\">\n",
       "  <thead>\n",
       "    <tr style=\"text-align: right;\">\n",
       "      <th></th>\n",
       "      <th>id</th>\n",
       "      <th>anchor</th>\n",
       "      <th>target</th>\n",
       "      <th>score</th>\n",
       "      <th>code</th>\n",
       "      <th>title</th>\n",
       "    </tr>\n",
       "  </thead>\n",
       "  <tbody>\n",
       "    <tr>\n",
       "      <th>0</th>\n",
       "      <td>37d61fd2272659b1</td>\n",
       "      <td>abatement</td>\n",
       "      <td>abatement of pollution</td>\n",
       "      <td>0.50</td>\n",
       "      <td>A47</td>\n",
       "      <td>FURNITURE; DOMESTIC ARTICLES OR APPLIANCES; CO...</td>\n",
       "    </tr>\n",
       "    <tr>\n",
       "      <th>1</th>\n",
       "      <td>7b9652b17b68b7a4</td>\n",
       "      <td>abatement</td>\n",
       "      <td>act of abating</td>\n",
       "      <td>0.75</td>\n",
       "      <td>A47</td>\n",
       "      <td>FURNITURE; DOMESTIC ARTICLES OR APPLIANCES; CO...</td>\n",
       "    </tr>\n",
       "    <tr>\n",
       "      <th>2</th>\n",
       "      <td>36d72442aefd8232</td>\n",
       "      <td>abatement</td>\n",
       "      <td>active catalyst</td>\n",
       "      <td>0.25</td>\n",
       "      <td>A47</td>\n",
       "      <td>FURNITURE; DOMESTIC ARTICLES OR APPLIANCES; CO...</td>\n",
       "    </tr>\n",
       "    <tr>\n",
       "      <th>3</th>\n",
       "      <td>5296b0c19e1ce60e</td>\n",
       "      <td>abatement</td>\n",
       "      <td>eliminating process</td>\n",
       "      <td>0.50</td>\n",
       "      <td>A47</td>\n",
       "      <td>FURNITURE; DOMESTIC ARTICLES OR APPLIANCES; CO...</td>\n",
       "    </tr>\n",
       "    <tr>\n",
       "      <th>4</th>\n",
       "      <td>54c1e3b9184cb5b6</td>\n",
       "      <td>abatement</td>\n",
       "      <td>forest region</td>\n",
       "      <td>0.00</td>\n",
       "      <td>A47</td>\n",
       "      <td>FURNITURE; DOMESTIC ARTICLES OR APPLIANCES; CO...</td>\n",
       "    </tr>\n",
       "  </tbody>\n",
       "</table>\n",
       "</div>"
      ],
      "text/plain": [
       "                 id     anchor                  target  score code  \\\n",
       "0  37d61fd2272659b1  abatement  abatement of pollution   0.50  A47   \n",
       "1  7b9652b17b68b7a4  abatement          act of abating   0.75  A47   \n",
       "2  36d72442aefd8232  abatement         active catalyst   0.25  A47   \n",
       "3  5296b0c19e1ce60e  abatement     eliminating process   0.50  A47   \n",
       "4  54c1e3b9184cb5b6  abatement           forest region   0.00  A47   \n",
       "\n",
       "                                               title  \n",
       "0  FURNITURE; DOMESTIC ARTICLES OR APPLIANCES; CO...  \n",
       "1  FURNITURE; DOMESTIC ARTICLES OR APPLIANCES; CO...  \n",
       "2  FURNITURE; DOMESTIC ARTICLES OR APPLIANCES; CO...  \n",
       "3  FURNITURE; DOMESTIC ARTICLES OR APPLIANCES; CO...  \n",
       "4  FURNITURE; DOMESTIC ARTICLES OR APPLIANCES; CO...  "
      ]
     },
     "execution_count": 9,
     "metadata": {},
     "output_type": "execute_result"
    }
   ],
   "source": [
    "train = train.drop([\"context\"],axis=1)\n",
    "train.head()"
   ]
  },
  {
   "cell_type": "code",
   "execution_count": 10,
   "id": "2a39df93",
   "metadata": {
    "execution": {
     "iopub.execute_input": "2022-04-22T05:59:00.901667Z",
     "iopub.status.busy": "2022-04-22T05:59:00.893228Z",
     "iopub.status.idle": "2022-04-22T05:59:00.905946Z",
     "shell.execute_reply": "2022-04-22T05:59:00.905517Z",
     "shell.execute_reply.started": "2022-04-17T05:53:53.137523Z"
    },
    "papermill": {
     "duration": 0.0568,
     "end_time": "2022-04-22T05:59:00.906082",
     "exception": false,
     "start_time": "2022-04-22T05:59:00.849282",
     "status": "completed"
    },
    "tags": []
   },
   "outputs": [
    {
     "data": {
      "text/html": [
       "<div>\n",
       "<style scoped>\n",
       "    .dataframe tbody tr th:only-of-type {\n",
       "        vertical-align: middle;\n",
       "    }\n",
       "\n",
       "    .dataframe tbody tr th {\n",
       "        vertical-align: top;\n",
       "    }\n",
       "\n",
       "    .dataframe thead th {\n",
       "        text-align: right;\n",
       "    }\n",
       "</style>\n",
       "<table border=\"1\" class=\"dataframe\">\n",
       "  <thead>\n",
       "    <tr style=\"text-align: right;\">\n",
       "      <th></th>\n",
       "      <th>id</th>\n",
       "      <th>anchor</th>\n",
       "      <th>target</th>\n",
       "      <th>code</th>\n",
       "      <th>title</th>\n",
       "    </tr>\n",
       "  </thead>\n",
       "  <tbody>\n",
       "    <tr>\n",
       "      <th>0</th>\n",
       "      <td>4112d61851461f60</td>\n",
       "      <td>opc drum</td>\n",
       "      <td>inorganic photoconductor drum</td>\n",
       "      <td>G02</td>\n",
       "      <td>OPTICS</td>\n",
       "    </tr>\n",
       "    <tr>\n",
       "      <th>1</th>\n",
       "      <td>09e418c93a776564</td>\n",
       "      <td>adjust gas flow</td>\n",
       "      <td>altering gas flow</td>\n",
       "      <td>F23</td>\n",
       "      <td>COMBUSTION APPARATUS; COMBUSTION PROCESSES</td>\n",
       "    </tr>\n",
       "    <tr>\n",
       "      <th>2</th>\n",
       "      <td>36baf228038e314b</td>\n",
       "      <td>lower trunnion</td>\n",
       "      <td>lower locating</td>\n",
       "      <td>B60</td>\n",
       "      <td>VEHICLES IN GENERAL</td>\n",
       "    </tr>\n",
       "    <tr>\n",
       "      <th>3</th>\n",
       "      <td>1f37ead645e7f0c8</td>\n",
       "      <td>cap component</td>\n",
       "      <td>upper portion</td>\n",
       "      <td>D06</td>\n",
       "      <td>TREATMENT OF TEXTILES OR THE LIKE; LAUNDERING;...</td>\n",
       "    </tr>\n",
       "    <tr>\n",
       "      <th>4</th>\n",
       "      <td>71a5b6ad068d531f</td>\n",
       "      <td>neural stimulation</td>\n",
       "      <td>artificial neural network</td>\n",
       "      <td>H04</td>\n",
       "      <td>ELECTRIC COMMUNICATION TECHNIQUE</td>\n",
       "    </tr>\n",
       "  </tbody>\n",
       "</table>\n",
       "</div>"
      ],
      "text/plain": [
       "                 id              anchor                         target code  \\\n",
       "0  4112d61851461f60            opc drum  inorganic photoconductor drum  G02   \n",
       "1  09e418c93a776564     adjust gas flow              altering gas flow  F23   \n",
       "2  36baf228038e314b      lower trunnion                 lower locating  B60   \n",
       "3  1f37ead645e7f0c8       cap component                  upper portion  D06   \n",
       "4  71a5b6ad068d531f  neural stimulation      artificial neural network  H04   \n",
       "\n",
       "                                               title  \n",
       "0                                             OPTICS  \n",
       "1         COMBUSTION APPARATUS; COMBUSTION PROCESSES  \n",
       "2                                VEHICLES IN GENERAL  \n",
       "3  TREATMENT OF TEXTILES OR THE LIKE; LAUNDERING;...  \n",
       "4                   ELECTRIC COMMUNICATION TECHNIQUE  "
      ]
     },
     "execution_count": 10,
     "metadata": {},
     "output_type": "execute_result"
    }
   ],
   "source": [
    "test = test.drop([\"context\"],axis=1)\n",
    "test.head()"
   ]
  },
  {
   "cell_type": "markdown",
   "id": "d3d57d3b",
   "metadata": {
    "papermill": {
     "duration": 0.042206,
     "end_time": "2022-04-22T05:59:00.991711",
     "exception": false,
     "start_time": "2022-04-22T05:59:00.949505",
     "status": "completed"
    },
    "tags": []
   },
   "source": [
    "**Transform the *anchor* and *target* features into lowercase.**"
   ]
  },
  {
   "cell_type": "code",
   "execution_count": 11,
   "id": "50eea75d",
   "metadata": {
    "execution": {
     "iopub.execute_input": "2022-04-22T05:59:01.097592Z",
     "iopub.status.busy": "2022-04-22T05:59:01.096651Z",
     "iopub.status.idle": "2022-04-22T05:59:01.126747Z",
     "shell.execute_reply": "2022-04-22T05:59:01.125954Z",
     "shell.execute_reply.started": "2022-04-17T05:53:53.152271Z"
    },
    "papermill": {
     "duration": 0.092541,
     "end_time": "2022-04-22T05:59:01.126865",
     "exception": false,
     "start_time": "2022-04-22T05:59:01.034324",
     "status": "completed"
    },
    "tags": []
   },
   "outputs": [
    {
     "data": {
      "text/html": [
       "<div>\n",
       "<style scoped>\n",
       "    .dataframe tbody tr th:only-of-type {\n",
       "        vertical-align: middle;\n",
       "    }\n",
       "\n",
       "    .dataframe tbody tr th {\n",
       "        vertical-align: top;\n",
       "    }\n",
       "\n",
       "    .dataframe thead th {\n",
       "        text-align: right;\n",
       "    }\n",
       "</style>\n",
       "<table border=\"1\" class=\"dataframe\">\n",
       "  <thead>\n",
       "    <tr style=\"text-align: right;\">\n",
       "      <th></th>\n",
       "      <th>id</th>\n",
       "      <th>anchor</th>\n",
       "      <th>target</th>\n",
       "      <th>score</th>\n",
       "      <th>code</th>\n",
       "      <th>title</th>\n",
       "    </tr>\n",
       "  </thead>\n",
       "  <tbody>\n",
       "    <tr>\n",
       "      <th>0</th>\n",
       "      <td>37d61fd2272659b1</td>\n",
       "      <td>abatement</td>\n",
       "      <td>abatement of pollution</td>\n",
       "      <td>0.50</td>\n",
       "      <td>A47</td>\n",
       "      <td>FURNITURE; DOMESTIC ARTICLES OR APPLIANCES; CO...</td>\n",
       "    </tr>\n",
       "    <tr>\n",
       "      <th>1</th>\n",
       "      <td>7b9652b17b68b7a4</td>\n",
       "      <td>abatement</td>\n",
       "      <td>act of abating</td>\n",
       "      <td>0.75</td>\n",
       "      <td>A47</td>\n",
       "      <td>FURNITURE; DOMESTIC ARTICLES OR APPLIANCES; CO...</td>\n",
       "    </tr>\n",
       "    <tr>\n",
       "      <th>2</th>\n",
       "      <td>36d72442aefd8232</td>\n",
       "      <td>abatement</td>\n",
       "      <td>active catalyst</td>\n",
       "      <td>0.25</td>\n",
       "      <td>A47</td>\n",
       "      <td>FURNITURE; DOMESTIC ARTICLES OR APPLIANCES; CO...</td>\n",
       "    </tr>\n",
       "    <tr>\n",
       "      <th>3</th>\n",
       "      <td>5296b0c19e1ce60e</td>\n",
       "      <td>abatement</td>\n",
       "      <td>eliminating process</td>\n",
       "      <td>0.50</td>\n",
       "      <td>A47</td>\n",
       "      <td>FURNITURE; DOMESTIC ARTICLES OR APPLIANCES; CO...</td>\n",
       "    </tr>\n",
       "    <tr>\n",
       "      <th>4</th>\n",
       "      <td>54c1e3b9184cb5b6</td>\n",
       "      <td>abatement</td>\n",
       "      <td>forest region</td>\n",
       "      <td>0.00</td>\n",
       "      <td>A47</td>\n",
       "      <td>FURNITURE; DOMESTIC ARTICLES OR APPLIANCES; CO...</td>\n",
       "    </tr>\n",
       "  </tbody>\n",
       "</table>\n",
       "</div>"
      ],
      "text/plain": [
       "                 id     anchor                  target  score code  \\\n",
       "0  37d61fd2272659b1  abatement  abatement of pollution   0.50  A47   \n",
       "1  7b9652b17b68b7a4  abatement          act of abating   0.75  A47   \n",
       "2  36d72442aefd8232  abatement         active catalyst   0.25  A47   \n",
       "3  5296b0c19e1ce60e  abatement     eliminating process   0.50  A47   \n",
       "4  54c1e3b9184cb5b6  abatement           forest region   0.00  A47   \n",
       "\n",
       "                                               title  \n",
       "0  FURNITURE; DOMESTIC ARTICLES OR APPLIANCES; CO...  \n",
       "1  FURNITURE; DOMESTIC ARTICLES OR APPLIANCES; CO...  \n",
       "2  FURNITURE; DOMESTIC ARTICLES OR APPLIANCES; CO...  \n",
       "3  FURNITURE; DOMESTIC ARTICLES OR APPLIANCES; CO...  \n",
       "4  FURNITURE; DOMESTIC ARTICLES OR APPLIANCES; CO...  "
      ]
     },
     "execution_count": 11,
     "metadata": {},
     "output_type": "execute_result"
    }
   ],
   "source": [
    "train['anchor'] = train['anchor'].str.lower()\n",
    "train['target'] = train['target'].str.lower()\n",
    "test['anchor'] = test['anchor'].str.lower()\n",
    "test['target'] = test['target'].str.lower()\n",
    "train.head()"
   ]
  },
  {
   "cell_type": "markdown",
   "id": "06e184b5",
   "metadata": {
    "papermill": {
     "duration": 0.042746,
     "end_time": "2022-04-22T05:59:01.212817",
     "exception": false,
     "start_time": "2022-04-22T05:59:01.170071",
     "status": "completed"
    },
    "tags": []
   },
   "source": [
    "**Removing punctuations from *anchor* and *target* features**"
   ]
  },
  {
   "cell_type": "code",
   "execution_count": 12,
   "id": "c457e268",
   "metadata": {
    "execution": {
     "iopub.execute_input": "2022-04-22T05:59:01.322732Z",
     "iopub.status.busy": "2022-04-22T05:59:01.307783Z",
     "iopub.status.idle": "2022-04-22T05:59:01.388053Z",
     "shell.execute_reply": "2022-04-22T05:59:01.387540Z",
     "shell.execute_reply.started": "2022-04-17T05:53:53.201035Z"
    },
    "papermill": {
     "duration": 0.132224,
     "end_time": "2022-04-22T05:59:01.388194",
     "exception": false,
     "start_time": "2022-04-22T05:59:01.255970",
     "status": "completed"
    },
    "tags": []
   },
   "outputs": [
    {
     "data": {
      "text/html": [
       "<div>\n",
       "<style scoped>\n",
       "    .dataframe tbody tr th:only-of-type {\n",
       "        vertical-align: middle;\n",
       "    }\n",
       "\n",
       "    .dataframe tbody tr th {\n",
       "        vertical-align: top;\n",
       "    }\n",
       "\n",
       "    .dataframe thead th {\n",
       "        text-align: right;\n",
       "    }\n",
       "</style>\n",
       "<table border=\"1\" class=\"dataframe\">\n",
       "  <thead>\n",
       "    <tr style=\"text-align: right;\">\n",
       "      <th></th>\n",
       "      <th>id</th>\n",
       "      <th>anchor</th>\n",
       "      <th>target</th>\n",
       "      <th>score</th>\n",
       "      <th>code</th>\n",
       "      <th>title</th>\n",
       "    </tr>\n",
       "  </thead>\n",
       "  <tbody>\n",
       "    <tr>\n",
       "      <th>0</th>\n",
       "      <td>37d61fd2272659b1</td>\n",
       "      <td>abatement</td>\n",
       "      <td>abatement of pollution</td>\n",
       "      <td>0.50</td>\n",
       "      <td>A47</td>\n",
       "      <td>FURNITURE; DOMESTIC ARTICLES OR APPLIANCES; CO...</td>\n",
       "    </tr>\n",
       "    <tr>\n",
       "      <th>1</th>\n",
       "      <td>7b9652b17b68b7a4</td>\n",
       "      <td>abatement</td>\n",
       "      <td>act of abating</td>\n",
       "      <td>0.75</td>\n",
       "      <td>A47</td>\n",
       "      <td>FURNITURE; DOMESTIC ARTICLES OR APPLIANCES; CO...</td>\n",
       "    </tr>\n",
       "    <tr>\n",
       "      <th>2</th>\n",
       "      <td>36d72442aefd8232</td>\n",
       "      <td>abatement</td>\n",
       "      <td>active catalyst</td>\n",
       "      <td>0.25</td>\n",
       "      <td>A47</td>\n",
       "      <td>FURNITURE; DOMESTIC ARTICLES OR APPLIANCES; CO...</td>\n",
       "    </tr>\n",
       "    <tr>\n",
       "      <th>3</th>\n",
       "      <td>5296b0c19e1ce60e</td>\n",
       "      <td>abatement</td>\n",
       "      <td>eliminating process</td>\n",
       "      <td>0.50</td>\n",
       "      <td>A47</td>\n",
       "      <td>FURNITURE; DOMESTIC ARTICLES OR APPLIANCES; CO...</td>\n",
       "    </tr>\n",
       "    <tr>\n",
       "      <th>4</th>\n",
       "      <td>54c1e3b9184cb5b6</td>\n",
       "      <td>abatement</td>\n",
       "      <td>forest region</td>\n",
       "      <td>0.00</td>\n",
       "      <td>A47</td>\n",
       "      <td>FURNITURE; DOMESTIC ARTICLES OR APPLIANCES; CO...</td>\n",
       "    </tr>\n",
       "  </tbody>\n",
       "</table>\n",
       "</div>"
      ],
      "text/plain": [
       "                 id     anchor                  target  score code  \\\n",
       "0  37d61fd2272659b1  abatement  abatement of pollution   0.50  A47   \n",
       "1  7b9652b17b68b7a4  abatement          act of abating   0.75  A47   \n",
       "2  36d72442aefd8232  abatement         active catalyst   0.25  A47   \n",
       "3  5296b0c19e1ce60e  abatement     eliminating process   0.50  A47   \n",
       "4  54c1e3b9184cb5b6  abatement           forest region   0.00  A47   \n",
       "\n",
       "                                               title  \n",
       "0  FURNITURE; DOMESTIC ARTICLES OR APPLIANCES; CO...  \n",
       "1  FURNITURE; DOMESTIC ARTICLES OR APPLIANCES; CO...  \n",
       "2  FURNITURE; DOMESTIC ARTICLES OR APPLIANCES; CO...  \n",
       "3  FURNITURE; DOMESTIC ARTICLES OR APPLIANCES; CO...  \n",
       "4  FURNITURE; DOMESTIC ARTICLES OR APPLIANCES; CO...  "
      ]
     },
     "execution_count": 12,
     "metadata": {},
     "output_type": "execute_result"
    }
   ],
   "source": [
    "train['anchor'] = train['anchor'].str.replace('[^\\w\\s]','',regex=True)\n",
    "train['target'] = train['target'].str.replace('[^\\w\\s]','',regex=True)\n",
    "test['anchor'] = test['anchor'].str.replace('[^\\w\\s]','',regex=True)\n",
    "test['target'] = test['target'].str.replace('[^\\w\\s]','',regex=True)\n",
    "train.head()"
   ]
  },
  {
   "cell_type": "markdown",
   "id": "9849518e",
   "metadata": {
    "papermill": {
     "duration": 0.043436,
     "end_time": "2022-04-22T05:59:01.475018",
     "exception": false,
     "start_time": "2022-04-22T05:59:01.431582",
     "status": "completed"
    },
    "tags": []
   },
   "source": [
    "**Removing punctutations from the *title* feature**"
   ]
  },
  {
   "cell_type": "code",
   "execution_count": 13,
   "id": "3081aa00",
   "metadata": {
    "execution": {
     "iopub.execute_input": "2022-04-22T05:59:01.600470Z",
     "iopub.status.busy": "2022-04-22T05:59:01.590236Z",
     "iopub.status.idle": "2022-04-22T05:59:01.668398Z",
     "shell.execute_reply": "2022-04-22T05:59:01.667677Z",
     "shell.execute_reply.started": "2022-04-17T05:53:53.2905Z"
    },
    "papermill": {
     "duration": 0.150731,
     "end_time": "2022-04-22T05:59:01.668505",
     "exception": false,
     "start_time": "2022-04-22T05:59:01.517774",
     "status": "completed"
    },
    "tags": []
   },
   "outputs": [],
   "source": [
    "import re\n",
    "train[\"title\"] = train[\"title\"].apply(lambda x:re.sub('[;,]', '', x))\n",
    "test[\"title\"] = test[\"title\"].apply(lambda x:re.sub('[;,]', '', x))"
   ]
  },
  {
   "cell_type": "code",
   "execution_count": 14,
   "id": "a0436b70",
   "metadata": {
    "execution": {
     "iopub.execute_input": "2022-04-22T05:59:01.764434Z",
     "iopub.status.busy": "2022-04-22T05:59:01.763673Z",
     "iopub.status.idle": "2022-04-22T05:59:01.766454Z",
     "shell.execute_reply": "2022-04-22T05:59:01.766890Z",
     "shell.execute_reply.started": "2022-04-17T05:53:53.398195Z"
    },
    "papermill": {
     "duration": 0.054982,
     "end_time": "2022-04-22T05:59:01.767021",
     "exception": false,
     "start_time": "2022-04-22T05:59:01.712039",
     "status": "completed"
    },
    "tags": []
   },
   "outputs": [
    {
     "data": {
      "text/html": [
       "<div>\n",
       "<style scoped>\n",
       "    .dataframe tbody tr th:only-of-type {\n",
       "        vertical-align: middle;\n",
       "    }\n",
       "\n",
       "    .dataframe tbody tr th {\n",
       "        vertical-align: top;\n",
       "    }\n",
       "\n",
       "    .dataframe thead th {\n",
       "        text-align: right;\n",
       "    }\n",
       "</style>\n",
       "<table border=\"1\" class=\"dataframe\">\n",
       "  <thead>\n",
       "    <tr style=\"text-align: right;\">\n",
       "      <th></th>\n",
       "      <th>id</th>\n",
       "      <th>anchor</th>\n",
       "      <th>target</th>\n",
       "      <th>score</th>\n",
       "      <th>code</th>\n",
       "      <th>title</th>\n",
       "    </tr>\n",
       "  </thead>\n",
       "  <tbody>\n",
       "    <tr>\n",
       "      <th>0</th>\n",
       "      <td>37d61fd2272659b1</td>\n",
       "      <td>abatement</td>\n",
       "      <td>abatement of pollution</td>\n",
       "      <td>0.50</td>\n",
       "      <td>A47</td>\n",
       "      <td>FURNITURE DOMESTIC ARTICLES OR APPLIANCES COFF...</td>\n",
       "    </tr>\n",
       "    <tr>\n",
       "      <th>1</th>\n",
       "      <td>7b9652b17b68b7a4</td>\n",
       "      <td>abatement</td>\n",
       "      <td>act of abating</td>\n",
       "      <td>0.75</td>\n",
       "      <td>A47</td>\n",
       "      <td>FURNITURE DOMESTIC ARTICLES OR APPLIANCES COFF...</td>\n",
       "    </tr>\n",
       "    <tr>\n",
       "      <th>2</th>\n",
       "      <td>36d72442aefd8232</td>\n",
       "      <td>abatement</td>\n",
       "      <td>active catalyst</td>\n",
       "      <td>0.25</td>\n",
       "      <td>A47</td>\n",
       "      <td>FURNITURE DOMESTIC ARTICLES OR APPLIANCES COFF...</td>\n",
       "    </tr>\n",
       "    <tr>\n",
       "      <th>3</th>\n",
       "      <td>5296b0c19e1ce60e</td>\n",
       "      <td>abatement</td>\n",
       "      <td>eliminating process</td>\n",
       "      <td>0.50</td>\n",
       "      <td>A47</td>\n",
       "      <td>FURNITURE DOMESTIC ARTICLES OR APPLIANCES COFF...</td>\n",
       "    </tr>\n",
       "    <tr>\n",
       "      <th>4</th>\n",
       "      <td>54c1e3b9184cb5b6</td>\n",
       "      <td>abatement</td>\n",
       "      <td>forest region</td>\n",
       "      <td>0.00</td>\n",
       "      <td>A47</td>\n",
       "      <td>FURNITURE DOMESTIC ARTICLES OR APPLIANCES COFF...</td>\n",
       "    </tr>\n",
       "  </tbody>\n",
       "</table>\n",
       "</div>"
      ],
      "text/plain": [
       "                 id     anchor                  target  score code  \\\n",
       "0  37d61fd2272659b1  abatement  abatement of pollution   0.50  A47   \n",
       "1  7b9652b17b68b7a4  abatement          act of abating   0.75  A47   \n",
       "2  36d72442aefd8232  abatement         active catalyst   0.25  A47   \n",
       "3  5296b0c19e1ce60e  abatement     eliminating process   0.50  A47   \n",
       "4  54c1e3b9184cb5b6  abatement           forest region   0.00  A47   \n",
       "\n",
       "                                               title  \n",
       "0  FURNITURE DOMESTIC ARTICLES OR APPLIANCES COFF...  \n",
       "1  FURNITURE DOMESTIC ARTICLES OR APPLIANCES COFF...  \n",
       "2  FURNITURE DOMESTIC ARTICLES OR APPLIANCES COFF...  \n",
       "3  FURNITURE DOMESTIC ARTICLES OR APPLIANCES COFF...  \n",
       "4  FURNITURE DOMESTIC ARTICLES OR APPLIANCES COFF...  "
      ]
     },
     "execution_count": 14,
     "metadata": {},
     "output_type": "execute_result"
    }
   ],
   "source": [
    "train.head()"
   ]
  },
  {
   "cell_type": "code",
   "execution_count": 15,
   "id": "7cb10668",
   "metadata": {
    "execution": {
     "iopub.execute_input": "2022-04-22T05:59:01.864106Z",
     "iopub.status.busy": "2022-04-22T05:59:01.863420Z",
     "iopub.status.idle": "2022-04-22T05:59:01.866147Z",
     "shell.execute_reply": "2022-04-22T05:59:01.866539Z",
     "shell.execute_reply.started": "2022-04-17T05:53:53.410757Z"
    },
    "papermill": {
     "duration": 0.056161,
     "end_time": "2022-04-22T05:59:01.866661",
     "exception": false,
     "start_time": "2022-04-22T05:59:01.810500",
     "status": "completed"
    },
    "tags": []
   },
   "outputs": [
    {
     "data": {
      "text/html": [
       "<div>\n",
       "<style scoped>\n",
       "    .dataframe tbody tr th:only-of-type {\n",
       "        vertical-align: middle;\n",
       "    }\n",
       "\n",
       "    .dataframe tbody tr th {\n",
       "        vertical-align: top;\n",
       "    }\n",
       "\n",
       "    .dataframe thead th {\n",
       "        text-align: right;\n",
       "    }\n",
       "</style>\n",
       "<table border=\"1\" class=\"dataframe\">\n",
       "  <thead>\n",
       "    <tr style=\"text-align: right;\">\n",
       "      <th></th>\n",
       "      <th>id</th>\n",
       "      <th>anchor</th>\n",
       "      <th>target</th>\n",
       "      <th>code</th>\n",
       "      <th>title</th>\n",
       "    </tr>\n",
       "  </thead>\n",
       "  <tbody>\n",
       "    <tr>\n",
       "      <th>0</th>\n",
       "      <td>4112d61851461f60</td>\n",
       "      <td>opc drum</td>\n",
       "      <td>inorganic photoconductor drum</td>\n",
       "      <td>G02</td>\n",
       "      <td>OPTICS</td>\n",
       "    </tr>\n",
       "    <tr>\n",
       "      <th>1</th>\n",
       "      <td>09e418c93a776564</td>\n",
       "      <td>adjust gas flow</td>\n",
       "      <td>altering gas flow</td>\n",
       "      <td>F23</td>\n",
       "      <td>COMBUSTION APPARATUS COMBUSTION PROCESSES</td>\n",
       "    </tr>\n",
       "    <tr>\n",
       "      <th>2</th>\n",
       "      <td>36baf228038e314b</td>\n",
       "      <td>lower trunnion</td>\n",
       "      <td>lower locating</td>\n",
       "      <td>B60</td>\n",
       "      <td>VEHICLES IN GENERAL</td>\n",
       "    </tr>\n",
       "    <tr>\n",
       "      <th>3</th>\n",
       "      <td>1f37ead645e7f0c8</td>\n",
       "      <td>cap component</td>\n",
       "      <td>upper portion</td>\n",
       "      <td>D06</td>\n",
       "      <td>TREATMENT OF TEXTILES OR THE LIKE LAUNDERING F...</td>\n",
       "    </tr>\n",
       "    <tr>\n",
       "      <th>4</th>\n",
       "      <td>71a5b6ad068d531f</td>\n",
       "      <td>neural stimulation</td>\n",
       "      <td>artificial neural network</td>\n",
       "      <td>H04</td>\n",
       "      <td>ELECTRIC COMMUNICATION TECHNIQUE</td>\n",
       "    </tr>\n",
       "  </tbody>\n",
       "</table>\n",
       "</div>"
      ],
      "text/plain": [
       "                 id              anchor                         target code  \\\n",
       "0  4112d61851461f60            opc drum  inorganic photoconductor drum  G02   \n",
       "1  09e418c93a776564     adjust gas flow              altering gas flow  F23   \n",
       "2  36baf228038e314b      lower trunnion                 lower locating  B60   \n",
       "3  1f37ead645e7f0c8       cap component                  upper portion  D06   \n",
       "4  71a5b6ad068d531f  neural stimulation      artificial neural network  H04   \n",
       "\n",
       "                                               title  \n",
       "0                                             OPTICS  \n",
       "1          COMBUSTION APPARATUS COMBUSTION PROCESSES  \n",
       "2                                VEHICLES IN GENERAL  \n",
       "3  TREATMENT OF TEXTILES OR THE LIKE LAUNDERING F...  \n",
       "4                   ELECTRIC COMMUNICATION TECHNIQUE  "
      ]
     },
     "execution_count": 15,
     "metadata": {},
     "output_type": "execute_result"
    }
   ],
   "source": [
    "test.head()"
   ]
  },
  {
   "cell_type": "markdown",
   "id": "3f30e6cd",
   "metadata": {
    "papermill": {
     "duration": 0.04398,
     "end_time": "2022-04-22T05:59:01.954763",
     "exception": false,
     "start_time": "2022-04-22T05:59:01.910783",
     "status": "completed"
    },
    "tags": []
   },
   "source": [
    "# K-fold cross validation\n",
    "Implementing the stratified K-fold cross validation method in our training set. The logic behind the following code has been taken from the following Kaggle Notebook given [here](https://www.kaggle.com/code/abhishek?scriptVersionId=90918173&cellId=2)"
   ]
  },
  {
   "cell_type": "code",
   "execution_count": 16,
   "id": "44e24dff",
   "metadata": {
    "execution": {
     "iopub.execute_input": "2022-04-22T05:59:02.049903Z",
     "iopub.status.busy": "2022-04-22T05:59:02.049294Z",
     "iopub.status.idle": "2022-04-22T05:59:02.587367Z",
     "shell.execute_reply": "2022-04-22T05:59:02.587808Z",
     "shell.execute_reply.started": "2022-04-17T05:53:53.426233Z"
    },
    "papermill": {
     "duration": 0.589629,
     "end_time": "2022-04-22T05:59:02.587999",
     "exception": false,
     "start_time": "2022-04-22T05:59:01.998370",
     "status": "completed"
    },
    "tags": []
   },
   "outputs": [],
   "source": [
    "from sklearn import model_selection\n",
    "\n",
    "def create_kfold_dataset(dataset, num_splits):\n",
    "    # we create a new column called kfold and fill it with -1\n",
    "    dataset[\"kfold\"] = -1\n",
    "    # the next step is to randomize the rows of the data\n",
    "    dataset = dataset.sample(frac=1).reset_index(drop=True)\n",
    "    \n",
    "    # calculate number of bins by Sturge's rule\n",
    "    # I take the floor of the value, you can also\n",
    "    # just round it\n",
    "    num_bins = int(np.floor(1 + np.log2(len(dataset))))\n",
    "    \n",
    "    # bin targets\n",
    "    dataset.loc[:, \"bins\"] = pd.cut(dataset[\"score\"], bins=num_bins, labels=False)\n",
    "    \n",
    "    # initiate the kfold class from model_selection module\n",
    "    kf = model_selection.StratifiedKFold(n_splits=num_splits, shuffle=True, random_state=42)\n",
    "    \n",
    "    # fill the new kfold column\n",
    "    # note that, instead of targets, we use bins!\n",
    "    for f, (t_, v_) in enumerate(kf.split(X=dataset, y=dataset.bins.values)):\n",
    "        dataset.loc[v_, 'kfold'] = f\n",
    "    \n",
    "    # drop the bins column\n",
    "    dataset = dataset.drop(\"bins\", axis=1)\n",
    "\n",
    "    # return dataframe with folds\n",
    "    return dataset.copy()"
   ]
  },
  {
   "cell_type": "code",
   "execution_count": 17,
   "id": "7c6ed99d",
   "metadata": {
    "execution": {
     "iopub.execute_input": "2022-04-22T05:59:02.688057Z",
     "iopub.status.busy": "2022-04-22T05:59:02.686890Z",
     "iopub.status.idle": "2022-04-22T05:59:02.690140Z",
     "shell.execute_reply": "2022-04-22T05:59:02.690534Z",
     "shell.execute_reply.started": "2022-04-17T05:53:54.080546Z"
    },
    "papermill": {
     "duration": 0.058625,
     "end_time": "2022-04-22T05:59:02.690666",
     "exception": false,
     "start_time": "2022-04-22T05:59:02.632041",
     "status": "completed"
    },
    "tags": []
   },
   "outputs": [
    {
     "data": {
      "text/html": [
       "<div>\n",
       "<style scoped>\n",
       "    .dataframe tbody tr th:only-of-type {\n",
       "        vertical-align: middle;\n",
       "    }\n",
       "\n",
       "    .dataframe tbody tr th {\n",
       "        vertical-align: top;\n",
       "    }\n",
       "\n",
       "    .dataframe thead th {\n",
       "        text-align: right;\n",
       "    }\n",
       "</style>\n",
       "<table border=\"1\" class=\"dataframe\">\n",
       "  <thead>\n",
       "    <tr style=\"text-align: right;\">\n",
       "      <th></th>\n",
       "      <th>id</th>\n",
       "      <th>anchor</th>\n",
       "      <th>target</th>\n",
       "      <th>score</th>\n",
       "      <th>code</th>\n",
       "      <th>title</th>\n",
       "    </tr>\n",
       "  </thead>\n",
       "  <tbody>\n",
       "    <tr>\n",
       "      <th>0</th>\n",
       "      <td>37d61fd2272659b1</td>\n",
       "      <td>abatement</td>\n",
       "      <td>abatement of pollution</td>\n",
       "      <td>0.50</td>\n",
       "      <td>A47</td>\n",
       "      <td>FURNITURE DOMESTIC ARTICLES OR APPLIANCES COFF...</td>\n",
       "    </tr>\n",
       "    <tr>\n",
       "      <th>1</th>\n",
       "      <td>7b9652b17b68b7a4</td>\n",
       "      <td>abatement</td>\n",
       "      <td>act of abating</td>\n",
       "      <td>0.75</td>\n",
       "      <td>A47</td>\n",
       "      <td>FURNITURE DOMESTIC ARTICLES OR APPLIANCES COFF...</td>\n",
       "    </tr>\n",
       "    <tr>\n",
       "      <th>2</th>\n",
       "      <td>36d72442aefd8232</td>\n",
       "      <td>abatement</td>\n",
       "      <td>active catalyst</td>\n",
       "      <td>0.25</td>\n",
       "      <td>A47</td>\n",
       "      <td>FURNITURE DOMESTIC ARTICLES OR APPLIANCES COFF...</td>\n",
       "    </tr>\n",
       "    <tr>\n",
       "      <th>3</th>\n",
       "      <td>5296b0c19e1ce60e</td>\n",
       "      <td>abatement</td>\n",
       "      <td>eliminating process</td>\n",
       "      <td>0.50</td>\n",
       "      <td>A47</td>\n",
       "      <td>FURNITURE DOMESTIC ARTICLES OR APPLIANCES COFF...</td>\n",
       "    </tr>\n",
       "    <tr>\n",
       "      <th>4</th>\n",
       "      <td>54c1e3b9184cb5b6</td>\n",
       "      <td>abatement</td>\n",
       "      <td>forest region</td>\n",
       "      <td>0.00</td>\n",
       "      <td>A47</td>\n",
       "      <td>FURNITURE DOMESTIC ARTICLES OR APPLIANCES COFF...</td>\n",
       "    </tr>\n",
       "  </tbody>\n",
       "</table>\n",
       "</div>"
      ],
      "text/plain": [
       "                 id     anchor                  target  score code  \\\n",
       "0  37d61fd2272659b1  abatement  abatement of pollution   0.50  A47   \n",
       "1  7b9652b17b68b7a4  abatement          act of abating   0.75  A47   \n",
       "2  36d72442aefd8232  abatement         active catalyst   0.25  A47   \n",
       "3  5296b0c19e1ce60e  abatement     eliminating process   0.50  A47   \n",
       "4  54c1e3b9184cb5b6  abatement           forest region   0.00  A47   \n",
       "\n",
       "                                               title  \n",
       "0  FURNITURE DOMESTIC ARTICLES OR APPLIANCES COFF...  \n",
       "1  FURNITURE DOMESTIC ARTICLES OR APPLIANCES COFF...  \n",
       "2  FURNITURE DOMESTIC ARTICLES OR APPLIANCES COFF...  \n",
       "3  FURNITURE DOMESTIC ARTICLES OR APPLIANCES COFF...  \n",
       "4  FURNITURE DOMESTIC ARTICLES OR APPLIANCES COFF...  "
      ]
     },
     "execution_count": 17,
     "metadata": {},
     "output_type": "execute_result"
    }
   ],
   "source": [
    "train.head()"
   ]
  },
  {
   "cell_type": "code",
   "execution_count": 18,
   "id": "17d26c97",
   "metadata": {
    "execution": {
     "iopub.execute_input": "2022-04-22T05:59:02.787003Z",
     "iopub.status.busy": "2022-04-22T05:59:02.786237Z",
     "iopub.status.idle": "2022-04-22T05:59:02.832134Z",
     "shell.execute_reply": "2022-04-22T05:59:02.832545Z",
     "shell.execute_reply.started": "2022-04-17T05:53:54.097184Z"
    },
    "papermill": {
     "duration": 0.096826,
     "end_time": "2022-04-22T05:59:02.832676",
     "exception": false,
     "start_time": "2022-04-22T05:59:02.735850",
     "status": "completed"
    },
    "tags": []
   },
   "outputs": [
    {
     "data": {
      "text/html": [
       "<div>\n",
       "<style scoped>\n",
       "    .dataframe tbody tr th:only-of-type {\n",
       "        vertical-align: middle;\n",
       "    }\n",
       "\n",
       "    .dataframe tbody tr th {\n",
       "        vertical-align: top;\n",
       "    }\n",
       "\n",
       "    .dataframe thead th {\n",
       "        text-align: right;\n",
       "    }\n",
       "</style>\n",
       "<table border=\"1\" class=\"dataframe\">\n",
       "  <thead>\n",
       "    <tr style=\"text-align: right;\">\n",
       "      <th></th>\n",
       "      <th>id</th>\n",
       "      <th>anchor</th>\n",
       "      <th>target</th>\n",
       "      <th>score</th>\n",
       "      <th>code</th>\n",
       "      <th>title</th>\n",
       "      <th>kfold</th>\n",
       "    </tr>\n",
       "  </thead>\n",
       "  <tbody>\n",
       "    <tr>\n",
       "      <th>0</th>\n",
       "      <td>2b4b1a7ed5b137b7</td>\n",
       "      <td>stationary rod</td>\n",
       "      <td>movable rod</td>\n",
       "      <td>0.25</td>\n",
       "      <td>G01</td>\n",
       "      <td>MEASURING TESTING</td>\n",
       "      <td>0</td>\n",
       "    </tr>\n",
       "    <tr>\n",
       "      <th>1</th>\n",
       "      <td>84fdd95f30b10bef</td>\n",
       "      <td>rotary section</td>\n",
       "      <td>bluetooth portable rotary phone</td>\n",
       "      <td>0.00</td>\n",
       "      <td>B21</td>\n",
       "      <td>MECHANICAL METAL-WORKING WITHOUT ESSENTIALLY R...</td>\n",
       "      <td>3</td>\n",
       "    </tr>\n",
       "    <tr>\n",
       "      <th>2</th>\n",
       "      <td>7600dfcbe2832fc7</td>\n",
       "      <td>moisture proof film</td>\n",
       "      <td>light functional layer</td>\n",
       "      <td>0.00</td>\n",
       "      <td>H05</td>\n",
       "      <td>ELECTRIC TECHNIQUES NOT OTHERWISE PROVIDED FOR</td>\n",
       "      <td>2</td>\n",
       "    </tr>\n",
       "    <tr>\n",
       "      <th>3</th>\n",
       "      <td>9dab5cd614e78128</td>\n",
       "      <td>measure surface temperature</td>\n",
       "      <td>temperature detecting techniques</td>\n",
       "      <td>0.50</td>\n",
       "      <td>F23</td>\n",
       "      <td>COMBUSTION APPARATUS COMBUSTION PROCESSES</td>\n",
       "      <td>2</td>\n",
       "    </tr>\n",
       "    <tr>\n",
       "      <th>4</th>\n",
       "      <td>7ea03f90592a7821</td>\n",
       "      <td>surgical gloves</td>\n",
       "      <td>disposable gloves</td>\n",
       "      <td>0.50</td>\n",
       "      <td>C10</td>\n",
       "      <td>PETROLEUM GAS OR COKE INDUSTRIES TECHNICAL GAS...</td>\n",
       "      <td>2</td>\n",
       "    </tr>\n",
       "  </tbody>\n",
       "</table>\n",
       "</div>"
      ],
      "text/plain": [
       "                 id                       anchor  \\\n",
       "0  2b4b1a7ed5b137b7               stationary rod   \n",
       "1  84fdd95f30b10bef               rotary section   \n",
       "2  7600dfcbe2832fc7          moisture proof film   \n",
       "3  9dab5cd614e78128  measure surface temperature   \n",
       "4  7ea03f90592a7821              surgical gloves   \n",
       "\n",
       "                             target  score code  \\\n",
       "0                       movable rod   0.25  G01   \n",
       "1   bluetooth portable rotary phone   0.00  B21   \n",
       "2            light functional layer   0.00  H05   \n",
       "3  temperature detecting techniques   0.50  F23   \n",
       "4                 disposable gloves   0.50  C10   \n",
       "\n",
       "                                               title  kfold  \n",
       "0                                  MEASURING TESTING      0  \n",
       "1  MECHANICAL METAL-WORKING WITHOUT ESSENTIALLY R...      3  \n",
       "2     ELECTRIC TECHNIQUES NOT OTHERWISE PROVIDED FOR      2  \n",
       "3          COMBUSTION APPARATUS COMBUSTION PROCESSES      2  \n",
       "4  PETROLEUM GAS OR COKE INDUSTRIES TECHNICAL GAS...      2  "
      ]
     },
     "execution_count": 18,
     "metadata": {},
     "output_type": "execute_result"
    }
   ],
   "source": [
    "train = create_kfold_dataset(train.copy(), num_splits=5)\n",
    "train.head()"
   ]
  },
  {
   "cell_type": "code",
   "execution_count": 19,
   "id": "f50cc2da",
   "metadata": {
    "execution": {
     "iopub.execute_input": "2022-04-22T05:59:02.945079Z",
     "iopub.status.busy": "2022-04-22T05:59:02.943768Z",
     "iopub.status.idle": "2022-04-22T05:59:02.947714Z",
     "shell.execute_reply": "2022-04-22T05:59:02.947168Z",
     "shell.execute_reply.started": "2022-04-17T05:53:54.157233Z"
    },
    "papermill": {
     "duration": 0.070394,
     "end_time": "2022-04-22T05:59:02.947839",
     "exception": false,
     "start_time": "2022-04-22T05:59:02.877445",
     "status": "completed"
    },
    "tags": []
   },
   "outputs": [
    {
     "data": {
      "text/plain": [
       "0    7295\n",
       "2    7295\n",
       "1    7295\n",
       "3    7294\n",
       "4    7294\n",
       "Name: kfold, dtype: int64"
      ]
     },
     "execution_count": 19,
     "metadata": {},
     "output_type": "execute_result"
    }
   ],
   "source": [
    "train.kfold.value_counts()"
   ]
  },
  {
   "cell_type": "markdown",
   "id": "63b63644",
   "metadata": {
    "papermill": {
     "duration": 0.048899,
     "end_time": "2022-04-22T05:59:03.048301",
     "exception": false,
     "start_time": "2022-04-22T05:59:02.999402",
     "status": "completed"
    },
    "tags": []
   },
   "source": [
    "# Intializing the tokenizer\n",
    "**We use the deberta v2 large model from huggingface**"
   ]
  },
  {
   "cell_type": "code",
   "execution_count": 20,
   "id": "4d7d5673",
   "metadata": {
    "execution": {
     "iopub.execute_input": "2022-04-22T05:59:03.142695Z",
     "iopub.status.busy": "2022-04-22T05:59:03.142038Z",
     "iopub.status.idle": "2022-04-22T05:59:03.275153Z",
     "shell.execute_reply": "2022-04-22T05:59:03.274065Z",
     "shell.execute_reply.started": "2022-04-17T05:53:54.168173Z"
    },
    "papermill": {
     "duration": 0.182088,
     "end_time": "2022-04-22T05:59:03.275291",
     "exception": false,
     "start_time": "2022-04-22T05:59:03.093203",
     "status": "completed"
    },
    "tags": []
   },
   "outputs": [],
   "source": [
    "# Intializing the deberta tokenizer\n",
    "tokenizer = AutoTokenizer.from_pretrained(model_name)"
   ]
  },
  {
   "cell_type": "code",
   "execution_count": 21,
   "id": "d53c9e88",
   "metadata": {
    "execution": {
     "iopub.execute_input": "2022-04-22T05:59:03.371533Z",
     "iopub.status.busy": "2022-04-22T05:59:03.370862Z",
     "iopub.status.idle": "2022-04-22T05:59:03.374050Z",
     "shell.execute_reply": "2022-04-22T05:59:03.373596Z",
     "shell.execute_reply.started": "2022-04-17T05:53:54.312622Z"
    },
    "papermill": {
     "duration": 0.052772,
     "end_time": "2022-04-22T05:59:03.374163",
     "exception": false,
     "start_time": "2022-04-22T05:59:03.321391",
     "status": "completed"
    },
    "tags": []
   },
   "outputs": [
    {
     "data": {
      "text/plain": [
       "PreTrainedTokenizerFast(name_or_path='../input/roberta-base', vocab_size=50265, model_max_len=1000000000000000019884624838656, is_fast=True, padding_side='right', truncation_side='right', special_tokens={'bos_token': '<s>', 'eos_token': '</s>', 'unk_token': '<unk>', 'sep_token': '</s>', 'pad_token': '<pad>', 'cls_token': '<s>', 'mask_token': AddedToken(\"<mask>\", rstrip=False, lstrip=True, single_word=False, normalized=False)})"
      ]
     },
     "execution_count": 21,
     "metadata": {},
     "output_type": "execute_result"
    }
   ],
   "source": [
    "tokenizer"
   ]
  },
  {
   "cell_type": "code",
   "execution_count": 22,
   "id": "3983374f",
   "metadata": {
    "execution": {
     "iopub.execute_input": "2022-04-22T05:59:03.470228Z",
     "iopub.status.busy": "2022-04-22T05:59:03.469650Z",
     "iopub.status.idle": "2022-04-22T05:59:03.477667Z",
     "shell.execute_reply": "2022-04-22T05:59:03.478205Z",
     "shell.execute_reply.started": "2022-04-17T05:53:54.324031Z"
    },
    "papermill": {
     "duration": 0.058553,
     "end_time": "2022-04-22T05:59:03.478372",
     "exception": false,
     "start_time": "2022-04-22T05:59:03.419819",
     "status": "completed"
    },
    "tags": []
   },
   "outputs": [
    {
     "name": "stdout",
     "output_type": "stream",
     "text": [
      "{'input_ids': [0, 119, 30289, 21966, 2], 'attention_mask': [1, 1, 1, 1, 1]}\n"
     ]
    }
   ],
   "source": [
    "# The tokenized output shown below\n",
    "encoded_input = tokenizer(train['target'][0])\n",
    "print(encoded_input)"
   ]
  },
  {
   "cell_type": "code",
   "execution_count": 23,
   "id": "94e3d681",
   "metadata": {
    "execution": {
     "iopub.execute_input": "2022-04-22T05:59:03.574232Z",
     "iopub.status.busy": "2022-04-22T05:59:03.573505Z",
     "iopub.status.idle": "2022-04-22T05:59:03.575868Z",
     "shell.execute_reply": "2022-04-22T05:59:03.575471Z",
     "shell.execute_reply.started": "2022-04-17T05:53:54.337975Z"
    },
    "papermill": {
     "duration": 0.05129,
     "end_time": "2022-04-22T05:59:03.576007",
     "exception": false,
     "start_time": "2022-04-22T05:59:03.524717",
     "status": "completed"
    },
    "tags": []
   },
   "outputs": [],
   "source": [
    "# Saving the model in the output folder\n",
    "#tokenizer.save_pretrained(\"./roberta_base/\")"
   ]
  },
  {
   "cell_type": "code",
   "execution_count": 24,
   "id": "a161512e",
   "metadata": {
    "execution": {
     "iopub.execute_input": "2022-04-22T05:59:03.678255Z",
     "iopub.status.busy": "2022-04-22T05:59:03.677711Z",
     "iopub.status.idle": "2022-04-22T05:59:03.682481Z",
     "shell.execute_reply": "2022-04-22T05:59:03.682886Z",
     "shell.execute_reply.started": "2022-04-17T05:53:54.343821Z"
    },
    "papermill": {
     "duration": 0.061398,
     "end_time": "2022-04-22T05:59:03.683029",
     "exception": false,
     "start_time": "2022-04-22T05:59:03.621631",
     "status": "completed"
    },
    "tags": []
   },
   "outputs": [
    {
     "data": {
      "text/html": [
       "<div>\n",
       "<style scoped>\n",
       "    .dataframe tbody tr th:only-of-type {\n",
       "        vertical-align: middle;\n",
       "    }\n",
       "\n",
       "    .dataframe tbody tr th {\n",
       "        vertical-align: top;\n",
       "    }\n",
       "\n",
       "    .dataframe thead th {\n",
       "        text-align: right;\n",
       "    }\n",
       "</style>\n",
       "<table border=\"1\" class=\"dataframe\">\n",
       "  <thead>\n",
       "    <tr style=\"text-align: right;\">\n",
       "      <th></th>\n",
       "      <th>id</th>\n",
       "      <th>anchor</th>\n",
       "      <th>target</th>\n",
       "      <th>score</th>\n",
       "      <th>code</th>\n",
       "      <th>title</th>\n",
       "      <th>kfold</th>\n",
       "    </tr>\n",
       "  </thead>\n",
       "  <tbody>\n",
       "    <tr>\n",
       "      <th>0</th>\n",
       "      <td>2b4b1a7ed5b137b7</td>\n",
       "      <td>stationary rod</td>\n",
       "      <td>movable rod</td>\n",
       "      <td>0.25</td>\n",
       "      <td>G01</td>\n",
       "      <td>MEASURING TESTING</td>\n",
       "      <td>0</td>\n",
       "    </tr>\n",
       "    <tr>\n",
       "      <th>1</th>\n",
       "      <td>84fdd95f30b10bef</td>\n",
       "      <td>rotary section</td>\n",
       "      <td>bluetooth portable rotary phone</td>\n",
       "      <td>0.00</td>\n",
       "      <td>B21</td>\n",
       "      <td>MECHANICAL METAL-WORKING WITHOUT ESSENTIALLY R...</td>\n",
       "      <td>3</td>\n",
       "    </tr>\n",
       "    <tr>\n",
       "      <th>2</th>\n",
       "      <td>7600dfcbe2832fc7</td>\n",
       "      <td>moisture proof film</td>\n",
       "      <td>light functional layer</td>\n",
       "      <td>0.00</td>\n",
       "      <td>H05</td>\n",
       "      <td>ELECTRIC TECHNIQUES NOT OTHERWISE PROVIDED FOR</td>\n",
       "      <td>2</td>\n",
       "    </tr>\n",
       "    <tr>\n",
       "      <th>3</th>\n",
       "      <td>9dab5cd614e78128</td>\n",
       "      <td>measure surface temperature</td>\n",
       "      <td>temperature detecting techniques</td>\n",
       "      <td>0.50</td>\n",
       "      <td>F23</td>\n",
       "      <td>COMBUSTION APPARATUS COMBUSTION PROCESSES</td>\n",
       "      <td>2</td>\n",
       "    </tr>\n",
       "    <tr>\n",
       "      <th>4</th>\n",
       "      <td>7ea03f90592a7821</td>\n",
       "      <td>surgical gloves</td>\n",
       "      <td>disposable gloves</td>\n",
       "      <td>0.50</td>\n",
       "      <td>C10</td>\n",
       "      <td>PETROLEUM GAS OR COKE INDUSTRIES TECHNICAL GAS...</td>\n",
       "      <td>2</td>\n",
       "    </tr>\n",
       "  </tbody>\n",
       "</table>\n",
       "</div>"
      ],
      "text/plain": [
       "                 id                       anchor  \\\n",
       "0  2b4b1a7ed5b137b7               stationary rod   \n",
       "1  84fdd95f30b10bef               rotary section   \n",
       "2  7600dfcbe2832fc7          moisture proof film   \n",
       "3  9dab5cd614e78128  measure surface temperature   \n",
       "4  7ea03f90592a7821              surgical gloves   \n",
       "\n",
       "                             target  score code  \\\n",
       "0                       movable rod   0.25  G01   \n",
       "1   bluetooth portable rotary phone   0.00  B21   \n",
       "2            light functional layer   0.00  H05   \n",
       "3  temperature detecting techniques   0.50  F23   \n",
       "4                 disposable gloves   0.50  C10   \n",
       "\n",
       "                                               title  kfold  \n",
       "0                                  MEASURING TESTING      0  \n",
       "1  MECHANICAL METAL-WORKING WITHOUT ESSENTIALLY R...      3  \n",
       "2     ELECTRIC TECHNIQUES NOT OTHERWISE PROVIDED FOR      2  \n",
       "3          COMBUSTION APPARATUS COMBUSTION PROCESSES      2  \n",
       "4  PETROLEUM GAS OR COKE INDUSTRIES TECHNICAL GAS...      2  "
      ]
     },
     "execution_count": 24,
     "metadata": {},
     "output_type": "execute_result"
    }
   ],
   "source": [
    "train.head()"
   ]
  },
  {
   "cell_type": "markdown",
   "id": "33839e2f",
   "metadata": {
    "papermill": {
     "duration": 0.047333,
     "end_time": "2022-04-22T05:59:03.777085",
     "exception": false,
     "start_time": "2022-04-22T05:59:03.729752",
     "status": "completed"
    },
    "tags": []
   },
   "source": [
    "# Creating Phrase dataset for the model training"
   ]
  },
  {
   "cell_type": "code",
   "execution_count": 25,
   "id": "33f51296",
   "metadata": {
    "execution": {
     "iopub.execute_input": "2022-04-22T05:59:03.878861Z",
     "iopub.status.busy": "2022-04-22T05:59:03.878370Z",
     "iopub.status.idle": "2022-04-22T05:59:03.882057Z",
     "shell.execute_reply": "2022-04-22T05:59:03.881583Z",
     "shell.execute_reply.started": "2022-04-17T05:53:54.362527Z"
    },
    "papermill": {
     "duration": 0.056795,
     "end_time": "2022-04-22T05:59:03.882162",
     "exception": false,
     "start_time": "2022-04-22T05:59:03.825367",
     "status": "completed"
    },
    "tags": []
   },
   "outputs": [],
   "source": [
    "def create_data(id_, anchor, target, code, title, score, tokenizer, max_len, train_status=True):\n",
    "    input_ids = []\n",
    "    attention_mask = []\n",
    "    token_type_ids = []\n",
    "    labels = []\n",
    "    ids = []\n",
    "    encoded_sent = tokenizer.batch_encode_plus([(k[0] + \" \" + k[2], k[1]) for k in zip(anchor,target,title)],\\\n",
    "                                                max_length = max_len,\\\n",
    "                                                padding = \"max_length\", truncation = True)\n",
    "    for i in range(len(anchor)): \n",
    "        ids.append(id_[i])\n",
    "        input_ids.append(encoded_sent['input_ids'][i])\n",
    "        attention_mask.append(encoded_sent['attention_mask'][i])\n",
    "        if train_status:\n",
    "            labels.append(score[i])\n",
    "    return {\"input_ids\":input_ids,\n",
    "            \"attention_mask\":attention_mask,\n",
    "            \"ids\":ids, \n",
    "            }, labels"
   ]
  },
  {
   "cell_type": "markdown",
   "id": "2ef05a0d",
   "metadata": {
    "papermill": {
     "duration": 0.046555,
     "end_time": "2022-04-22T05:59:03.974877",
     "exception": false,
     "start_time": "2022-04-22T05:59:03.928322",
     "status": "completed"
    },
    "tags": []
   },
   "source": [
    "# Creating the training Model\n",
    "We first create a basic deep learning model. More explaination will be given later."
   ]
  },
  {
   "cell_type": "code",
   "execution_count": 26,
   "id": "0138dfd6",
   "metadata": {
    "execution": {
     "iopub.execute_input": "2022-04-22T05:59:04.076366Z",
     "iopub.status.busy": "2022-04-22T05:59:04.075555Z",
     "iopub.status.idle": "2022-04-22T05:59:04.078024Z",
     "shell.execute_reply": "2022-04-22T05:59:04.077575Z",
     "shell.execute_reply.started": "2022-04-17T05:53:54.378349Z"
    },
    "papermill": {
     "duration": 0.055943,
     "end_time": "2022-04-22T05:59:04.078136",
     "exception": false,
     "start_time": "2022-04-22T05:59:04.022193",
     "status": "completed"
    },
    "tags": []
   },
   "outputs": [],
   "source": [
    "import tensorflow as tf\n",
    "\n",
    "def build_model(model_name, MAX_LEN):\n",
    "    \n",
    "    input__ids = tf.keras.Input(shape=(MAX_LEN, ), dtype = tf.int32)\n",
    "    input__mask = tf.keras.Input(shape=(MAX_LEN, ), dtype = tf.int32)\n",
    "    \n",
    "    transformer = TFAutoModel.from_pretrained(model_name, trainable=True)\n",
    "    x = transformer(input_ids = input__ids, \n",
    "                      attention_mask = input__mask)\n",
    "    #print(x.last_hidden_state)\n",
    "    x = tf.keras.layers.GlobalAveragePooling1D()(x.last_hidden_state)\n",
    "    x = tf.keras.layers.Dropout(0.3)(x)\n",
    "\n",
    "    fnl = tf.keras.layers.Dense(1)(x)\n",
    "    \n",
    "    model = tf.keras.Model(inputs = [input__ids, input__mask], \n",
    "                           outputs = fnl)\n",
    "    \n",
    "    model.compile(optimizer = tf.keras.optimizers.Adam(learning_rate=LR), loss = \"mse\")\n",
    "    return model"
   ]
  },
  {
   "cell_type": "markdown",
   "id": "c4545434",
   "metadata": {
    "papermill": {
     "duration": 0.04717,
     "end_time": "2022-04-22T05:59:04.172474",
     "exception": false,
     "start_time": "2022-04-22T05:59:04.125304",
     "status": "completed"
    },
    "tags": []
   },
   "source": [
    "# Creating the validation and training set for model training purpose"
   ]
  },
  {
   "cell_type": "code",
   "execution_count": 27,
   "id": "10579f29",
   "metadata": {
    "execution": {
     "iopub.execute_input": "2022-04-22T05:59:04.274135Z",
     "iopub.status.busy": "2022-04-22T05:59:04.273590Z",
     "iopub.status.idle": "2022-04-22T05:59:07.230334Z",
     "shell.execute_reply": "2022-04-22T05:59:07.230761Z",
     "shell.execute_reply.started": "2022-04-17T05:53:54.388516Z"
    },
    "papermill": {
     "duration": 3.011323,
     "end_time": "2022-04-22T05:59:07.230939",
     "exception": false,
     "start_time": "2022-04-22T05:59:04.219616",
     "status": "completed"
    },
    "tags": []
   },
   "outputs": [],
   "source": [
    "fld = 0\n",
    "\n",
    "train_data, train_labels = create_data(train[train.kfold != fld]['id'].tolist(), \n",
    "                                       train[train.kfold != fld]['anchor'].tolist(), \n",
    "                                       train[train.kfold != fld]['target'].tolist(),\n",
    "                                       train[train.kfold != fld]['code'].tolist(),\n",
    "                                       train[train.kfold != fld]['title'].tolist(), \n",
    "                                       train[train.kfold != fld]['score'].tolist(), \n",
    "                                       tokenizer, max_len, train_status=True)\n",
    "\n",
    "val_data, val_labels = create_data(train[train.kfold == fld]['id'].tolist(), \n",
    "                                       train[train.kfold == fld]['anchor'].tolist(), \n",
    "                                       train[train.kfold == fld]['target'].tolist(),\n",
    "                                       train[train.kfold == fld]['code'].tolist(),\n",
    "                                       train[train.kfold == fld]['title'].tolist(), \n",
    "                                       train[train.kfold == fld]['score'].tolist(), \n",
    "                                       tokenizer, max_len, train_status=True)\n"
   ]
  },
  {
   "cell_type": "markdown",
   "id": "f5bc0c31",
   "metadata": {
    "papermill": {
     "duration": 0.050336,
     "end_time": "2022-04-22T05:59:07.332212",
     "exception": false,
     "start_time": "2022-04-22T05:59:07.281876",
     "status": "completed"
    },
    "tags": []
   },
   "source": [
    "# Creating the callback Pearson Correlation coefficient as a tracking metrics for the model "
   ]
  },
  {
   "cell_type": "code",
   "execution_count": 28,
   "id": "2f99e043",
   "metadata": {
    "execution": {
     "iopub.execute_input": "2022-04-22T05:59:07.439165Z",
     "iopub.status.busy": "2022-04-22T05:59:07.438531Z",
     "iopub.status.idle": "2022-04-22T05:59:08.266402Z",
     "shell.execute_reply": "2022-04-22T05:59:08.266882Z",
     "shell.execute_reply.started": "2022-04-17T05:53:57.425991Z"
    },
    "papermill": {
     "duration": 0.88334,
     "end_time": "2022-04-22T05:59:08.267132",
     "exception": false,
     "start_time": "2022-04-22T05:59:07.383792",
     "status": "completed"
    },
    "tags": []
   },
   "outputs": [],
   "source": [
    "from scipy.stats import pearsonr\n",
    "\n",
    "class PearsonCallback(tf.keras.callbacks.Callback):\n",
    "    def __init__(self, val_data):\n",
    "    #    pass\n",
    "        #print(dir(self.model))\n",
    "        self.X_val, self.Y_val = val_data\n",
    "    #def on_epoch_start(self,epoch):\n",
    "    #    print(f\"Learning rate: {self.model.optimize.learning_rate}\")\n",
    "    def on_epoch_end(self, epoch, logs):\n",
    "        X_val_preds = self.model.predict(self.X_val)\n",
    "        #print(X_val_preds.shape,self.Y_val.shape)\n",
    "        pearson_corr = pearsonr(X_val_preds.ravel(), self.Y_val)\n",
    "        print(\"pearsonr_val (from log) =\", pearson_corr[0])\n",
    "        logs[\"val_pearsonr\"] = pearson_corr[0]"
   ]
  },
  {
   "cell_type": "code",
   "execution_count": 29,
   "id": "2a8a8635",
   "metadata": {
    "execution": {
     "iopub.execute_input": "2022-04-22T05:59:08.370339Z",
     "iopub.status.busy": "2022-04-22T05:59:08.369588Z",
     "iopub.status.idle": "2022-04-22T05:59:08.581013Z",
     "shell.execute_reply": "2022-04-22T05:59:08.580573Z",
     "shell.execute_reply.started": "2022-04-17T05:53:58.272034Z"
    },
    "papermill": {
     "duration": 0.266649,
     "end_time": "2022-04-22T05:59:08.581139",
     "exception": false,
     "start_time": "2022-04-22T05:59:08.314490",
     "status": "completed"
    },
    "tags": []
   },
   "outputs": [
    {
     "data": {
      "text/plain": [
       "[<matplotlib.lines.Line2D at 0x7fb62496e650>]"
      ]
     },
     "execution_count": 29,
     "metadata": {},
     "output_type": "execute_result"
    },
    {
     "data": {
      "image/png": "[encoded data removed]",
      "text/plain": [
       "<Figure size 432x288 with 1 Axes>"
      ]
     },
     "metadata": {
      "needs_background": "light"
     },
     "output_type": "display_data"
    }
   ],
   "source": [
    "import matplotlib.pyplot as plt\n",
    "\n",
    "def scheduler(epoch):\n",
    "    learning_rate = LR\n",
    "    if epoch == 0:\n",
    "        return learning_rate * 0.05\n",
    "    else:\n",
    "        return learning_rate * (0.8**epoch)\n",
    "    \n",
    "callback_lr = tf.keras.callbacks.LearningRateScheduler(scheduler)\n",
    "\n",
    "plt.plot([scheduler(e) for e in range(NUM_EPOCHS)])"
   ]
  },
  {
   "cell_type": "code",
   "execution_count": 30,
   "id": "3228bbbc",
   "metadata": {
    "execution": {
     "iopub.execute_input": "2022-04-22T05:59:08.683957Z",
     "iopub.status.busy": "2022-04-22T05:59:08.683419Z",
     "iopub.status.idle": "2022-04-22T05:59:26.199531Z",
     "shell.execute_reply": "2022-04-22T05:59:26.198588Z",
     "shell.execute_reply.started": "2022-04-17T05:53:58.490708Z"
    },
    "papermill": {
     "duration": 17.570206,
     "end_time": "2022-04-22T05:59:26.199689",
     "exception": false,
     "start_time": "2022-04-22T05:59:08.629483",
     "status": "completed"
    },
    "tags": []
   },
   "outputs": [
    {
     "name": "stderr",
     "output_type": "stream",
     "text": [
      "2022-04-22 05:59:08.826655: I tensorflow/stream_executor/cuda/cuda_gpu_executor.cc:937] successful NUMA node read from SysFS had negative value (-1), but there must be at least one NUMA node, so returning NUMA node zero\n",
      "2022-04-22 05:59:08.827773: I tensorflow/stream_executor/cuda/cuda_gpu_executor.cc:937] successful NUMA node read from SysFS had negative value (-1), but there must be at least one NUMA node, so returning NUMA node zero\n",
      "2022-04-22 05:59:08.828506: I tensorflow/stream_executor/cuda/cuda_gpu_executor.cc:937] successful NUMA node read from SysFS had negative value (-1), but there must be at least one NUMA node, so returning NUMA node zero\n",
      "2022-04-22 05:59:08.829334: I tensorflow/core/platform/cpu_feature_guard.cc:142] This TensorFlow binary is optimized with oneAPI Deep Neural Network Library (oneDNN) to use the following CPU instructions in performance-critical operations:  AVX2 AVX512F FMA\n",
      "To enable them in other operations, rebuild TensorFlow with the appropriate compiler flags.\n",
      "2022-04-22 05:59:08.830430: I tensorflow/stream_executor/cuda/cuda_gpu_executor.cc:937] successful NUMA node read from SysFS had negative value (-1), but there must be at least one NUMA node, so returning NUMA node zero\n",
      "2022-04-22 05:59:08.831137: I tensorflow/stream_executor/cuda/cuda_gpu_executor.cc:937] successful NUMA node read from SysFS had negative value (-1), but there must be at least one NUMA node, so returning NUMA node zero\n",
      "2022-04-22 05:59:08.831789: I tensorflow/stream_executor/cuda/cuda_gpu_executor.cc:937] successful NUMA node read from SysFS had negative value (-1), but there must be at least one NUMA node, so returning NUMA node zero\n",
      "2022-04-22 05:59:13.039141: I tensorflow/stream_executor/cuda/cuda_gpu_executor.cc:937] successful NUMA node read from SysFS had negative value (-1), but there must be at least one NUMA node, so returning NUMA node zero\n",
      "2022-04-22 05:59:13.039994: I tensorflow/stream_executor/cuda/cuda_gpu_executor.cc:937] successful NUMA node read from SysFS had negative value (-1), but there must be at least one NUMA node, so returning NUMA node zero\n",
      "2022-04-22 05:59:13.040662: I tensorflow/stream_executor/cuda/cuda_gpu_executor.cc:937] successful NUMA node read from SysFS had negative value (-1), but there must be at least one NUMA node, so returning NUMA node zero\n",
      "2022-04-22 05:59:13.041254: I tensorflow/core/common_runtime/gpu/gpu_device.cc:1510] Created device /job:localhost/replica:0/task:0/device:GPU:0 with 14969 MB memory:  -> device: 0, name: Tesla P100-PCIE-16GB, pci bus id: 0000:00:04.0, compute capability: 6.0\n",
      "Some layers from the model checkpoint at ../input/roberta-base were not used when initializing TFRobertaModel: ['lm_head']\n",
      "- This IS expected if you are initializing TFRobertaModel from the checkpoint of a model trained on another task or with another architecture (e.g. initializing a BertForSequenceClassification model from a BertForPreTraining model).\n",
      "- This IS NOT expected if you are initializing TFRobertaModel from the checkpoint of a model that you expect to be exactly identical (initializing a BertForSequenceClassification model from a BertForSequenceClassification model).\n",
      "All the layers of TFRobertaModel were initialized from the model checkpoint at ../input/roberta-base.\n",
      "If your task is similar to the task the model of the checkpoint was trained on, you can already use TFRobertaModel for predictions without further training.\n"
     ]
    }
   ],
   "source": [
    "callback_save = tf.keras.callbacks.ModelCheckpoint('roberta_patent.h5', monitor='val_pearsonr',\\\n",
    "                                                   verbose=1, save_best_only=True,\\\n",
    "                                                   save_weights_only=True, mode='max',\\\n",
    "                                                   save_freq='epoch')\n",
    "callback_es = tf.keras.callbacks.EarlyStopping(monitor='val_pearsonr', patience=2, mode='max',\\\n",
    "                                               verbose=1, restore_best_weights=True)\n",
    "lr_reducer = tf.keras.callbacks.ReduceLROnPlateau(monitor='val_pearsonr',factor=np.sqrt(0.1),\\\n",
    "                                                  cooldown=0, patience=2, min_lr=0.5e-9,mode='max')\n",
    "model = build_model(model_name, max_len)"
   ]
  },
  {
   "cell_type": "markdown",
   "id": "e20b0518",
   "metadata": {
    "papermill": {
     "duration": 0.056447,
     "end_time": "2022-04-22T05:59:26.314980",
     "exception": false,
     "start_time": "2022-04-22T05:59:26.258533",
     "status": "completed"
    },
    "tags": []
   },
   "source": [
    "# Fitting the model to the training dataset"
   ]
  },
  {
   "cell_type": "code",
   "execution_count": 31,
   "id": "f6666c34",
   "metadata": {
    "execution": {
     "iopub.execute_input": "2022-04-22T05:59:26.437082Z",
     "iopub.status.busy": "2022-04-22T05:59:26.433866Z",
     "iopub.status.idle": "2022-04-22T05:59:26.453754Z",
     "shell.execute_reply": "2022-04-22T05:59:26.454260Z",
     "shell.execute_reply.started": "2022-04-17T05:54:15.090849Z"
    },
    "papermill": {
     "duration": 0.083067,
     "end_time": "2022-04-22T05:59:26.454416",
     "exception": false,
     "start_time": "2022-04-22T05:59:26.371349",
     "status": "completed"
    },
    "tags": []
   },
   "outputs": [
    {
     "name": "stdout",
     "output_type": "stream",
     "text": [
      "Model: \"model\"\n",
      "__________________________________________________________________________________________________\n",
      "Layer (type)                    Output Shape         Param #     Connected to                     \n",
      "==================================================================================================\n",
      "input_1 (InputLayer)            [(None, 40)]         0                                            \n",
      "__________________________________________________________________________________________________\n",
      "input_2 (InputLayer)            [(None, 40)]         0                                            \n",
      "__________________________________________________________________________________________________\n",
      "tf_roberta_model (TFRobertaMode TFBaseModelOutputWit 124645632   input_1[0][0]                    \n",
      "                                                                 input_2[0][0]                    \n",
      "__________________________________________________________________________________________________\n",
      "global_average_pooling1d (Globa (None, 768)          0           tf_roberta_model[0][0]           \n",
      "__________________________________________________________________________________________________\n",
      "dropout_37 (Dropout)            (None, 768)          0           global_average_pooling1d[0][0]   \n",
      "__________________________________________________________________________________________________\n",
      "dense (Dense)                   (None, 1)            769         dropout_37[0][0]                 \n",
      "==================================================================================================\n",
      "Total params: 124,646,401\n",
      "Trainable params: 124,646,401\n",
      "Non-trainable params: 0\n",
      "__________________________________________________________________________________________________\n",
      "None\n"
     ]
    }
   ],
   "source": [
    "print(model.summary())"
   ]
  },
  {
   "cell_type": "code",
   "execution_count": 32,
   "id": "56e2f9e9",
   "metadata": {
    "execution": {
     "iopub.execute_input": "2022-04-22T05:59:26.965898Z",
     "iopub.status.busy": "2022-04-22T05:59:26.960248Z",
     "iopub.status.idle": "2022-04-22T06:50:07.818878Z",
     "shell.execute_reply": "2022-04-22T06:50:07.819614Z",
     "shell.execute_reply.started": "2022-04-17T05:54:15.114772Z"
    },
    "papermill": {
     "duration": 3041.309008,
     "end_time": "2022-04-22T06:50:07.819831",
     "exception": false,
     "start_time": "2022-04-22T05:59:26.510823",
     "status": "completed"
    },
    "tags": []
   },
   "outputs": [
    {
     "name": "stderr",
     "output_type": "stream",
     "text": [
      "2022-04-22 05:59:27.037745: I tensorflow/compiler/mlir/mlir_graph_optimization_pass.cc:185] None of the MLIR Optimization Passes are enabled (registered 2)\n"
     ]
    },
    {
     "name": "stdout",
     "output_type": "stream",
     "text": [
      "Epoch 1/15\n",
      "912/912 [==============================] - 198s 201ms/step - loss: 0.1220 - val_loss: 0.0581\n",
      "pearsonr_val (from log) = 0.3819127312105647\n",
      "\n",
      "Epoch 00001: val_pearsonr improved from -inf to 0.38191, saving model to roberta_patent.h5\n",
      "Epoch 2/15\n",
      "912/912 [==============================] - 181s 199ms/step - loss: 0.0666 - val_loss: 0.0400\n",
      "pearsonr_val (from log) = 0.6531991469882968\n",
      "\n",
      "Epoch 00002: val_pearsonr improved from 0.38191 to 0.65320, saving model to roberta_patent.h5\n",
      "Epoch 3/15\n",
      "912/912 [==============================] - 181s 199ms/step - loss: 0.0473 - val_loss: 0.0391\n",
      "pearsonr_val (from log) = 0.7113091170634731\n",
      "\n",
      "Epoch 00003: val_pearsonr improved from 0.65320 to 0.71131, saving model to roberta_patent.h5\n",
      "Epoch 4/15\n",
      "912/912 [==============================] - 181s 199ms/step - loss: 0.0398 - val_loss: 0.0325\n",
      "pearsonr_val (from log) = 0.7310182221387311\n",
      "\n",
      "Epoch 00004: val_pearsonr improved from 0.71131 to 0.73102, saving model to roberta_patent.h5\n",
      "Epoch 5/15\n",
      "912/912 [==============================] - 181s 199ms/step - loss: 0.0357 - val_loss: 0.0302\n",
      "pearsonr_val (from log) = 0.7425383977805001\n",
      "\n",
      "Epoch 00005: val_pearsonr improved from 0.73102 to 0.74254, saving model to roberta_patent.h5\n",
      "Epoch 6/15\n",
      "912/912 [==============================] - 182s 199ms/step - loss: 0.0327 - val_loss: 0.0293\n",
      "pearsonr_val (from log) = 0.7590324446011198\n",
      "\n",
      "Epoch 00006: val_pearsonr improved from 0.74254 to 0.75903, saving model to roberta_patent.h5\n",
      "Epoch 7/15\n",
      "912/912 [==============================] - 182s 200ms/step - loss: 0.0303 - val_loss: 0.0282\n",
      "pearsonr_val (from log) = 0.7682473533988243\n",
      "\n",
      "Epoch 00007: val_pearsonr improved from 0.75903 to 0.76825, saving model to roberta_patent.h5\n",
      "Epoch 8/15\n",
      "912/912 [==============================] - 183s 200ms/step - loss: 0.0291 - val_loss: 0.0301\n",
      "pearsonr_val (from log) = 0.7712854791355791\n",
      "\n",
      "Epoch 00008: val_pearsonr improved from 0.76825 to 0.77129, saving model to roberta_patent.h5\n",
      "Epoch 9/15\n",
      "912/912 [==============================] - 183s 200ms/step - loss: 0.0274 - val_loss: 0.0268\n",
      "pearsonr_val (from log) = 0.7754234085339946\n",
      "\n",
      "Epoch 00009: val_pearsonr improved from 0.77129 to 0.77542, saving model to roberta_patent.h5\n",
      "Epoch 10/15\n",
      "912/912 [==============================] - 182s 200ms/step - loss: 0.0268 - val_loss: 0.0264\n",
      "pearsonr_val (from log) = 0.7800030842132281\n",
      "\n",
      "Epoch 00010: val_pearsonr improved from 0.77542 to 0.78000, saving model to roberta_patent.h5\n",
      "Epoch 11/15\n",
      "912/912 [==============================] - 183s 200ms/step - loss: 0.0257 - val_loss: 0.0265\n",
      "pearsonr_val (from log) = 0.7818066069298445\n",
      "\n",
      "Epoch 00011: val_pearsonr improved from 0.78000 to 0.78181, saving model to roberta_patent.h5\n",
      "Epoch 12/15\n",
      "912/912 [==============================] - 183s 200ms/step - loss: 0.0250 - val_loss: 0.0267\n",
      "pearsonr_val (from log) = 0.7833162537892139\n",
      "\n",
      "Epoch 00012: val_pearsonr improved from 0.78181 to 0.78332, saving model to roberta_patent.h5\n",
      "Epoch 13/15\n",
      "912/912 [==============================] - 184s 201ms/step - loss: 0.0248 - val_loss: 0.0264\n",
      "pearsonr_val (from log) = 0.784041351834999\n",
      "\n",
      "Epoch 00013: val_pearsonr improved from 0.78332 to 0.78404, saving model to roberta_patent.h5\n",
      "Epoch 14/15\n",
      "912/912 [==============================] - 183s 201ms/step - loss: 0.0242 - val_loss: 0.0267\n",
      "pearsonr_val (from log) = 0.7842325332958937\n",
      "\n",
      "Epoch 00014: val_pearsonr improved from 0.78404 to 0.78423, saving model to roberta_patent.h5\n",
      "Epoch 15/15\n",
      "912/912 [==============================] - 182s 200ms/step - loss: 0.0240 - val_loss: 0.0265\n",
      "pearsonr_val (from log) = 0.7860237633856565\n",
      "\n",
      "Epoch 00015: val_pearsonr improved from 0.78423 to 0.78602, saving model to roberta_patent.h5\n"
     ]
    },
    {
     "data": {
      "text/plain": [
       "<keras.callbacks.History at 0x7fb6247f8990>"
      ]
     },
     "execution_count": 32,
     "metadata": {},
     "output_type": "execute_result"
    }
   ],
   "source": [
    "val_data_ = ((np.asarray(val_data['input_ids']),\n",
    "              np.asarray(val_data['attention_mask']),\n",
    "             ),\n",
    "             np.asarray(val_labels).ravel())\n",
    "\n",
    "model.fit((np.asarray(train_data['input_ids']),\n",
    "           np.asarray(train_data['attention_mask']),\n",
    "          ),\n",
    "          np.asarray(train_labels).ravel(), \n",
    "        epochs = NUM_EPOCHS,\n",
    "        shuffle=True,\n",
    "        callbacks = [callback_lr,PearsonCallback(val_data_), callback_save, callback_es],\n",
    "        batch_size = batch_size,\n",
    "        validation_data= val_data_\n",
    "       )\n",
    "\n",
    "# model.fit((np.asarray(train_data['input_ids']),\n",
    "#            np.asarray(train_data['attention_mask']),\n",
    "#           ),\n",
    "#           np.asarray(train_labels).ravel(), \n",
    "#         epochs = NUM_EPOCHS,\n",
    "#         shuffle=True,\n",
    "#         callbacks = [lr_reducer, callback_save, callback_es, PearsonCallback(val_data_)],\n",
    "#         batch_size = batch_size,\n",
    "#         validation_data= val_data_\n",
    "#        )"
   ]
  },
  {
   "cell_type": "markdown",
   "id": "f5c6c63d",
   "metadata": {
    "papermill": {
     "duration": 4.72576,
     "end_time": "2022-04-22T06:50:16.983935",
     "exception": false,
     "start_time": "2022-04-22T06:50:12.258175",
     "status": "completed"
    },
    "tags": []
   },
   "source": [
    "# Predicting the test set results"
   ]
  },
  {
   "cell_type": "code",
   "execution_count": 33,
   "id": "311a6097",
   "metadata": {
    "execution": {
     "iopub.execute_input": "2022-04-22T06:50:26.581185Z",
     "iopub.status.busy": "2022-04-22T06:50:26.580254Z",
     "iopub.status.idle": "2022-04-22T06:50:26.584136Z",
     "shell.execute_reply": "2022-04-22T06:50:26.583644Z",
     "shell.execute_reply.started": "2022-04-17T06:43:19.579579Z"
    },
    "papermill": {
     "duration": 5.143405,
     "end_time": "2022-04-22T06:50:26.584273",
     "exception": false,
     "start_time": "2022-04-22T06:50:21.440868",
     "status": "completed"
    },
    "tags": []
   },
   "outputs": [],
   "source": [
    "test_data, test_labels = create_data(test['id'].tolist(),\\\n",
    "                                   test['anchor'].tolist(),\\\n",
    "                                   test['target'].tolist(),\\\n",
    "                                   test['code'].tolist(),\\\n",
    "                                   test['title'].tolist(),\\\n",
    "                                   None, tokenizer, max_len,\\\n",
    "                                   train_status=False)"
   ]
  },
  {
   "cell_type": "code",
   "execution_count": 34,
   "id": "2abaf3fd",
   "metadata": {
    "execution": {
     "iopub.execute_input": "2022-04-22T06:50:35.187882Z",
     "iopub.status.busy": "2022-04-22T06:50:35.186997Z",
     "iopub.status.idle": "2022-04-22T06:50:35.327221Z",
     "shell.execute_reply": "2022-04-22T06:50:35.327743Z",
     "shell.execute_reply.started": "2022-04-17T06:43:19.592094Z"
    },
    "papermill": {
     "duration": 4.44446,
     "end_time": "2022-04-22T06:50:35.327906",
     "exception": false,
     "start_time": "2022-04-22T06:50:30.883446",
     "status": "completed"
    },
    "tags": []
   },
   "outputs": [],
   "source": [
    "test_preds = model.predict((np.asarray(test_data['input_ids']),\n",
    "                            np.asarray(test_data['attention_mask']),\n",
    "                           #np.asarray(test_data['token_type_ids']),\n",
    "                           ))"
   ]
  },
  {
   "cell_type": "code",
   "execution_count": 35,
   "id": "2bbc3d4a",
   "metadata": {
    "execution": {
     "iopub.execute_input": "2022-04-22T06:50:44.346818Z",
     "iopub.status.busy": "2022-04-22T06:50:44.346071Z",
     "iopub.status.idle": "2022-04-22T06:50:44.348804Z",
     "shell.execute_reply": "2022-04-22T06:50:44.349223Z",
     "shell.execute_reply.started": "2022-04-17T06:43:19.731098Z"
    },
    "papermill": {
     "duration": 4.404091,
     "end_time": "2022-04-22T06:50:44.349357",
     "exception": false,
     "start_time": "2022-04-22T06:50:39.945266",
     "status": "completed"
    },
    "tags": []
   },
   "outputs": [
    {
     "data": {
      "text/plain": [
       "array([[ 6.1005753e-01],\n",
       "       [ 8.5521871e-01],\n",
       "       [ 2.0407560e-01],\n",
       "       [ 2.6365814e-01],\n",
       "       [ 2.4257931e-01],\n",
       "       [ 4.7400922e-01],\n",
       "       [ 4.1019449e-01],\n",
       "       [-5.0338078e-04],\n",
       "       [ 2.2838418e-01],\n",
       "       [ 1.0497779e+00],\n",
       "       [ 2.9790345e-01],\n",
       "       [ 2.1068585e-01],\n",
       "       [ 6.9685984e-01],\n",
       "       [ 6.7284077e-01],\n",
       "       [ 7.6812857e-01],\n",
       "       [ 3.1672278e-01],\n",
       "       [ 1.3451140e-01],\n",
       "       [ 8.9122448e-05],\n",
       "       [ 4.0764248e-01],\n",
       "       [ 2.6525748e-01],\n",
       "       [ 3.0685312e-01],\n",
       "       [ 1.9866528e-01],\n",
       "       [ 1.6435044e-01],\n",
       "       [ 2.2098289e-01],\n",
       "       [ 4.6212161e-01],\n",
       "       [-1.0836915e-02],\n",
       "       [-2.2173997e-02],\n",
       "       [-2.0782810e-02],\n",
       "       [ 4.8325799e-02],\n",
       "       [ 6.8045014e-01],\n",
       "       [ 2.1260248e-01],\n",
       "       [ 1.2664926e-01],\n",
       "       [ 5.5845058e-01],\n",
       "       [ 5.1544595e-01],\n",
       "       [ 3.5350189e-01],\n",
       "       [ 2.0321806e-01]], dtype=float32)"
      ]
     },
     "execution_count": 35,
     "metadata": {},
     "output_type": "execute_result"
    }
   ],
   "source": [
    "test_preds"
   ]
  },
  {
   "cell_type": "markdown",
   "id": "ac0994ed",
   "metadata": {
    "papermill": {
     "duration": 4.317871,
     "end_time": "2022-04-22T06:50:53.318117",
     "exception": false,
     "start_time": "2022-04-22T06:50:49.000246",
     "status": "completed"
    },
    "tags": []
   },
   "source": [
    "# Creating the submission file"
   ]
  },
  {
   "cell_type": "code",
   "execution_count": 36,
   "id": "0273740a",
   "metadata": {
    "execution": {
     "iopub.execute_input": "2022-04-22T06:51:02.643965Z",
     "iopub.status.busy": "2022-04-22T06:51:02.643311Z",
     "iopub.status.idle": "2022-04-22T06:51:02.669598Z",
     "shell.execute_reply": "2022-04-22T06:51:02.669992Z",
     "shell.execute_reply.started": "2022-04-17T06:43:19.739809Z"
    },
    "papermill": {
     "duration": 4.536206,
     "end_time": "2022-04-22T06:51:02.670151",
     "exception": false,
     "start_time": "2022-04-22T06:50:58.133945",
     "status": "completed"
    },
    "tags": []
   },
   "outputs": [
    {
     "data": {
      "text/html": [
       "<div>\n",
       "<style scoped>\n",
       "    .dataframe tbody tr th:only-of-type {\n",
       "        vertical-align: middle;\n",
       "    }\n",
       "\n",
       "    .dataframe tbody tr th {\n",
       "        vertical-align: top;\n",
       "    }\n",
       "\n",
       "    .dataframe thead th {\n",
       "        text-align: right;\n",
       "    }\n",
       "</style>\n",
       "<table border=\"1\" class=\"dataframe\">\n",
       "  <thead>\n",
       "    <tr style=\"text-align: right;\">\n",
       "      <th></th>\n",
       "      <th>id</th>\n",
       "      <th>score</th>\n",
       "    </tr>\n",
       "  </thead>\n",
       "  <tbody>\n",
       "    <tr>\n",
       "      <th>0</th>\n",
       "      <td>4112d61851461f60</td>\n",
       "      <td>0.610058</td>\n",
       "    </tr>\n",
       "    <tr>\n",
       "      <th>1</th>\n",
       "      <td>09e418c93a776564</td>\n",
       "      <td>0.855219</td>\n",
       "    </tr>\n",
       "    <tr>\n",
       "      <th>2</th>\n",
       "      <td>36baf228038e314b</td>\n",
       "      <td>0.204076</td>\n",
       "    </tr>\n",
       "    <tr>\n",
       "      <th>3</th>\n",
       "      <td>1f37ead645e7f0c8</td>\n",
       "      <td>0.263658</td>\n",
       "    </tr>\n",
       "    <tr>\n",
       "      <th>4</th>\n",
       "      <td>71a5b6ad068d531f</td>\n",
       "      <td>0.242579</td>\n",
       "    </tr>\n",
       "    <tr>\n",
       "      <th>5</th>\n",
       "      <td>474c874d0c07bd21</td>\n",
       "      <td>0.474009</td>\n",
       "    </tr>\n",
       "    <tr>\n",
       "      <th>6</th>\n",
       "      <td>442c114ed5c4e3c9</td>\n",
       "      <td>0.410194</td>\n",
       "    </tr>\n",
       "    <tr>\n",
       "      <th>7</th>\n",
       "      <td>b8ae62ea5e1d8bdb</td>\n",
       "      <td>0.000000</td>\n",
       "    </tr>\n",
       "    <tr>\n",
       "      <th>8</th>\n",
       "      <td>faaddaf8fcba8a3f</td>\n",
       "      <td>0.228384</td>\n",
       "    </tr>\n",
       "    <tr>\n",
       "      <th>9</th>\n",
       "      <td>ae0262c02566d2ce</td>\n",
       "      <td>1.000000</td>\n",
       "    </tr>\n",
       "    <tr>\n",
       "      <th>10</th>\n",
       "      <td>a8808e31641e856d</td>\n",
       "      <td>0.297903</td>\n",
       "    </tr>\n",
       "    <tr>\n",
       "      <th>11</th>\n",
       "      <td>16ae4b99d3601e60</td>\n",
       "      <td>0.210686</td>\n",
       "    </tr>\n",
       "    <tr>\n",
       "      <th>12</th>\n",
       "      <td>25c555ca3d5a2092</td>\n",
       "      <td>0.696860</td>\n",
       "    </tr>\n",
       "    <tr>\n",
       "      <th>13</th>\n",
       "      <td>5203a36c501f1b7c</td>\n",
       "      <td>0.672841</td>\n",
       "    </tr>\n",
       "    <tr>\n",
       "      <th>14</th>\n",
       "      <td>b9fdc772bb8fd61c</td>\n",
       "      <td>0.768129</td>\n",
       "    </tr>\n",
       "    <tr>\n",
       "      <th>15</th>\n",
       "      <td>7aa5908a77a7ec24</td>\n",
       "      <td>0.316723</td>\n",
       "    </tr>\n",
       "    <tr>\n",
       "      <th>16</th>\n",
       "      <td>d19ef3979396d47e</td>\n",
       "      <td>0.134511</td>\n",
       "    </tr>\n",
       "    <tr>\n",
       "      <th>17</th>\n",
       "      <td>fd83613b7843f5e1</td>\n",
       "      <td>0.000089</td>\n",
       "    </tr>\n",
       "    <tr>\n",
       "      <th>18</th>\n",
       "      <td>2a619016908bfa45</td>\n",
       "      <td>0.407642</td>\n",
       "    </tr>\n",
       "    <tr>\n",
       "      <th>19</th>\n",
       "      <td>733979d75f59770d</td>\n",
       "      <td>0.265257</td>\n",
       "    </tr>\n",
       "    <tr>\n",
       "      <th>20</th>\n",
       "      <td>6546846df17f9800</td>\n",
       "      <td>0.306853</td>\n",
       "    </tr>\n",
       "    <tr>\n",
       "      <th>21</th>\n",
       "      <td>3ff0e7a35015be69</td>\n",
       "      <td>0.198665</td>\n",
       "    </tr>\n",
       "    <tr>\n",
       "      <th>22</th>\n",
       "      <td>12ca31f018a2e2b9</td>\n",
       "      <td>0.164350</td>\n",
       "    </tr>\n",
       "    <tr>\n",
       "      <th>23</th>\n",
       "      <td>03ba802ed4029e4d</td>\n",
       "      <td>0.220983</td>\n",
       "    </tr>\n",
       "    <tr>\n",
       "      <th>24</th>\n",
       "      <td>c404f8b378cbb008</td>\n",
       "      <td>0.462122</td>\n",
       "    </tr>\n",
       "    <tr>\n",
       "      <th>25</th>\n",
       "      <td>78243984c02a72e4</td>\n",
       "      <td>0.000000</td>\n",
       "    </tr>\n",
       "    <tr>\n",
       "      <th>26</th>\n",
       "      <td>de51114bc0faec3e</td>\n",
       "      <td>0.000000</td>\n",
       "    </tr>\n",
       "    <tr>\n",
       "      <th>27</th>\n",
       "      <td>7e3aff857f056bf9</td>\n",
       "      <td>0.000000</td>\n",
       "    </tr>\n",
       "    <tr>\n",
       "      <th>28</th>\n",
       "      <td>26c3c6dc6174b589</td>\n",
       "      <td>0.048326</td>\n",
       "    </tr>\n",
       "    <tr>\n",
       "      <th>29</th>\n",
       "      <td>b892011ab2e2cabc</td>\n",
       "      <td>0.680450</td>\n",
       "    </tr>\n",
       "    <tr>\n",
       "      <th>30</th>\n",
       "      <td>8247ff562ca185cc</td>\n",
       "      <td>0.212602</td>\n",
       "    </tr>\n",
       "    <tr>\n",
       "      <th>31</th>\n",
       "      <td>c057aecbba832387</td>\n",
       "      <td>0.126649</td>\n",
       "    </tr>\n",
       "    <tr>\n",
       "      <th>32</th>\n",
       "      <td>9f2279ce667b21dc</td>\n",
       "      <td>0.558451</td>\n",
       "    </tr>\n",
       "    <tr>\n",
       "      <th>33</th>\n",
       "      <td>b9ea2b06a878df6f</td>\n",
       "      <td>0.515446</td>\n",
       "    </tr>\n",
       "    <tr>\n",
       "      <th>34</th>\n",
       "      <td>79795133c30ef097</td>\n",
       "      <td>0.353502</td>\n",
       "    </tr>\n",
       "    <tr>\n",
       "      <th>35</th>\n",
       "      <td>25522ee5411e63e9</td>\n",
       "      <td>0.203218</td>\n",
       "    </tr>\n",
       "  </tbody>\n",
       "</table>\n",
       "</div>"
      ],
      "text/plain": [
       "                  id     score\n",
       "0   4112d61851461f60  0.610058\n",
       "1   09e418c93a776564  0.855219\n",
       "2   36baf228038e314b  0.204076\n",
       "3   1f37ead645e7f0c8  0.263658\n",
       "4   71a5b6ad068d531f  0.242579\n",
       "5   474c874d0c07bd21  0.474009\n",
       "6   442c114ed5c4e3c9  0.410194\n",
       "7   b8ae62ea5e1d8bdb  0.000000\n",
       "8   faaddaf8fcba8a3f  0.228384\n",
       "9   ae0262c02566d2ce  1.000000\n",
       "10  a8808e31641e856d  0.297903\n",
       "11  16ae4b99d3601e60  0.210686\n",
       "12  25c555ca3d5a2092  0.696860\n",
       "13  5203a36c501f1b7c  0.672841\n",
       "14  b9fdc772bb8fd61c  0.768129\n",
       "15  7aa5908a77a7ec24  0.316723\n",
       "16  d19ef3979396d47e  0.134511\n",
       "17  fd83613b7843f5e1  0.000089\n",
       "18  2a619016908bfa45  0.407642\n",
       "19  733979d75f59770d  0.265257\n",
       "20  6546846df17f9800  0.306853\n",
       "21  3ff0e7a35015be69  0.198665\n",
       "22  12ca31f018a2e2b9  0.164350\n",
       "23  03ba802ed4029e4d  0.220983\n",
       "24  c404f8b378cbb008  0.462122\n",
       "25  78243984c02a72e4  0.000000\n",
       "26  de51114bc0faec3e  0.000000\n",
       "27  7e3aff857f056bf9  0.000000\n",
       "28  26c3c6dc6174b589  0.048326\n",
       "29  b892011ab2e2cabc  0.680450\n",
       "30  8247ff562ca185cc  0.212602\n",
       "31  c057aecbba832387  0.126649\n",
       "32  9f2279ce667b21dc  0.558451\n",
       "33  b9ea2b06a878df6f  0.515446\n",
       "34  79795133c30ef097  0.353502\n",
       "35  25522ee5411e63e9  0.203218"
      ]
     },
     "execution_count": 36,
     "metadata": {},
     "output_type": "execute_result"
    }
   ],
   "source": [
    "submission = pd.read_csv(\"/kaggle/input/us-patent-phrase-to-phrase-matching/sample_submission.csv\")\n",
    "submission['score'] = test_preds\n",
    "submission['score'] = submission.score.apply(lambda x: 0 if x < 0 else x)\n",
    "submission['score'] = submission.score.apply(lambda x: 1 if x > 1 else x)\n",
    "submission.to_csv('submission.csv',index=False)\n",
    "submission"
   ]
  },
  {
   "cell_type": "code",
   "execution_count": null,
   "id": "72259967",
   "metadata": {
    "papermill": {
     "duration": 4.783778,
     "end_time": "2022-04-22T06:51:11.779690",
     "exception": false,
     "start_time": "2022-04-22T06:51:06.995912",
     "status": "completed"
    },
    "tags": []
   },
   "outputs": [],
   "source": []
  }
 ],
 "metadata": {
  "kernelspec": {
   "display_name": "Python 3 (ipykernel)",
   "language": "python",
   "name": "python3"
  },
  "language_info": {
   "codemirror_mode": {
    "name": "ipython",
    "version": 3
   },
   "file_extension": ".py",
   "mimetype": "text/x-python",
   "name": "python",
   "nbconvert_exporter": "python",
   "pygments_lexer": "ipython3",
   "version": "3.9.7"
  },
  "papermill": {
   "default_parameters": {},
   "duration": 3154.682541,
   "end_time": "2022-04-22T06:51:19.072552",
   "environment_variables": {},
   "exception": null,
   "input_path": "__notebook__.ipynb",
   "output_path": "__notebook__.ipynb",
   "parameters": {},
   "start_time": "2022-04-22T05:58:44.390011",
   "version": "2.3.3"
  }
 },
 "nbformat": 4,
 "nbformat_minor": 5
}
