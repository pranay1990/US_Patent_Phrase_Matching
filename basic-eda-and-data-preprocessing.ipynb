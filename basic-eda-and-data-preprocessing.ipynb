{
 "cells": [
  {
   "cell_type": "markdown",
   "id": "58e6b993",
   "metadata": {
    "papermill": {
     "duration": 0.052465,
     "end_time": "2022-04-07T12:30:47.715919",
     "exception": false,
     "start_time": "2022-04-07T12:30:47.663454",
     "status": "completed"
    },
    "tags": []
   },
   "source": [
    "## About the dataset\n",
    "**In this dataset, you are presented pairs of phrases (an anchor and a target phrase) and asked to rate how similar they are on a scale from 0 (not at all similar) to 1 (identical in meaning). This challenge differs from a standard semantic similarity task in that similarity has been scored here within a patent's context, specifically its CPC classification (version 2021.05), which indicates the subject to which the patent relates. For example, while the phrases \"bird\" and \"Cape Cod\" may have low semantic similarity in normal language, the likeness of their meaning is much closer if considered in the context of \"house\".**"
   ]
  },
  {
   "cell_type": "code",
   "execution_count": 1,
   "id": "de149a2e",
   "metadata": {
    "_cell_guid": "b1076dfc-b9ad-4769-8c92-a6c4dae69d19",
    "_uuid": "8f2839f25d086af736a60e9eeb907d3b93b6e0e5",
    "execution": {
     "iopub.execute_input": "2022-04-07T12:30:47.820711Z",
     "iopub.status.busy": "2022-04-07T12:30:47.819037Z",
     "iopub.status.idle": "2022-04-07T12:30:47.836988Z",
     "shell.execute_reply": "2022-04-07T12:30:47.837422Z",
     "shell.execute_reply.started": "2022-04-07T11:42:15.852248Z"
    },
    "papermill": {
     "duration": 0.072676,
     "end_time": "2022-04-07T12:30:47.837716",
     "exception": false,
     "start_time": "2022-04-07T12:30:47.765040",
     "status": "completed"
    },
    "tags": []
   },
   "outputs": [
    {
     "name": "stdout",
     "output_type": "stream",
     "text": [
      "/kaggle/input/cpcc-dataset/Cooperative_Patent_Classification_Codes_Meaning.csv\n",
      "/kaggle/input/us-patent-phrase-to-phrase-matching/sample_submission.csv\n",
      "/kaggle/input/us-patent-phrase-to-phrase-matching/train.csv\n",
      "/kaggle/input/us-patent-phrase-to-phrase-matching/test.csv\n"
     ]
    }
   ],
   "source": [
    "# This Python 3 environment comes with many helpful analytics libraries installed\n",
    "# It is defined by the kaggle/python Docker image: https://github.com/kaggle/docker-python\n",
    "# For example, here's several helpful packages to load\n",
    "\n",
    "import numpy as np # linear algebra\n",
    "import pandas as pd # data processing, CSV file I/O (e.g. pd.read_csv)\n",
    "\n",
    "# Input data files are available in the read-only \"../input/\" directory\n",
    "# For example, running this (by clicking run or pressing Shift+Enter) will list all files under the input directory\n",
    "\n",
    "import os\n",
    "for dirname, _, filenames in os.walk('/kaggle/input'):\n",
    "    for filename in filenames:\n",
    "        print(os.path.join(dirname, filename))\n",
    "\n",
    "# You can write up to 20GB to the current directory (/kaggle/working/) that gets preserved as output when you create a version using \"Save & Run All\" \n",
    "# You can also write temporary files to /kaggle/temp/, but they won't be saved outside of the current session"
   ]
  },
  {
   "cell_type": "markdown",
   "id": "64a3c88a",
   "metadata": {
    "papermill": {
     "duration": 0.052011,
     "end_time": "2022-04-07T12:30:47.944155",
     "exception": false,
     "start_time": "2022-04-07T12:30:47.892144",
     "status": "completed"
    },
    "tags": []
   },
   "source": [
    "#### Importing the training dataset"
   ]
  },
  {
   "cell_type": "code",
   "execution_count": 2,
   "id": "1cb01ef7",
   "metadata": {
    "execution": {
     "iopub.execute_input": "2022-04-07T12:30:48.058559Z",
     "iopub.status.busy": "2022-04-07T12:30:48.057613Z",
     "iopub.status.idle": "2022-04-07T12:30:48.178783Z",
     "shell.execute_reply": "2022-04-07T12:30:48.178251Z",
     "shell.execute_reply.started": "2022-04-07T11:42:15.865038Z"
    },
    "papermill": {
     "duration": 0.181054,
     "end_time": "2022-04-07T12:30:48.178954",
     "exception": false,
     "start_time": "2022-04-07T12:30:47.997900",
     "status": "completed"
    },
    "tags": []
   },
   "outputs": [
    {
     "data": {
      "text/html": [
       "<div>\n",
       "<style scoped>\n",
       "    .dataframe tbody tr th:only-of-type {\n",
       "        vertical-align: middle;\n",
       "    }\n",
       "\n",
       "    .dataframe tbody tr th {\n",
       "        vertical-align: top;\n",
       "    }\n",
       "\n",
       "    .dataframe thead th {\n",
       "        text-align: right;\n",
       "    }\n",
       "</style>\n",
       "<table border=\"1\" class=\"dataframe\">\n",
       "  <thead>\n",
       "    <tr style=\"text-align: right;\">\n",
       "      <th></th>\n",
       "      <th>id</th>\n",
       "      <th>anchor</th>\n",
       "      <th>target</th>\n",
       "      <th>context</th>\n",
       "      <th>score</th>\n",
       "    </tr>\n",
       "  </thead>\n",
       "  <tbody>\n",
       "    <tr>\n",
       "      <th>0</th>\n",
       "      <td>37d61fd2272659b1</td>\n",
       "      <td>abatement</td>\n",
       "      <td>abatement of pollution</td>\n",
       "      <td>A47</td>\n",
       "      <td>0.50</td>\n",
       "    </tr>\n",
       "    <tr>\n",
       "      <th>1</th>\n",
       "      <td>7b9652b17b68b7a4</td>\n",
       "      <td>abatement</td>\n",
       "      <td>act of abating</td>\n",
       "      <td>A47</td>\n",
       "      <td>0.75</td>\n",
       "    </tr>\n",
       "    <tr>\n",
       "      <th>2</th>\n",
       "      <td>36d72442aefd8232</td>\n",
       "      <td>abatement</td>\n",
       "      <td>active catalyst</td>\n",
       "      <td>A47</td>\n",
       "      <td>0.25</td>\n",
       "    </tr>\n",
       "    <tr>\n",
       "      <th>3</th>\n",
       "      <td>5296b0c19e1ce60e</td>\n",
       "      <td>abatement</td>\n",
       "      <td>eliminating process</td>\n",
       "      <td>A47</td>\n",
       "      <td>0.50</td>\n",
       "    </tr>\n",
       "    <tr>\n",
       "      <th>4</th>\n",
       "      <td>54c1e3b9184cb5b6</td>\n",
       "      <td>abatement</td>\n",
       "      <td>forest region</td>\n",
       "      <td>A47</td>\n",
       "      <td>0.00</td>\n",
       "    </tr>\n",
       "  </tbody>\n",
       "</table>\n",
       "</div>"
      ],
      "text/plain": [
       "                 id     anchor                  target context  score\n",
       "0  37d61fd2272659b1  abatement  abatement of pollution     A47   0.50\n",
       "1  7b9652b17b68b7a4  abatement          act of abating     A47   0.75\n",
       "2  36d72442aefd8232  abatement         active catalyst     A47   0.25\n",
       "3  5296b0c19e1ce60e  abatement     eliminating process     A47   0.50\n",
       "4  54c1e3b9184cb5b6  abatement           forest region     A47   0.00"
      ]
     },
     "execution_count": 2,
     "metadata": {},
     "output_type": "execute_result"
    }
   ],
   "source": [
    "train = pd.read_csv(\"../input/us-patent-phrase-to-phrase-matching/train.csv\")\n",
    "train.head()"
   ]
  },
  {
   "cell_type": "markdown",
   "id": "c0ab8e9a",
   "metadata": {
    "papermill": {
     "duration": 0.052623,
     "end_time": "2022-04-07T12:30:48.287241",
     "exception": false,
     "start_time": "2022-04-07T12:30:48.234618",
     "status": "completed"
    },
    "tags": []
   },
   "source": [
    "**In this dataset, we have primarily see whether the given *target* phrase has any semantic relation to the *anchor* phase but in respect to the *context* category.**"
   ]
  },
  {
   "cell_type": "markdown",
   "id": "1d17d5e6",
   "metadata": {
    "papermill": {
     "duration": 0.054006,
     "end_time": "2022-04-07T12:30:48.397902",
     "exception": false,
     "start_time": "2022-04-07T12:30:48.343896",
     "status": "completed"
    },
    "tags": []
   },
   "source": [
    "**Importing the submission file**"
   ]
  },
  {
   "cell_type": "code",
   "execution_count": 3,
   "id": "275b607e",
   "metadata": {
    "execution": {
     "iopub.execute_input": "2022-04-07T12:30:48.506534Z",
     "iopub.status.busy": "2022-04-07T12:30:48.505530Z",
     "iopub.status.idle": "2022-04-07T12:30:48.522285Z",
     "shell.execute_reply": "2022-04-07T12:30:48.523041Z",
     "shell.execute_reply.started": "2022-04-07T11:42:15.953597Z"
    },
    "papermill": {
     "duration": 0.074822,
     "end_time": "2022-04-07T12:30:48.523255",
     "exception": false,
     "start_time": "2022-04-07T12:30:48.448433",
     "status": "completed"
    },
    "tags": []
   },
   "outputs": [
    {
     "data": {
      "text/html": [
       "<div>\n",
       "<style scoped>\n",
       "    .dataframe tbody tr th:only-of-type {\n",
       "        vertical-align: middle;\n",
       "    }\n",
       "\n",
       "    .dataframe tbody tr th {\n",
       "        vertical-align: top;\n",
       "    }\n",
       "\n",
       "    .dataframe thead th {\n",
       "        text-align: right;\n",
       "    }\n",
       "</style>\n",
       "<table border=\"1\" class=\"dataframe\">\n",
       "  <thead>\n",
       "    <tr style=\"text-align: right;\">\n",
       "      <th></th>\n",
       "      <th>id</th>\n",
       "      <th>score</th>\n",
       "    </tr>\n",
       "  </thead>\n",
       "  <tbody>\n",
       "    <tr>\n",
       "      <th>0</th>\n",
       "      <td>4112d61851461f60</td>\n",
       "      <td>0</td>\n",
       "    </tr>\n",
       "    <tr>\n",
       "      <th>1</th>\n",
       "      <td>09e418c93a776564</td>\n",
       "      <td>0</td>\n",
       "    </tr>\n",
       "    <tr>\n",
       "      <th>2</th>\n",
       "      <td>36baf228038e314b</td>\n",
       "      <td>0</td>\n",
       "    </tr>\n",
       "    <tr>\n",
       "      <th>3</th>\n",
       "      <td>1f37ead645e7f0c8</td>\n",
       "      <td>0</td>\n",
       "    </tr>\n",
       "    <tr>\n",
       "      <th>4</th>\n",
       "      <td>71a5b6ad068d531f</td>\n",
       "      <td>0</td>\n",
       "    </tr>\n",
       "  </tbody>\n",
       "</table>\n",
       "</div>"
      ],
      "text/plain": [
       "                 id  score\n",
       "0  4112d61851461f60      0\n",
       "1  09e418c93a776564      0\n",
       "2  36baf228038e314b      0\n",
       "3  1f37ead645e7f0c8      0\n",
       "4  71a5b6ad068d531f      0"
      ]
     },
     "execution_count": 3,
     "metadata": {},
     "output_type": "execute_result"
    }
   ],
   "source": [
    "submission = pd.read_csv(\"../input/us-patent-phrase-to-phrase-matching/sample_submission.csv\")\n",
    "submission.head()"
   ]
  },
  {
   "cell_type": "code",
   "execution_count": 4,
   "id": "9685c3a2",
   "metadata": {
    "execution": {
     "iopub.execute_input": "2022-04-07T12:30:48.630198Z",
     "iopub.status.busy": "2022-04-07T12:30:48.629268Z",
     "iopub.status.idle": "2022-04-07T12:30:48.645255Z",
     "shell.execute_reply": "2022-04-07T12:30:48.645755Z",
     "shell.execute_reply.started": "2022-04-07T11:42:18.275200Z"
    },
    "papermill": {
     "duration": 0.072257,
     "end_time": "2022-04-07T12:30:48.645944",
     "exception": false,
     "start_time": "2022-04-07T12:30:48.573687",
     "status": "completed"
    },
    "tags": []
   },
   "outputs": [
    {
     "data": {
      "text/html": [
       "<div>\n",
       "<style scoped>\n",
       "    .dataframe tbody tr th:only-of-type {\n",
       "        vertical-align: middle;\n",
       "    }\n",
       "\n",
       "    .dataframe tbody tr th {\n",
       "        vertical-align: top;\n",
       "    }\n",
       "\n",
       "    .dataframe thead th {\n",
       "        text-align: right;\n",
       "    }\n",
       "</style>\n",
       "<table border=\"1\" class=\"dataframe\">\n",
       "  <thead>\n",
       "    <tr style=\"text-align: right;\">\n",
       "      <th></th>\n",
       "      <th>id</th>\n",
       "      <th>anchor</th>\n",
       "      <th>target</th>\n",
       "      <th>context</th>\n",
       "    </tr>\n",
       "  </thead>\n",
       "  <tbody>\n",
       "    <tr>\n",
       "      <th>0</th>\n",
       "      <td>4112d61851461f60</td>\n",
       "      <td>opc drum</td>\n",
       "      <td>inorganic photoconductor drum</td>\n",
       "      <td>G02</td>\n",
       "    </tr>\n",
       "    <tr>\n",
       "      <th>1</th>\n",
       "      <td>09e418c93a776564</td>\n",
       "      <td>adjust gas flow</td>\n",
       "      <td>altering gas flow</td>\n",
       "      <td>F23</td>\n",
       "    </tr>\n",
       "    <tr>\n",
       "      <th>2</th>\n",
       "      <td>36baf228038e314b</td>\n",
       "      <td>lower trunnion</td>\n",
       "      <td>lower locating</td>\n",
       "      <td>B60</td>\n",
       "    </tr>\n",
       "    <tr>\n",
       "      <th>3</th>\n",
       "      <td>1f37ead645e7f0c8</td>\n",
       "      <td>cap component</td>\n",
       "      <td>upper portion</td>\n",
       "      <td>D06</td>\n",
       "    </tr>\n",
       "    <tr>\n",
       "      <th>4</th>\n",
       "      <td>71a5b6ad068d531f</td>\n",
       "      <td>neural stimulation</td>\n",
       "      <td>artificial neural network</td>\n",
       "      <td>H04</td>\n",
       "    </tr>\n",
       "  </tbody>\n",
       "</table>\n",
       "</div>"
      ],
      "text/plain": [
       "                 id              anchor                         target context\n",
       "0  4112d61851461f60            opc drum  inorganic photoconductor drum     G02\n",
       "1  09e418c93a776564     adjust gas flow              altering gas flow     F23\n",
       "2  36baf228038e314b      lower trunnion                 lower locating     B60\n",
       "3  1f37ead645e7f0c8       cap component                  upper portion     D06\n",
       "4  71a5b6ad068d531f  neural stimulation      artificial neural network     H04"
      ]
     },
     "execution_count": 4,
     "metadata": {},
     "output_type": "execute_result"
    }
   ],
   "source": [
    "test = pd.read_csv(\"../input/us-patent-phrase-to-phrase-matching/test.csv\")\n",
    "test.head()"
   ]
  },
  {
   "cell_type": "code",
   "execution_count": 5,
   "id": "16b3d0b8",
   "metadata": {
    "execution": {
     "iopub.execute_input": "2022-04-07T12:30:48.751736Z",
     "iopub.status.busy": "2022-04-07T12:30:48.750810Z",
     "iopub.status.idle": "2022-04-07T12:30:48.755896Z",
     "shell.execute_reply": "2022-04-07T12:30:48.756340Z",
     "shell.execute_reply.started": "2022-04-07T11:43:32.937164Z"
    },
    "papermill": {
     "duration": 0.061173,
     "end_time": "2022-04-07T12:30:48.756503",
     "exception": false,
     "start_time": "2022-04-07T12:30:48.695330",
     "status": "completed"
    },
    "tags": []
   },
   "outputs": [
    {
     "data": {
      "text/plain": [
       "(36473, 5)"
      ]
     },
     "execution_count": 5,
     "metadata": {},
     "output_type": "execute_result"
    }
   ],
   "source": [
    "# The shape of the training dataset\n",
    "train.shape"
   ]
  },
  {
   "cell_type": "code",
   "execution_count": 6,
   "id": "ec86ad20",
   "metadata": {
    "execution": {
     "iopub.execute_input": "2022-04-07T12:30:48.863607Z",
     "iopub.status.busy": "2022-04-07T12:30:48.862918Z",
     "iopub.status.idle": "2022-04-07T12:30:48.868630Z",
     "shell.execute_reply": "2022-04-07T12:30:48.868057Z",
     "shell.execute_reply.started": "2022-04-07T11:43:32.971955Z"
    },
    "papermill": {
     "duration": 0.061146,
     "end_time": "2022-04-07T12:30:48.868759",
     "exception": false,
     "start_time": "2022-04-07T12:30:48.807613",
     "status": "completed"
    },
    "tags": []
   },
   "outputs": [
    {
     "data": {
      "text/plain": [
       "(36, 4)"
      ]
     },
     "execution_count": 6,
     "metadata": {},
     "output_type": "execute_result"
    }
   ],
   "source": [
    "test.shape"
   ]
  },
  {
   "cell_type": "markdown",
   "id": "912889d4",
   "metadata": {
    "papermill": {
     "duration": 0.053026,
     "end_time": "2022-04-07T12:30:48.975275",
     "exception": false,
     "start_time": "2022-04-07T12:30:48.922249",
     "status": "completed"
    },
    "tags": []
   },
   "source": [
    "#### Number of unique categories in the *context* feature are 106, as we can see below."
   ]
  },
  {
   "cell_type": "code",
   "execution_count": 7,
   "id": "711e65d6",
   "metadata": {
    "execution": {
     "iopub.execute_input": "2022-04-07T12:30:49.092257Z",
     "iopub.status.busy": "2022-04-07T12:30:49.091405Z",
     "iopub.status.idle": "2022-04-07T12:30:49.111661Z",
     "shell.execute_reply": "2022-04-07T12:30:49.112416Z",
     "shell.execute_reply.started": "2022-04-07T11:47:05.483894Z"
    },
    "papermill": {
     "duration": 0.081764,
     "end_time": "2022-04-07T12:30:49.112602",
     "exception": false,
     "start_time": "2022-04-07T12:30:49.030838",
     "status": "completed"
    },
    "tags": []
   },
   "outputs": [
    {
     "data": {
      "text/plain": [
       "array(['A01', 'A21', 'A22', 'A23', 'A24', 'A41', 'A43', 'A44', 'A45',\n",
       "       'A46', 'A47', 'A61', 'A62', 'A63', 'B01', 'B02', 'B03', 'B05',\n",
       "       'B07', 'B08', 'B21', 'B22', 'B23', 'B24', 'B25', 'B27', 'B28',\n",
       "       'B29', 'B31', 'B32', 'B41', 'B44', 'B60', 'B61', 'B62', 'B63',\n",
       "       'B64', 'B65', 'B66', 'B67', 'B81', 'C01', 'C02', 'C03', 'C04',\n",
       "       'C06', 'C07', 'C08', 'C09', 'C10', 'C11', 'C12', 'C13', 'C14',\n",
       "       'C21', 'C22', 'C23', 'C25', 'D01', 'D03', 'D04', 'D05', 'D06',\n",
       "       'D21', 'E01', 'E02', 'E03', 'E04', 'E05', 'E06', 'E21', 'F01',\n",
       "       'F02', 'F03', 'F04', 'F15', 'F16', 'F17', 'F21', 'F22', 'F23',\n",
       "       'F24', 'F25', 'F26', 'F27', 'F28', 'F41', 'F42', 'G01', 'G02',\n",
       "       'G03', 'G04', 'G05', 'G06', 'G07', 'G08', 'G09', 'G10', 'G11',\n",
       "       'G16', 'G21', 'H01', 'H02', 'H03', 'H04', 'H05'], dtype=object)"
      ]
     },
     "execution_count": 7,
     "metadata": {},
     "output_type": "execute_result"
    }
   ],
   "source": [
    "np.sort(train['context'].unique())"
   ]
  },
  {
   "cell_type": "code",
   "execution_count": 8,
   "id": "831d285c",
   "metadata": {
    "execution": {
     "iopub.execute_input": "2022-04-07T12:30:49.229688Z",
     "iopub.status.busy": "2022-04-07T12:30:49.229123Z",
     "iopub.status.idle": "2022-04-07T12:30:49.236466Z",
     "shell.execute_reply": "2022-04-07T12:30:49.236909Z",
     "shell.execute_reply.started": "2022-04-07T11:47:06.308419Z"
    },
    "papermill": {
     "duration": 0.067607,
     "end_time": "2022-04-07T12:30:49.237138",
     "exception": false,
     "start_time": "2022-04-07T12:30:49.169531",
     "status": "completed"
    },
    "tags": []
   },
   "outputs": [
    {
     "data": {
      "text/plain": [
       "106"
      ]
     },
     "execution_count": 8,
     "metadata": {},
     "output_type": "execute_result"
    }
   ],
   "source": [
    "train['context'].nunique()"
   ]
  },
  {
   "cell_type": "code",
   "execution_count": 9,
   "id": "9b1dd8c7",
   "metadata": {
    "execution": {
     "iopub.execute_input": "2022-04-07T12:30:49.347303Z",
     "iopub.status.busy": "2022-04-07T12:30:49.346626Z",
     "iopub.status.idle": "2022-04-07T12:30:49.351646Z",
     "shell.execute_reply": "2022-04-07T12:30:49.352167Z",
     "shell.execute_reply.started": "2022-04-07T11:47:09.071524Z"
    },
    "papermill": {
     "duration": 0.062318,
     "end_time": "2022-04-07T12:30:49.352341",
     "exception": false,
     "start_time": "2022-04-07T12:30:49.290023",
     "status": "completed"
    },
    "tags": []
   },
   "outputs": [
    {
     "data": {
      "text/plain": [
       "array([0.5 , 0.75, 0.25, 0.  , 1.  ])"
      ]
     },
     "execution_count": 9,
     "metadata": {},
     "output_type": "execute_result"
    }
   ],
   "source": [
    "train['score'].unique()"
   ]
  },
  {
   "cell_type": "markdown",
   "id": "aa73cb8d",
   "metadata": {
    "papermill": {
     "duration": 0.054797,
     "end_time": "2022-04-07T12:30:49.464083",
     "exception": false,
     "start_time": "2022-04-07T12:30:49.409286",
     "status": "completed"
    },
    "tags": []
   },
   "source": [
    "### Data preprocessing of the training dataset. "
   ]
  },
  {
   "cell_type": "markdown",
   "id": "f7c48552",
   "metadata": {
    "papermill": {
     "duration": 0.056524,
     "end_time": "2022-04-07T12:30:49.578338",
     "exception": false,
     "start_time": "2022-04-07T12:30:49.521814",
     "status": "completed"
    },
    "tags": []
   },
   "source": [
    "#### Transform the *anchor* and *target* features into lowercase."
   ]
  },
  {
   "cell_type": "code",
   "execution_count": 10,
   "id": "73ba7bb1",
   "metadata": {
    "execution": {
     "iopub.execute_input": "2022-04-07T12:30:49.691761Z",
     "iopub.status.busy": "2022-04-07T12:30:49.691121Z",
     "iopub.status.idle": "2022-04-07T12:30:49.719945Z",
     "shell.execute_reply": "2022-04-07T12:30:49.720435Z",
     "shell.execute_reply.started": "2022-04-07T11:47:45.485053Z"
    },
    "papermill": {
     "duration": 0.089854,
     "end_time": "2022-04-07T12:30:49.720620",
     "exception": false,
     "start_time": "2022-04-07T12:30:49.630766",
     "status": "completed"
    },
    "tags": []
   },
   "outputs": [],
   "source": [
    "train['anchor'] = train['anchor'].str.lower()\n",
    "train['target'] = train['target'].str.lower()"
   ]
  },
  {
   "cell_type": "code",
   "execution_count": 11,
   "id": "97ec6c87",
   "metadata": {
    "execution": {
     "iopub.execute_input": "2022-04-07T12:30:49.831254Z",
     "iopub.status.busy": "2022-04-07T12:30:49.830596Z",
     "iopub.status.idle": "2022-04-07T12:30:49.836167Z",
     "shell.execute_reply": "2022-04-07T12:30:49.836667Z",
     "shell.execute_reply.started": "2022-04-07T11:48:35.951386Z"
    },
    "papermill": {
     "duration": 0.060564,
     "end_time": "2022-04-07T12:30:49.836898",
     "exception": false,
     "start_time": "2022-04-07T12:30:49.776334",
     "status": "completed"
    },
    "tags": []
   },
   "outputs": [],
   "source": [
    "test['anchor'] = test['anchor'].str.lower()\n",
    "test['target'] = test['target'].str.lower()"
   ]
  },
  {
   "cell_type": "markdown",
   "id": "e519e1b9",
   "metadata": {
    "papermill": {
     "duration": 0.056471,
     "end_time": "2022-04-07T12:30:49.951243",
     "exception": false,
     "start_time": "2022-04-07T12:30:49.894772",
     "status": "completed"
    },
    "tags": []
   },
   "source": [
    "#### Removing punctuations from *anchor* and *target* features"
   ]
  },
  {
   "cell_type": "code",
   "execution_count": 12,
   "id": "d7b9b6da",
   "metadata": {
    "execution": {
     "iopub.execute_input": "2022-04-07T12:30:50.066851Z",
     "iopub.status.busy": "2022-04-07T12:30:50.066073Z",
     "iopub.status.idle": "2022-04-07T12:30:50.119346Z",
     "shell.execute_reply": "2022-04-07T12:30:50.118773Z",
     "shell.execute_reply.started": "2022-04-07T11:49:20.260010Z"
    },
    "papermill": {
     "duration": 0.111223,
     "end_time": "2022-04-07T12:30:50.119504",
     "exception": false,
     "start_time": "2022-04-07T12:30:50.008281",
     "status": "completed"
    },
    "tags": []
   },
   "outputs": [],
   "source": [
    "train['anchor'] = train['anchor'].str.replace('[^\\w\\s]','',regex=True)\n",
    "train['target'] = train['target'].str.replace('[^\\w\\s]','',regex=True)"
   ]
  },
  {
   "cell_type": "code",
   "execution_count": 13,
   "id": "49759786",
   "metadata": {
    "execution": {
     "iopub.execute_input": "2022-04-07T12:30:50.240717Z",
     "iopub.status.busy": "2022-04-07T12:30:50.240068Z",
     "iopub.status.idle": "2022-04-07T12:30:50.243306Z",
     "shell.execute_reply": "2022-04-07T12:30:50.242835Z",
     "shell.execute_reply.started": "2022-04-07T11:49:21.739041Z"
    },
    "papermill": {
     "duration": 0.066675,
     "end_time": "2022-04-07T12:30:50.243447",
     "exception": false,
     "start_time": "2022-04-07T12:30:50.176772",
     "status": "completed"
    },
    "tags": []
   },
   "outputs": [],
   "source": [
    "test['anchor'] = test['anchor'].str.replace('[^\\w\\s]','',regex=True)\n",
    "test['target'] = test['target'].str.replace('[^\\w\\s]','',regex=True)"
   ]
  },
  {
   "cell_type": "markdown",
   "id": "7b2d4994",
   "metadata": {
    "papermill": {
     "duration": 0.0599,
     "end_time": "2022-04-07T12:30:50.359906",
     "exception": false,
     "start_time": "2022-04-07T12:30:50.300006",
     "status": "completed"
    },
    "tags": []
   },
   "source": [
    "#### Removing stopwords from *anchor* and *target* features, and creating new features *new_anchor* and  *new_target*, respectively."
   ]
  },
  {
   "cell_type": "code",
   "execution_count": 14,
   "id": "4b0a98a8",
   "metadata": {
    "execution": {
     "iopub.execute_input": "2022-04-07T12:30:50.472984Z",
     "iopub.status.busy": "2022-04-07T12:30:50.469285Z",
     "iopub.status.idle": "2022-04-07T12:30:52.481429Z",
     "shell.execute_reply": "2022-04-07T12:30:52.480330Z",
     "shell.execute_reply.started": "2022-04-07T11:50:34.395988Z"
    },
    "papermill": {
     "duration": 2.068563,
     "end_time": "2022-04-07T12:30:52.481757",
     "exception": false,
     "start_time": "2022-04-07T12:30:50.413194",
     "status": "completed"
    },
    "tags": []
   },
   "outputs": [
    {
     "data": {
      "text/html": [
       "<div>\n",
       "<style scoped>\n",
       "    .dataframe tbody tr th:only-of-type {\n",
       "        vertical-align: middle;\n",
       "    }\n",
       "\n",
       "    .dataframe tbody tr th {\n",
       "        vertical-align: top;\n",
       "    }\n",
       "\n",
       "    .dataframe thead th {\n",
       "        text-align: right;\n",
       "    }\n",
       "</style>\n",
       "<table border=\"1\" class=\"dataframe\">\n",
       "  <thead>\n",
       "    <tr style=\"text-align: right;\">\n",
       "      <th></th>\n",
       "      <th>id</th>\n",
       "      <th>anchor</th>\n",
       "      <th>target</th>\n",
       "      <th>context</th>\n",
       "      <th>score</th>\n",
       "      <th>new_target</th>\n",
       "      <th>new_anchor</th>\n",
       "    </tr>\n",
       "  </thead>\n",
       "  <tbody>\n",
       "    <tr>\n",
       "      <th>0</th>\n",
       "      <td>37d61fd2272659b1</td>\n",
       "      <td>abatement</td>\n",
       "      <td>abatement of pollution</td>\n",
       "      <td>A47</td>\n",
       "      <td>0.50</td>\n",
       "      <td>abatement pollution</td>\n",
       "      <td>abatement</td>\n",
       "    </tr>\n",
       "    <tr>\n",
       "      <th>1</th>\n",
       "      <td>7b9652b17b68b7a4</td>\n",
       "      <td>abatement</td>\n",
       "      <td>act of abating</td>\n",
       "      <td>A47</td>\n",
       "      <td>0.75</td>\n",
       "      <td>act abating</td>\n",
       "      <td>abatement</td>\n",
       "    </tr>\n",
       "    <tr>\n",
       "      <th>2</th>\n",
       "      <td>36d72442aefd8232</td>\n",
       "      <td>abatement</td>\n",
       "      <td>active catalyst</td>\n",
       "      <td>A47</td>\n",
       "      <td>0.25</td>\n",
       "      <td>active catalyst</td>\n",
       "      <td>abatement</td>\n",
       "    </tr>\n",
       "    <tr>\n",
       "      <th>3</th>\n",
       "      <td>5296b0c19e1ce60e</td>\n",
       "      <td>abatement</td>\n",
       "      <td>eliminating process</td>\n",
       "      <td>A47</td>\n",
       "      <td>0.50</td>\n",
       "      <td>eliminating process</td>\n",
       "      <td>abatement</td>\n",
       "    </tr>\n",
       "    <tr>\n",
       "      <th>4</th>\n",
       "      <td>54c1e3b9184cb5b6</td>\n",
       "      <td>abatement</td>\n",
       "      <td>forest region</td>\n",
       "      <td>A47</td>\n",
       "      <td>0.00</td>\n",
       "      <td>forest region</td>\n",
       "      <td>abatement</td>\n",
       "    </tr>\n",
       "  </tbody>\n",
       "</table>\n",
       "</div>"
      ],
      "text/plain": [
       "                 id     anchor                  target context  score  \\\n",
       "0  37d61fd2272659b1  abatement  abatement of pollution     A47   0.50   \n",
       "1  7b9652b17b68b7a4  abatement          act of abating     A47   0.75   \n",
       "2  36d72442aefd8232  abatement         active catalyst     A47   0.25   \n",
       "3  5296b0c19e1ce60e  abatement     eliminating process     A47   0.50   \n",
       "4  54c1e3b9184cb5b6  abatement           forest region     A47   0.00   \n",
       "\n",
       "            new_target new_anchor  \n",
       "0  abatement pollution  abatement  \n",
       "1          act abating  abatement  \n",
       "2      active catalyst  abatement  \n",
       "3  eliminating process  abatement  \n",
       "4        forest region  abatement  "
      ]
     },
     "execution_count": 14,
     "metadata": {},
     "output_type": "execute_result"
    }
   ],
   "source": [
    "from nltk.corpus import stopwords\n",
    "stop_words = set(stopwords.words('english'))\n",
    "\n",
    "def remove_stopwords(text):\n",
    "    return \" \".join([word for word in str(text).split() if word not in stop_words])\n",
    "train['new_target'] = train['target'].apply(lambda x: remove_stopwords(x))\n",
    "train['new_anchor'] = train['anchor'].apply(lambda x: remove_stopwords(x))\n",
    "train.head()"
   ]
  },
  {
   "cell_type": "code",
   "execution_count": 15,
   "id": "20e8f71a",
   "metadata": {
    "execution": {
     "iopub.execute_input": "2022-04-07T12:30:52.616920Z",
     "iopub.status.busy": "2022-04-07T12:30:52.616257Z",
     "iopub.status.idle": "2022-04-07T12:30:52.620353Z",
     "shell.execute_reply": "2022-04-07T12:30:52.620989Z",
     "shell.execute_reply.started": "2022-04-07T11:50:41.385039Z"
    },
    "papermill": {
     "duration": 0.084416,
     "end_time": "2022-04-07T12:30:52.621191",
     "exception": false,
     "start_time": "2022-04-07T12:30:52.536775",
     "status": "completed"
    },
    "tags": []
   },
   "outputs": [
    {
     "data": {
      "text/html": [
       "<div>\n",
       "<style scoped>\n",
       "    .dataframe tbody tr th:only-of-type {\n",
       "        vertical-align: middle;\n",
       "    }\n",
       "\n",
       "    .dataframe tbody tr th {\n",
       "        vertical-align: top;\n",
       "    }\n",
       "\n",
       "    .dataframe thead th {\n",
       "        text-align: right;\n",
       "    }\n",
       "</style>\n",
       "<table border=\"1\" class=\"dataframe\">\n",
       "  <thead>\n",
       "    <tr style=\"text-align: right;\">\n",
       "      <th></th>\n",
       "      <th>id</th>\n",
       "      <th>anchor</th>\n",
       "      <th>target</th>\n",
       "      <th>context</th>\n",
       "      <th>new_target</th>\n",
       "      <th>new_anchor</th>\n",
       "    </tr>\n",
       "  </thead>\n",
       "  <tbody>\n",
       "    <tr>\n",
       "      <th>0</th>\n",
       "      <td>4112d61851461f60</td>\n",
       "      <td>opc drum</td>\n",
       "      <td>inorganic photoconductor drum</td>\n",
       "      <td>G02</td>\n",
       "      <td>inorganic photoconductor drum</td>\n",
       "      <td>opc drum</td>\n",
       "    </tr>\n",
       "    <tr>\n",
       "      <th>1</th>\n",
       "      <td>09e418c93a776564</td>\n",
       "      <td>adjust gas flow</td>\n",
       "      <td>altering gas flow</td>\n",
       "      <td>F23</td>\n",
       "      <td>altering gas flow</td>\n",
       "      <td>adjust gas flow</td>\n",
       "    </tr>\n",
       "    <tr>\n",
       "      <th>2</th>\n",
       "      <td>36baf228038e314b</td>\n",
       "      <td>lower trunnion</td>\n",
       "      <td>lower locating</td>\n",
       "      <td>B60</td>\n",
       "      <td>lower locating</td>\n",
       "      <td>lower trunnion</td>\n",
       "    </tr>\n",
       "    <tr>\n",
       "      <th>3</th>\n",
       "      <td>1f37ead645e7f0c8</td>\n",
       "      <td>cap component</td>\n",
       "      <td>upper portion</td>\n",
       "      <td>D06</td>\n",
       "      <td>upper portion</td>\n",
       "      <td>cap component</td>\n",
       "    </tr>\n",
       "    <tr>\n",
       "      <th>4</th>\n",
       "      <td>71a5b6ad068d531f</td>\n",
       "      <td>neural stimulation</td>\n",
       "      <td>artificial neural network</td>\n",
       "      <td>H04</td>\n",
       "      <td>artificial neural network</td>\n",
       "      <td>neural stimulation</td>\n",
       "    </tr>\n",
       "  </tbody>\n",
       "</table>\n",
       "</div>"
      ],
      "text/plain": [
       "                 id              anchor                         target  \\\n",
       "0  4112d61851461f60            opc drum  inorganic photoconductor drum   \n",
       "1  09e418c93a776564     adjust gas flow              altering gas flow   \n",
       "2  36baf228038e314b      lower trunnion                 lower locating   \n",
       "3  1f37ead645e7f0c8       cap component                  upper portion   \n",
       "4  71a5b6ad068d531f  neural stimulation      artificial neural network   \n",
       "\n",
       "  context                     new_target          new_anchor  \n",
       "0     G02  inorganic photoconductor drum            opc drum  \n",
       "1     F23              altering gas flow     adjust gas flow  \n",
       "2     B60                 lower locating      lower trunnion  \n",
       "3     D06                  upper portion       cap component  \n",
       "4     H04      artificial neural network  neural stimulation  "
      ]
     },
     "execution_count": 15,
     "metadata": {},
     "output_type": "execute_result"
    }
   ],
   "source": [
    "test['new_target'] = test['target'].apply(lambda x: remove_stopwords(x))\n",
    "test['new_anchor'] = test['anchor'].apply(lambda x: remove_stopwords(x))\n",
    "test.head()"
   ]
  },
  {
   "cell_type": "markdown",
   "id": "4b0b09ad",
   "metadata": {
    "papermill": {
     "duration": 0.055266,
     "end_time": "2022-04-07T12:30:52.732991",
     "exception": false,
     "start_time": "2022-04-07T12:30:52.677725",
     "status": "completed"
    },
    "tags": []
   },
   "source": [
    "**Analyzing further the features *new_target* and *new_anchor*.**"
   ]
  },
  {
   "cell_type": "code",
   "execution_count": 16,
   "id": "5ecb913c",
   "metadata": {
    "execution": {
     "iopub.execute_input": "2022-04-07T12:30:52.857906Z",
     "iopub.status.busy": "2022-04-07T12:30:52.857250Z",
     "iopub.status.idle": "2022-04-07T12:30:52.940511Z",
     "shell.execute_reply": "2022-04-07T12:30:52.941016Z",
     "shell.execute_reply.started": "2022-04-07T11:52:34.082501Z"
    },
    "papermill": {
     "duration": 0.148391,
     "end_time": "2022-04-07T12:30:52.941219",
     "exception": false,
     "start_time": "2022-04-07T12:30:52.792828",
     "status": "completed"
    },
    "tags": []
   },
   "outputs": [
    {
     "name": "stdout",
     "output_type": "stream",
     "text": [
      "The minimum string length of target feature is 2, and for the new_target feature the minimum string length is 0\n"
     ]
    },
    {
     "data": {
      "text/html": [
       "<div>\n",
       "<style scoped>\n",
       "    .dataframe tbody tr th:only-of-type {\n",
       "        vertical-align: middle;\n",
       "    }\n",
       "\n",
       "    .dataframe tbody tr th {\n",
       "        vertical-align: top;\n",
       "    }\n",
       "\n",
       "    .dataframe thead th {\n",
       "        text-align: right;\n",
       "    }\n",
       "</style>\n",
       "<table border=\"1\" class=\"dataframe\">\n",
       "  <thead>\n",
       "    <tr style=\"text-align: right;\">\n",
       "      <th></th>\n",
       "      <th>id</th>\n",
       "      <th>anchor</th>\n",
       "      <th>target</th>\n",
       "      <th>context</th>\n",
       "      <th>score</th>\n",
       "      <th>new_target</th>\n",
       "      <th>new_anchor</th>\n",
       "    </tr>\n",
       "  </thead>\n",
       "  <tbody>\n",
       "    <tr>\n",
       "      <th>2460</th>\n",
       "      <td>5bda803b2cb4f929</td>\n",
       "      <td>average impact</td>\n",
       "      <td>same</td>\n",
       "      <td>G01</td>\n",
       "      <td>0.0</td>\n",
       "      <td></td>\n",
       "      <td>average impact</td>\n",
       "    </tr>\n",
       "    <tr>\n",
       "      <th>3816</th>\n",
       "      <td>32880095e75a14a6</td>\n",
       "      <td>brake arms</td>\n",
       "      <td>same</td>\n",
       "      <td>F15</td>\n",
       "      <td>0.0</td>\n",
       "      <td></td>\n",
       "      <td>brake arms</td>\n",
       "    </tr>\n",
       "    <tr>\n",
       "      <th>9043</th>\n",
       "      <td>bebe402021b9446f</td>\n",
       "      <td>different circumferential positions</td>\n",
       "      <td>same</td>\n",
       "      <td>G02</td>\n",
       "      <td>0.0</td>\n",
       "      <td></td>\n",
       "      <td>different circumferential positions</td>\n",
       "    </tr>\n",
       "    <tr>\n",
       "      <th>17424</th>\n",
       "      <td>11f85608911d2d0f</td>\n",
       "      <td>intermediate speed</td>\n",
       "      <td>same</td>\n",
       "      <td>H04</td>\n",
       "      <td>0.0</td>\n",
       "      <td></td>\n",
       "      <td>intermediate speed</td>\n",
       "    </tr>\n",
       "    <tr>\n",
       "      <th>18291</th>\n",
       "      <td>3f6592ff02cd9712</td>\n",
       "      <td>lifting load</td>\n",
       "      <td>same</td>\n",
       "      <td>B66</td>\n",
       "      <td>0.0</td>\n",
       "      <td></td>\n",
       "      <td>lifting load</td>\n",
       "    </tr>\n",
       "    <tr>\n",
       "      <th>20422</th>\n",
       "      <td>7c21f880c42477c5</td>\n",
       "      <td>modify before use</td>\n",
       "      <td>after</td>\n",
       "      <td>A61</td>\n",
       "      <td>0.0</td>\n",
       "      <td></td>\n",
       "      <td>modify use</td>\n",
       "    </tr>\n",
       "    <tr>\n",
       "      <th>20427</th>\n",
       "      <td>200f198a9962cbd0</td>\n",
       "      <td>modify before use</td>\n",
       "      <td>before</td>\n",
       "      <td>A61</td>\n",
       "      <td>0.0</td>\n",
       "      <td></td>\n",
       "      <td>modify use</td>\n",
       "    </tr>\n",
       "  </tbody>\n",
       "</table>\n",
       "</div>"
      ],
      "text/plain": [
       "                     id                               anchor  target context  \\\n",
       "2460   5bda803b2cb4f929                       average impact    same     G01   \n",
       "3816   32880095e75a14a6                           brake arms    same     F15   \n",
       "9043   bebe402021b9446f  different circumferential positions    same     G02   \n",
       "17424  11f85608911d2d0f                   intermediate speed    same     H04   \n",
       "18291  3f6592ff02cd9712                         lifting load    same     B66   \n",
       "20422  7c21f880c42477c5                    modify before use   after     A61   \n",
       "20427  200f198a9962cbd0                    modify before use  before     A61   \n",
       "\n",
       "       score new_target                           new_anchor  \n",
       "2460     0.0                                  average impact  \n",
       "3816     0.0                                      brake arms  \n",
       "9043     0.0             different circumferential positions  \n",
       "17424    0.0                              intermediate speed  \n",
       "18291    0.0                                    lifting load  \n",
       "20422    0.0                                      modify use  \n",
       "20427    0.0                                      modify use  "
      ]
     },
     "execution_count": 16,
     "metadata": {},
     "output_type": "execute_result"
    }
   ],
   "source": [
    "# The minimum string length in new_target and target features\n",
    "print(f\"The minimum string length of target feature is {train['target'].str.len().min() }, and for the new_target feature the minimum string length is {train['new_target'].str.len().min()}\")\n",
    "# Printing those rows which have minimum string length for the new_target feature\n",
    "train[train['new_target'].str.len()==train['new_target'].str.len().min()]"
   ]
  },
  {
   "cell_type": "code",
   "execution_count": 17,
   "id": "4a5a082f",
   "metadata": {
    "execution": {
     "iopub.execute_input": "2022-04-07T12:30:53.065339Z",
     "iopub.status.busy": "2022-04-07T12:30:53.064671Z",
     "iopub.status.idle": "2022-04-07T12:30:53.102132Z",
     "shell.execute_reply": "2022-04-07T12:30:53.101516Z",
     "shell.execute_reply.started": "2022-04-07T11:52:35.755375Z"
    },
    "papermill": {
     "duration": 0.104072,
     "end_time": "2022-04-07T12:30:53.102285",
     "exception": false,
     "start_time": "2022-04-07T12:30:52.998213",
     "status": "completed"
    },
    "tags": []
   },
   "outputs": [
    {
     "data": {
      "text/html": [
       "<div>\n",
       "<style scoped>\n",
       "    .dataframe tbody tr th:only-of-type {\n",
       "        vertical-align: middle;\n",
       "    }\n",
       "\n",
       "    .dataframe tbody tr th {\n",
       "        vertical-align: top;\n",
       "    }\n",
       "\n",
       "    .dataframe thead th {\n",
       "        text-align: right;\n",
       "    }\n",
       "</style>\n",
       "<table border=\"1\" class=\"dataframe\">\n",
       "  <thead>\n",
       "    <tr style=\"text-align: right;\">\n",
       "      <th></th>\n",
       "      <th>id</th>\n",
       "      <th>anchor</th>\n",
       "      <th>target</th>\n",
       "      <th>context</th>\n",
       "      <th>score</th>\n",
       "      <th>new_target</th>\n",
       "      <th>new_anchor</th>\n",
       "    </tr>\n",
       "  </thead>\n",
       "  <tbody>\n",
       "    <tr>\n",
       "      <th>3573</th>\n",
       "      <td>341150d5bff66233</td>\n",
       "      <td>board id</td>\n",
       "      <td>id</td>\n",
       "      <td>G01</td>\n",
       "      <td>0.25</td>\n",
       "      <td>id</td>\n",
       "      <td>board id</td>\n",
       "    </tr>\n",
       "    <tr>\n",
       "      <th>9741</th>\n",
       "      <td>56070eacd5bfe0e2</td>\n",
       "      <td>display object</td>\n",
       "      <td>tv</td>\n",
       "      <td>G04</td>\n",
       "      <td>0.25</td>\n",
       "      <td>tv</td>\n",
       "      <td>display object</td>\n",
       "    </tr>\n",
       "    <tr>\n",
       "      <th>10645</th>\n",
       "      <td>f6aaca702ae77b88</td>\n",
       "      <td>el display</td>\n",
       "      <td>tv</td>\n",
       "      <td>H01</td>\n",
       "      <td>0.25</td>\n",
       "      <td>tv</td>\n",
       "      <td>el display</td>\n",
       "    </tr>\n",
       "    <tr>\n",
       "      <th>15476</th>\n",
       "      <td>b352c502a632f3a0</td>\n",
       "      <td>hexahydro</td>\n",
       "      <td>h6</td>\n",
       "      <td>C09</td>\n",
       "      <td>0.75</td>\n",
       "      <td>h6</td>\n",
       "      <td>hexahydro</td>\n",
       "    </tr>\n",
       "    <tr>\n",
       "      <th>15493</th>\n",
       "      <td>b643b4b6cd024f11</td>\n",
       "      <td>hexahydro</td>\n",
       "      <td>h6</td>\n",
       "      <td>C13</td>\n",
       "      <td>0.75</td>\n",
       "      <td>h6</td>\n",
       "      <td>hexahydro</td>\n",
       "    </tr>\n",
       "    <tr>\n",
       "      <th>27329</th>\n",
       "      <td>2a440ca0e1bb93f5</td>\n",
       "      <td>reflection type liquid crystal display</td>\n",
       "      <td>tv</td>\n",
       "      <td>G02</td>\n",
       "      <td>0.25</td>\n",
       "      <td>tv</td>\n",
       "      <td>reflection type liquid crystal display</td>\n",
       "    </tr>\n",
       "    <tr>\n",
       "      <th>33668</th>\n",
       "      <td>19eee4c71ee93b5a</td>\n",
       "      <td>transparent liquid crystal display</td>\n",
       "      <td>tv</td>\n",
       "      <td>G09</td>\n",
       "      <td>0.25</td>\n",
       "      <td>tv</td>\n",
       "      <td>transparent liquid crystal display</td>\n",
       "    </tr>\n",
       "  </tbody>\n",
       "</table>\n",
       "</div>"
      ],
      "text/plain": [
       "                     id                                  anchor target  \\\n",
       "3573   341150d5bff66233                                board id     id   \n",
       "9741   56070eacd5bfe0e2                          display object     tv   \n",
       "10645  f6aaca702ae77b88                              el display     tv   \n",
       "15476  b352c502a632f3a0                               hexahydro     h6   \n",
       "15493  b643b4b6cd024f11                               hexahydro     h6   \n",
       "27329  2a440ca0e1bb93f5  reflection type liquid crystal display     tv   \n",
       "33668  19eee4c71ee93b5a      transparent liquid crystal display     tv   \n",
       "\n",
       "      context  score new_target                              new_anchor  \n",
       "3573      G01   0.25         id                                board id  \n",
       "9741      G04   0.25         tv                          display object  \n",
       "10645     H01   0.25         tv                              el display  \n",
       "15476     C09   0.75         h6                               hexahydro  \n",
       "15493     C13   0.75         h6                               hexahydro  \n",
       "27329     G02   0.25         tv  reflection type liquid crystal display  \n",
       "33668     G09   0.25         tv      transparent liquid crystal display  "
      ]
     },
     "execution_count": 17,
     "metadata": {},
     "output_type": "execute_result"
    }
   ],
   "source": [
    "# Printing those rows which have minimum string length for the target feature\n",
    "train[train['target'].str.len()==train['target'].str.len().min()]"
   ]
  },
  {
   "cell_type": "code",
   "execution_count": 18,
   "id": "b0a8c083",
   "metadata": {
    "execution": {
     "iopub.execute_input": "2022-04-07T12:30:53.242630Z",
     "iopub.status.busy": "2022-04-07T12:30:53.232952Z",
     "iopub.status.idle": "2022-04-07T12:30:53.247567Z",
     "shell.execute_reply": "2022-04-07T12:30:53.247057Z",
     "shell.execute_reply.started": "2022-04-07T11:52:15.641182Z"
    },
    "papermill": {
     "duration": 0.080182,
     "end_time": "2022-04-07T12:30:53.247715",
     "exception": false,
     "start_time": "2022-04-07T12:30:53.167533",
     "status": "completed"
    },
    "tags": []
   },
   "outputs": [
    {
     "name": "stdout",
     "output_type": "stream",
     "text": [
      "The minimum string length of target feature is 7, and for the new_target feature the minimum string length is 7\n"
     ]
    },
    {
     "data": {
      "text/html": [
       "<div>\n",
       "<style scoped>\n",
       "    .dataframe tbody tr th:only-of-type {\n",
       "        vertical-align: middle;\n",
       "    }\n",
       "\n",
       "    .dataframe tbody tr th {\n",
       "        vertical-align: top;\n",
       "    }\n",
       "\n",
       "    .dataframe thead th {\n",
       "        text-align: right;\n",
       "    }\n",
       "</style>\n",
       "<table border=\"1\" class=\"dataframe\">\n",
       "  <thead>\n",
       "    <tr style=\"text-align: right;\">\n",
       "      <th></th>\n",
       "      <th>id</th>\n",
       "      <th>anchor</th>\n",
       "      <th>target</th>\n",
       "      <th>context</th>\n",
       "      <th>new_target</th>\n",
       "      <th>new_anchor</th>\n",
       "    </tr>\n",
       "  </thead>\n",
       "  <tbody>\n",
       "    <tr>\n",
       "      <th>21</th>\n",
       "      <td>3ff0e7a35015be69</td>\n",
       "      <td>perfluoroalkyl group</td>\n",
       "      <td>hydroxy</td>\n",
       "      <td>A63</td>\n",
       "      <td>hydroxy</td>\n",
       "      <td>perfluoroalkyl group</td>\n",
       "    </tr>\n",
       "  </tbody>\n",
       "</table>\n",
       "</div>"
      ],
      "text/plain": [
       "                  id                anchor   target context new_target  \\\n",
       "21  3ff0e7a35015be69  perfluoroalkyl group  hydroxy     A63    hydroxy   \n",
       "\n",
       "              new_anchor  \n",
       "21  perfluoroalkyl group  "
      ]
     },
     "execution_count": 18,
     "metadata": {},
     "output_type": "execute_result"
    }
   ],
   "source": [
    "# The minimum string length in new_target and target features\n",
    "print(f\"The minimum string length of target feature is {test['target'].str.len().min() }, and for the new_target feature the minimum string length is {test['new_target'].str.len().min()}\")\n",
    "# Printing those rows which have minimum string length for the new_target feature\n",
    "test[test['new_target'].str.len()==test['new_target'].str.len().min()]"
   ]
  },
  {
   "cell_type": "code",
   "execution_count": 19,
   "id": "00d88f10",
   "metadata": {
    "execution": {
     "iopub.execute_input": "2022-04-07T12:30:53.373645Z",
     "iopub.status.busy": "2022-04-07T12:30:53.373013Z",
     "iopub.status.idle": "2022-04-07T12:30:53.388649Z",
     "shell.execute_reply": "2022-04-07T12:30:53.388109Z",
     "shell.execute_reply.started": "2022-04-07T11:53:34.076060Z"
    },
    "papermill": {
     "duration": 0.084527,
     "end_time": "2022-04-07T12:30:53.388829",
     "exception": false,
     "start_time": "2022-04-07T12:30:53.304302",
     "status": "completed"
    },
    "tags": []
   },
   "outputs": [
    {
     "data": {
      "text/html": [
       "<div>\n",
       "<style scoped>\n",
       "    .dataframe tbody tr th:only-of-type {\n",
       "        vertical-align: middle;\n",
       "    }\n",
       "\n",
       "    .dataframe tbody tr th {\n",
       "        vertical-align: top;\n",
       "    }\n",
       "\n",
       "    .dataframe thead th {\n",
       "        text-align: right;\n",
       "    }\n",
       "</style>\n",
       "<table border=\"1\" class=\"dataframe\">\n",
       "  <thead>\n",
       "    <tr style=\"text-align: right;\">\n",
       "      <th></th>\n",
       "      <th>id</th>\n",
       "      <th>anchor</th>\n",
       "      <th>target</th>\n",
       "      <th>context</th>\n",
       "      <th>new_target</th>\n",
       "      <th>new_anchor</th>\n",
       "    </tr>\n",
       "  </thead>\n",
       "  <tbody>\n",
       "    <tr>\n",
       "      <th>21</th>\n",
       "      <td>3ff0e7a35015be69</td>\n",
       "      <td>perfluoroalkyl group</td>\n",
       "      <td>hydroxy</td>\n",
       "      <td>A63</td>\n",
       "      <td>hydroxy</td>\n",
       "      <td>perfluoroalkyl group</td>\n",
       "    </tr>\n",
       "  </tbody>\n",
       "</table>\n",
       "</div>"
      ],
      "text/plain": [
       "                  id                anchor   target context new_target  \\\n",
       "21  3ff0e7a35015be69  perfluoroalkyl group  hydroxy     A63    hydroxy   \n",
       "\n",
       "              new_anchor  \n",
       "21  perfluoroalkyl group  "
      ]
     },
     "execution_count": 19,
     "metadata": {},
     "output_type": "execute_result"
    }
   ],
   "source": [
    "# Printing those rows which have minimum string length for the target feature\n",
    "test[test['target'].str.len()==test['target'].str.len().min()]"
   ]
  },
  {
   "cell_type": "markdown",
   "id": "e3b1f2f4",
   "metadata": {
    "papermill": {
     "duration": 0.056775,
     "end_time": "2022-04-07T12:30:53.510629",
     "exception": false,
     "start_time": "2022-04-07T12:30:53.453854",
     "status": "completed"
    },
    "tags": []
   },
   "source": [
    "**The place where *new_target* is string length is equal to zero will be replaced by the corresponding *target* values. Thereafter, I drop the column *target* and rename *new_target* as *target* for sake of continuity.**"
   ]
  },
  {
   "cell_type": "code",
   "execution_count": 20,
   "id": "3b50860f",
   "metadata": {
    "execution": {
     "iopub.execute_input": "2022-04-07T12:30:53.640762Z",
     "iopub.status.busy": "2022-04-07T12:30:53.639986Z",
     "iopub.status.idle": "2022-04-07T12:30:53.698554Z",
     "shell.execute_reply": "2022-04-07T12:30:53.697814Z",
     "shell.execute_reply.started": "2022-04-07T11:57:07.421556Z"
    },
    "papermill": {
     "duration": 0.133007,
     "end_time": "2022-04-07T12:30:53.698736",
     "exception": false,
     "start_time": "2022-04-07T12:30:53.565729",
     "status": "completed"
    },
    "tags": []
   },
   "outputs": [],
   "source": [
    "# Replacing those values in new_target where string length==0 by corresponding target values\n",
    "train.loc[train['new_target'].str.len()== train['new_target']\\\n",
    "          .str.len().min(),'new_target']=train[train['new_target'].str.len()== train['new_target']\\\n",
    "                                                  .str.len().min()]['target']"
   ]
  },
  {
   "cell_type": "code",
   "execution_count": 21,
   "id": "7f33a90e",
   "metadata": {
    "execution": {
     "iopub.execute_input": "2022-04-07T12:30:53.842772Z",
     "iopub.status.busy": "2022-04-07T12:30:53.833148Z",
     "iopub.status.idle": "2022-04-07T12:30:53.869337Z",
     "shell.execute_reply": "2022-04-07T12:30:53.868826Z",
     "shell.execute_reply.started": "2022-04-07T11:57:09.778646Z"
    },
    "papermill": {
     "duration": 0.108634,
     "end_time": "2022-04-07T12:30:53.869474",
     "exception": false,
     "start_time": "2022-04-07T12:30:53.760840",
     "status": "completed"
    },
    "tags": []
   },
   "outputs": [
    {
     "data": {
      "text/html": [
       "<div>\n",
       "<style scoped>\n",
       "    .dataframe tbody tr th:only-of-type {\n",
       "        vertical-align: middle;\n",
       "    }\n",
       "\n",
       "    .dataframe tbody tr th {\n",
       "        vertical-align: top;\n",
       "    }\n",
       "\n",
       "    .dataframe thead th {\n",
       "        text-align: right;\n",
       "    }\n",
       "</style>\n",
       "<table border=\"1\" class=\"dataframe\">\n",
       "  <thead>\n",
       "    <tr style=\"text-align: right;\">\n",
       "      <th></th>\n",
       "      <th>id</th>\n",
       "      <th>anchor</th>\n",
       "      <th>target</th>\n",
       "      <th>context</th>\n",
       "      <th>score</th>\n",
       "      <th>new_target</th>\n",
       "      <th>new_anchor</th>\n",
       "    </tr>\n",
       "  </thead>\n",
       "  <tbody>\n",
       "    <tr>\n",
       "      <th>3573</th>\n",
       "      <td>341150d5bff66233</td>\n",
       "      <td>board id</td>\n",
       "      <td>id</td>\n",
       "      <td>G01</td>\n",
       "      <td>0.25</td>\n",
       "      <td>id</td>\n",
       "      <td>board id</td>\n",
       "    </tr>\n",
       "    <tr>\n",
       "      <th>9741</th>\n",
       "      <td>56070eacd5bfe0e2</td>\n",
       "      <td>display object</td>\n",
       "      <td>tv</td>\n",
       "      <td>G04</td>\n",
       "      <td>0.25</td>\n",
       "      <td>tv</td>\n",
       "      <td>display object</td>\n",
       "    </tr>\n",
       "    <tr>\n",
       "      <th>10645</th>\n",
       "      <td>f6aaca702ae77b88</td>\n",
       "      <td>el display</td>\n",
       "      <td>tv</td>\n",
       "      <td>H01</td>\n",
       "      <td>0.25</td>\n",
       "      <td>tv</td>\n",
       "      <td>el display</td>\n",
       "    </tr>\n",
       "    <tr>\n",
       "      <th>15476</th>\n",
       "      <td>b352c502a632f3a0</td>\n",
       "      <td>hexahydro</td>\n",
       "      <td>h6</td>\n",
       "      <td>C09</td>\n",
       "      <td>0.75</td>\n",
       "      <td>h6</td>\n",
       "      <td>hexahydro</td>\n",
       "    </tr>\n",
       "    <tr>\n",
       "      <th>15493</th>\n",
       "      <td>b643b4b6cd024f11</td>\n",
       "      <td>hexahydro</td>\n",
       "      <td>h6</td>\n",
       "      <td>C13</td>\n",
       "      <td>0.75</td>\n",
       "      <td>h6</td>\n",
       "      <td>hexahydro</td>\n",
       "    </tr>\n",
       "    <tr>\n",
       "      <th>27329</th>\n",
       "      <td>2a440ca0e1bb93f5</td>\n",
       "      <td>reflection type liquid crystal display</td>\n",
       "      <td>tv</td>\n",
       "      <td>G02</td>\n",
       "      <td>0.25</td>\n",
       "      <td>tv</td>\n",
       "      <td>reflection type liquid crystal display</td>\n",
       "    </tr>\n",
       "    <tr>\n",
       "      <th>33668</th>\n",
       "      <td>19eee4c71ee93b5a</td>\n",
       "      <td>transparent liquid crystal display</td>\n",
       "      <td>tv</td>\n",
       "      <td>G09</td>\n",
       "      <td>0.25</td>\n",
       "      <td>tv</td>\n",
       "      <td>transparent liquid crystal display</td>\n",
       "    </tr>\n",
       "  </tbody>\n",
       "</table>\n",
       "</div>"
      ],
      "text/plain": [
       "                     id                                  anchor target  \\\n",
       "3573   341150d5bff66233                                board id     id   \n",
       "9741   56070eacd5bfe0e2                          display object     tv   \n",
       "10645  f6aaca702ae77b88                              el display     tv   \n",
       "15476  b352c502a632f3a0                               hexahydro     h6   \n",
       "15493  b643b4b6cd024f11                               hexahydro     h6   \n",
       "27329  2a440ca0e1bb93f5  reflection type liquid crystal display     tv   \n",
       "33668  19eee4c71ee93b5a      transparent liquid crystal display     tv   \n",
       "\n",
       "      context  score new_target                              new_anchor  \n",
       "3573      G01   0.25         id                                board id  \n",
       "9741      G04   0.25         tv                          display object  \n",
       "10645     H01   0.25         tv                              el display  \n",
       "15476     C09   0.75         h6                               hexahydro  \n",
       "15493     C13   0.75         h6                               hexahydro  \n",
       "27329     G02   0.25         tv  reflection type liquid crystal display  \n",
       "33668     G09   0.25         tv      transparent liquid crystal display  "
      ]
     },
     "execution_count": 21,
     "metadata": {},
     "output_type": "execute_result"
    }
   ],
   "source": [
    "# Printing those rows which have minimum string length for the new_target feature\n",
    "train[train['new_target'].str.len()==train['new_target'].str.len().min()]"
   ]
  },
  {
   "cell_type": "code",
   "execution_count": 22,
   "id": "263b689b",
   "metadata": {
    "execution": {
     "iopub.execute_input": "2022-04-07T12:30:53.999482Z",
     "iopub.status.busy": "2022-04-07T12:30:53.989341Z",
     "iopub.status.idle": "2022-04-07T12:30:54.003686Z",
     "shell.execute_reply": "2022-04-07T12:30:54.003214Z",
     "shell.execute_reply.started": "2022-04-07T11:57:17.399813Z"
    },
    "papermill": {
     "duration": 0.076331,
     "end_time": "2022-04-07T12:30:54.003850",
     "exception": false,
     "start_time": "2022-04-07T12:30:53.927519",
     "status": "completed"
    },
    "tags": []
   },
   "outputs": [
    {
     "data": {
      "text/html": [
       "<div>\n",
       "<style scoped>\n",
       "    .dataframe tbody tr th:only-of-type {\n",
       "        vertical-align: middle;\n",
       "    }\n",
       "\n",
       "    .dataframe tbody tr th {\n",
       "        vertical-align: top;\n",
       "    }\n",
       "\n",
       "    .dataframe thead th {\n",
       "        text-align: right;\n",
       "    }\n",
       "</style>\n",
       "<table border=\"1\" class=\"dataframe\">\n",
       "  <thead>\n",
       "    <tr style=\"text-align: right;\">\n",
       "      <th></th>\n",
       "      <th>id</th>\n",
       "      <th>anchor</th>\n",
       "      <th>context</th>\n",
       "      <th>score</th>\n",
       "      <th>new_target</th>\n",
       "      <th>new_anchor</th>\n",
       "    </tr>\n",
       "  </thead>\n",
       "  <tbody>\n",
       "    <tr>\n",
       "      <th>0</th>\n",
       "      <td>37d61fd2272659b1</td>\n",
       "      <td>abatement</td>\n",
       "      <td>A47</td>\n",
       "      <td>0.50</td>\n",
       "      <td>abatement pollution</td>\n",
       "      <td>abatement</td>\n",
       "    </tr>\n",
       "    <tr>\n",
       "      <th>1</th>\n",
       "      <td>7b9652b17b68b7a4</td>\n",
       "      <td>abatement</td>\n",
       "      <td>A47</td>\n",
       "      <td>0.75</td>\n",
       "      <td>act abating</td>\n",
       "      <td>abatement</td>\n",
       "    </tr>\n",
       "    <tr>\n",
       "      <th>2</th>\n",
       "      <td>36d72442aefd8232</td>\n",
       "      <td>abatement</td>\n",
       "      <td>A47</td>\n",
       "      <td>0.25</td>\n",
       "      <td>active catalyst</td>\n",
       "      <td>abatement</td>\n",
       "    </tr>\n",
       "    <tr>\n",
       "      <th>3</th>\n",
       "      <td>5296b0c19e1ce60e</td>\n",
       "      <td>abatement</td>\n",
       "      <td>A47</td>\n",
       "      <td>0.50</td>\n",
       "      <td>eliminating process</td>\n",
       "      <td>abatement</td>\n",
       "    </tr>\n",
       "    <tr>\n",
       "      <th>4</th>\n",
       "      <td>54c1e3b9184cb5b6</td>\n",
       "      <td>abatement</td>\n",
       "      <td>A47</td>\n",
       "      <td>0.00</td>\n",
       "      <td>forest region</td>\n",
       "      <td>abatement</td>\n",
       "    </tr>\n",
       "  </tbody>\n",
       "</table>\n",
       "</div>"
      ],
      "text/plain": [
       "                 id     anchor context  score           new_target new_anchor\n",
       "0  37d61fd2272659b1  abatement     A47   0.50  abatement pollution  abatement\n",
       "1  7b9652b17b68b7a4  abatement     A47   0.75          act abating  abatement\n",
       "2  36d72442aefd8232  abatement     A47   0.25      active catalyst  abatement\n",
       "3  5296b0c19e1ce60e  abatement     A47   0.50  eliminating process  abatement\n",
       "4  54c1e3b9184cb5b6  abatement     A47   0.00        forest region  abatement"
      ]
     },
     "execution_count": 22,
     "metadata": {},
     "output_type": "execute_result"
    }
   ],
   "source": [
    "# Dropping the target column\n",
    "train = train.drop([\"target\"],axis=1)\n",
    "train.head()"
   ]
  },
  {
   "cell_type": "code",
   "execution_count": 23,
   "id": "702d615d",
   "metadata": {
    "execution": {
     "iopub.execute_input": "2022-04-07T12:30:54.143102Z",
     "iopub.status.busy": "2022-04-07T12:30:54.142359Z",
     "iopub.status.idle": "2022-04-07T12:30:54.145673Z",
     "shell.execute_reply": "2022-04-07T12:30:54.145191Z",
     "shell.execute_reply.started": "2022-04-07T11:57:50.876268Z"
    },
    "papermill": {
     "duration": 0.078149,
     "end_time": "2022-04-07T12:30:54.145847",
     "exception": false,
     "start_time": "2022-04-07T12:30:54.067698",
     "status": "completed"
    },
    "tags": []
   },
   "outputs": [
    {
     "data": {
      "text/html": [
       "<div>\n",
       "<style scoped>\n",
       "    .dataframe tbody tr th:only-of-type {\n",
       "        vertical-align: middle;\n",
       "    }\n",
       "\n",
       "    .dataframe tbody tr th {\n",
       "        vertical-align: top;\n",
       "    }\n",
       "\n",
       "    .dataframe thead th {\n",
       "        text-align: right;\n",
       "    }\n",
       "</style>\n",
       "<table border=\"1\" class=\"dataframe\">\n",
       "  <thead>\n",
       "    <tr style=\"text-align: right;\">\n",
       "      <th></th>\n",
       "      <th>id</th>\n",
       "      <th>anchor</th>\n",
       "      <th>context</th>\n",
       "      <th>new_target</th>\n",
       "      <th>new_anchor</th>\n",
       "    </tr>\n",
       "  </thead>\n",
       "  <tbody>\n",
       "    <tr>\n",
       "      <th>0</th>\n",
       "      <td>4112d61851461f60</td>\n",
       "      <td>opc drum</td>\n",
       "      <td>G02</td>\n",
       "      <td>inorganic photoconductor drum</td>\n",
       "      <td>opc drum</td>\n",
       "    </tr>\n",
       "    <tr>\n",
       "      <th>1</th>\n",
       "      <td>09e418c93a776564</td>\n",
       "      <td>adjust gas flow</td>\n",
       "      <td>F23</td>\n",
       "      <td>altering gas flow</td>\n",
       "      <td>adjust gas flow</td>\n",
       "    </tr>\n",
       "    <tr>\n",
       "      <th>2</th>\n",
       "      <td>36baf228038e314b</td>\n",
       "      <td>lower trunnion</td>\n",
       "      <td>B60</td>\n",
       "      <td>lower locating</td>\n",
       "      <td>lower trunnion</td>\n",
       "    </tr>\n",
       "    <tr>\n",
       "      <th>3</th>\n",
       "      <td>1f37ead645e7f0c8</td>\n",
       "      <td>cap component</td>\n",
       "      <td>D06</td>\n",
       "      <td>upper portion</td>\n",
       "      <td>cap component</td>\n",
       "    </tr>\n",
       "    <tr>\n",
       "      <th>4</th>\n",
       "      <td>71a5b6ad068d531f</td>\n",
       "      <td>neural stimulation</td>\n",
       "      <td>H04</td>\n",
       "      <td>artificial neural network</td>\n",
       "      <td>neural stimulation</td>\n",
       "    </tr>\n",
       "  </tbody>\n",
       "</table>\n",
       "</div>"
      ],
      "text/plain": [
       "                 id              anchor context  \\\n",
       "0  4112d61851461f60            opc drum     G02   \n",
       "1  09e418c93a776564     adjust gas flow     F23   \n",
       "2  36baf228038e314b      lower trunnion     B60   \n",
       "3  1f37ead645e7f0c8       cap component     D06   \n",
       "4  71a5b6ad068d531f  neural stimulation     H04   \n",
       "\n",
       "                      new_target          new_anchor  \n",
       "0  inorganic photoconductor drum            opc drum  \n",
       "1              altering gas flow     adjust gas flow  \n",
       "2                 lower locating      lower trunnion  \n",
       "3                  upper portion       cap component  \n",
       "4      artificial neural network  neural stimulation  "
      ]
     },
     "execution_count": 23,
     "metadata": {},
     "output_type": "execute_result"
    }
   ],
   "source": [
    "# Dropping the target column\n",
    "test = test.drop([\"target\"],axis=1)\n",
    "test.head()"
   ]
  },
  {
   "cell_type": "code",
   "execution_count": 24,
   "id": "e8e785fe",
   "metadata": {
    "execution": {
     "iopub.execute_input": "2022-04-07T12:30:54.266725Z",
     "iopub.status.busy": "2022-04-07T12:30:54.266078Z",
     "iopub.status.idle": "2022-04-07T12:30:54.277962Z",
     "shell.execute_reply": "2022-04-07T12:30:54.278418Z",
     "shell.execute_reply.started": "2022-04-07T11:58:15.518627Z"
    },
    "papermill": {
     "duration": 0.071328,
     "end_time": "2022-04-07T12:30:54.278580",
     "exception": false,
     "start_time": "2022-04-07T12:30:54.207252",
     "status": "completed"
    },
    "tags": []
   },
   "outputs": [
    {
     "data": {
      "text/html": [
       "<div>\n",
       "<style scoped>\n",
       "    .dataframe tbody tr th:only-of-type {\n",
       "        vertical-align: middle;\n",
       "    }\n",
       "\n",
       "    .dataframe tbody tr th {\n",
       "        vertical-align: top;\n",
       "    }\n",
       "\n",
       "    .dataframe thead th {\n",
       "        text-align: right;\n",
       "    }\n",
       "</style>\n",
       "<table border=\"1\" class=\"dataframe\">\n",
       "  <thead>\n",
       "    <tr style=\"text-align: right;\">\n",
       "      <th></th>\n",
       "      <th>id</th>\n",
       "      <th>anchor</th>\n",
       "      <th>context</th>\n",
       "      <th>score</th>\n",
       "      <th>target</th>\n",
       "      <th>new_anchor</th>\n",
       "    </tr>\n",
       "  </thead>\n",
       "  <tbody>\n",
       "    <tr>\n",
       "      <th>0</th>\n",
       "      <td>37d61fd2272659b1</td>\n",
       "      <td>abatement</td>\n",
       "      <td>A47</td>\n",
       "      <td>0.50</td>\n",
       "      <td>abatement pollution</td>\n",
       "      <td>abatement</td>\n",
       "    </tr>\n",
       "    <tr>\n",
       "      <th>1</th>\n",
       "      <td>7b9652b17b68b7a4</td>\n",
       "      <td>abatement</td>\n",
       "      <td>A47</td>\n",
       "      <td>0.75</td>\n",
       "      <td>act abating</td>\n",
       "      <td>abatement</td>\n",
       "    </tr>\n",
       "    <tr>\n",
       "      <th>2</th>\n",
       "      <td>36d72442aefd8232</td>\n",
       "      <td>abatement</td>\n",
       "      <td>A47</td>\n",
       "      <td>0.25</td>\n",
       "      <td>active catalyst</td>\n",
       "      <td>abatement</td>\n",
       "    </tr>\n",
       "    <tr>\n",
       "      <th>3</th>\n",
       "      <td>5296b0c19e1ce60e</td>\n",
       "      <td>abatement</td>\n",
       "      <td>A47</td>\n",
       "      <td>0.50</td>\n",
       "      <td>eliminating process</td>\n",
       "      <td>abatement</td>\n",
       "    </tr>\n",
       "    <tr>\n",
       "      <th>4</th>\n",
       "      <td>54c1e3b9184cb5b6</td>\n",
       "      <td>abatement</td>\n",
       "      <td>A47</td>\n",
       "      <td>0.00</td>\n",
       "      <td>forest region</td>\n",
       "      <td>abatement</td>\n",
       "    </tr>\n",
       "  </tbody>\n",
       "</table>\n",
       "</div>"
      ],
      "text/plain": [
       "                 id     anchor context  score               target new_anchor\n",
       "0  37d61fd2272659b1  abatement     A47   0.50  abatement pollution  abatement\n",
       "1  7b9652b17b68b7a4  abatement     A47   0.75          act abating  abatement\n",
       "2  36d72442aefd8232  abatement     A47   0.25      active catalyst  abatement\n",
       "3  5296b0c19e1ce60e  abatement     A47   0.50  eliminating process  abatement\n",
       "4  54c1e3b9184cb5b6  abatement     A47   0.00        forest region  abatement"
      ]
     },
     "execution_count": 24,
     "metadata": {},
     "output_type": "execute_result"
    }
   ],
   "source": [
    "# Renaming the new_target as target\n",
    "train.rename(columns={\"new_target\":\"target\"}, inplace=True)\n",
    "train.head()"
   ]
  },
  {
   "cell_type": "code",
   "execution_count": 25,
   "id": "a121011b",
   "metadata": {
    "execution": {
     "iopub.execute_input": "2022-04-07T12:30:54.399468Z",
     "iopub.status.busy": "2022-04-07T12:30:54.398730Z",
     "iopub.status.idle": "2022-04-07T12:30:54.408402Z",
     "shell.execute_reply": "2022-04-07T12:30:54.408970Z",
     "shell.execute_reply.started": "2022-04-07T11:58:12.897950Z"
    },
    "papermill": {
     "duration": 0.070546,
     "end_time": "2022-04-07T12:30:54.409138",
     "exception": false,
     "start_time": "2022-04-07T12:30:54.338592",
     "status": "completed"
    },
    "tags": []
   },
   "outputs": [
    {
     "data": {
      "text/html": [
       "<div>\n",
       "<style scoped>\n",
       "    .dataframe tbody tr th:only-of-type {\n",
       "        vertical-align: middle;\n",
       "    }\n",
       "\n",
       "    .dataframe tbody tr th {\n",
       "        vertical-align: top;\n",
       "    }\n",
       "\n",
       "    .dataframe thead th {\n",
       "        text-align: right;\n",
       "    }\n",
       "</style>\n",
       "<table border=\"1\" class=\"dataframe\">\n",
       "  <thead>\n",
       "    <tr style=\"text-align: right;\">\n",
       "      <th></th>\n",
       "      <th>id</th>\n",
       "      <th>anchor</th>\n",
       "      <th>context</th>\n",
       "      <th>target</th>\n",
       "      <th>new_anchor</th>\n",
       "    </tr>\n",
       "  </thead>\n",
       "  <tbody>\n",
       "    <tr>\n",
       "      <th>0</th>\n",
       "      <td>4112d61851461f60</td>\n",
       "      <td>opc drum</td>\n",
       "      <td>G02</td>\n",
       "      <td>inorganic photoconductor drum</td>\n",
       "      <td>opc drum</td>\n",
       "    </tr>\n",
       "    <tr>\n",
       "      <th>1</th>\n",
       "      <td>09e418c93a776564</td>\n",
       "      <td>adjust gas flow</td>\n",
       "      <td>F23</td>\n",
       "      <td>altering gas flow</td>\n",
       "      <td>adjust gas flow</td>\n",
       "    </tr>\n",
       "    <tr>\n",
       "      <th>2</th>\n",
       "      <td>36baf228038e314b</td>\n",
       "      <td>lower trunnion</td>\n",
       "      <td>B60</td>\n",
       "      <td>lower locating</td>\n",
       "      <td>lower trunnion</td>\n",
       "    </tr>\n",
       "    <tr>\n",
       "      <th>3</th>\n",
       "      <td>1f37ead645e7f0c8</td>\n",
       "      <td>cap component</td>\n",
       "      <td>D06</td>\n",
       "      <td>upper portion</td>\n",
       "      <td>cap component</td>\n",
       "    </tr>\n",
       "    <tr>\n",
       "      <th>4</th>\n",
       "      <td>71a5b6ad068d531f</td>\n",
       "      <td>neural stimulation</td>\n",
       "      <td>H04</td>\n",
       "      <td>artificial neural network</td>\n",
       "      <td>neural stimulation</td>\n",
       "    </tr>\n",
       "  </tbody>\n",
       "</table>\n",
       "</div>"
      ],
      "text/plain": [
       "                 id              anchor context  \\\n",
       "0  4112d61851461f60            opc drum     G02   \n",
       "1  09e418c93a776564     adjust gas flow     F23   \n",
       "2  36baf228038e314b      lower trunnion     B60   \n",
       "3  1f37ead645e7f0c8       cap component     D06   \n",
       "4  71a5b6ad068d531f  neural stimulation     H04   \n",
       "\n",
       "                          target          new_anchor  \n",
       "0  inorganic photoconductor drum            opc drum  \n",
       "1              altering gas flow     adjust gas flow  \n",
       "2                 lower locating      lower trunnion  \n",
       "3                  upper portion       cap component  \n",
       "4      artificial neural network  neural stimulation  "
      ]
     },
     "execution_count": 25,
     "metadata": {},
     "output_type": "execute_result"
    }
   ],
   "source": [
    "# Renaming the new_target as target\n",
    "test.rename(columns={\"new_target\":\"target\"}, inplace=True)\n",
    "test.head()"
   ]
  },
  {
   "cell_type": "code",
   "execution_count": 26,
   "id": "9411492e",
   "metadata": {
    "execution": {
     "iopub.execute_input": "2022-04-07T12:30:54.534056Z",
     "iopub.status.busy": "2022-04-07T12:30:54.533447Z",
     "iopub.status.idle": "2022-04-07T12:30:54.566493Z",
     "shell.execute_reply": "2022-04-07T12:30:54.567222Z",
     "shell.execute_reply.started": "2022-04-07T11:59:32.627645Z"
    },
    "papermill": {
     "duration": 0.09416,
     "end_time": "2022-04-07T12:30:54.567616",
     "exception": false,
     "start_time": "2022-04-07T12:30:54.473456",
     "status": "completed"
    },
    "tags": []
   },
   "outputs": [
    {
     "name": "stdout",
     "output_type": "stream",
     "text": [
      "The minimum string length of anchor feature is 3, and for the new_anchor feature the minimum string length is 3\n"
     ]
    }
   ],
   "source": [
    "# Similarly as above we observe for anchor and new_anchor feature\n",
    "# The minimum string length in new_anchor and anchor features\n",
    "print(f\"The minimum string length of anchor feature is {train['anchor'].str.len().min() }, and for the new_anchor feature the minimum string length is {train['new_anchor'].str.len().min()}\")"
   ]
  },
  {
   "cell_type": "markdown",
   "id": "bbc00326",
   "metadata": {
    "papermill": {
     "duration": 0.063371,
     "end_time": "2022-04-07T12:30:54.697407",
     "exception": false,
     "start_time": "2022-04-07T12:30:54.634036",
     "status": "completed"
    },
    "tags": []
   },
   "source": [
    "In the *anchor* and *new_anchor* features have same minimum string length, therefore we can directly drop the *anchor* feature and rename the *new_anchor* feature as *anchor* feature."
   ]
  },
  {
   "cell_type": "code",
   "execution_count": 27,
   "id": "a63f31f9",
   "metadata": {
    "execution": {
     "iopub.execute_input": "2022-04-07T12:30:54.824725Z",
     "iopub.status.busy": "2022-04-07T12:30:54.824114Z",
     "iopub.status.idle": "2022-04-07T12:30:54.830129Z",
     "shell.execute_reply": "2022-04-07T12:30:54.830904Z",
     "shell.execute_reply.started": "2022-04-07T11:59:24.222634Z"
    },
    "papermill": {
     "duration": 0.073442,
     "end_time": "2022-04-07T12:30:54.831160",
     "exception": false,
     "start_time": "2022-04-07T12:30:54.757718",
     "status": "completed"
    },
    "tags": []
   },
   "outputs": [
    {
     "name": "stdout",
     "output_type": "stream",
     "text": [
      "The minimum string length of anchor feature is 5, and for the new_anchor feature the minimum string length is 5\n"
     ]
    }
   ],
   "source": [
    "# Similarly as above we observe for anchor and new_anchor feature\n",
    "# The minimum string length in new_anchor and anchor features\n",
    "print(f\"The minimum string length of anchor feature is {test['anchor'].str.len().min() }, and for the new_anchor feature the minimum string length is {test['new_anchor'].str.len().min()}\")"
   ]
  },
  {
   "cell_type": "code",
   "execution_count": 28,
   "id": "74cdd311",
   "metadata": {
    "execution": {
     "iopub.execute_input": "2022-04-07T12:30:54.957089Z",
     "iopub.status.busy": "2022-04-07T12:30:54.956450Z",
     "iopub.status.idle": "2022-04-07T12:30:54.970398Z",
     "shell.execute_reply": "2022-04-07T12:30:54.970930Z",
     "shell.execute_reply.started": "2022-04-07T11:59:48.260881Z"
    },
    "papermill": {
     "duration": 0.078562,
     "end_time": "2022-04-07T12:30:54.971100",
     "exception": false,
     "start_time": "2022-04-07T12:30:54.892538",
     "status": "completed"
    },
    "tags": []
   },
   "outputs": [
    {
     "data": {
      "text/html": [
       "<div>\n",
       "<style scoped>\n",
       "    .dataframe tbody tr th:only-of-type {\n",
       "        vertical-align: middle;\n",
       "    }\n",
       "\n",
       "    .dataframe tbody tr th {\n",
       "        vertical-align: top;\n",
       "    }\n",
       "\n",
       "    .dataframe thead th {\n",
       "        text-align: right;\n",
       "    }\n",
       "</style>\n",
       "<table border=\"1\" class=\"dataframe\">\n",
       "  <thead>\n",
       "    <tr style=\"text-align: right;\">\n",
       "      <th></th>\n",
       "      <th>id</th>\n",
       "      <th>context</th>\n",
       "      <th>score</th>\n",
       "      <th>target</th>\n",
       "      <th>anchor</th>\n",
       "    </tr>\n",
       "  </thead>\n",
       "  <tbody>\n",
       "    <tr>\n",
       "      <th>0</th>\n",
       "      <td>37d61fd2272659b1</td>\n",
       "      <td>A47</td>\n",
       "      <td>0.50</td>\n",
       "      <td>abatement pollution</td>\n",
       "      <td>abatement</td>\n",
       "    </tr>\n",
       "    <tr>\n",
       "      <th>1</th>\n",
       "      <td>7b9652b17b68b7a4</td>\n",
       "      <td>A47</td>\n",
       "      <td>0.75</td>\n",
       "      <td>act abating</td>\n",
       "      <td>abatement</td>\n",
       "    </tr>\n",
       "    <tr>\n",
       "      <th>2</th>\n",
       "      <td>36d72442aefd8232</td>\n",
       "      <td>A47</td>\n",
       "      <td>0.25</td>\n",
       "      <td>active catalyst</td>\n",
       "      <td>abatement</td>\n",
       "    </tr>\n",
       "    <tr>\n",
       "      <th>3</th>\n",
       "      <td>5296b0c19e1ce60e</td>\n",
       "      <td>A47</td>\n",
       "      <td>0.50</td>\n",
       "      <td>eliminating process</td>\n",
       "      <td>abatement</td>\n",
       "    </tr>\n",
       "    <tr>\n",
       "      <th>4</th>\n",
       "      <td>54c1e3b9184cb5b6</td>\n",
       "      <td>A47</td>\n",
       "      <td>0.00</td>\n",
       "      <td>forest region</td>\n",
       "      <td>abatement</td>\n",
       "    </tr>\n",
       "  </tbody>\n",
       "</table>\n",
       "</div>"
      ],
      "text/plain": [
       "                 id context  score               target     anchor\n",
       "0  37d61fd2272659b1     A47   0.50  abatement pollution  abatement\n",
       "1  7b9652b17b68b7a4     A47   0.75          act abating  abatement\n",
       "2  36d72442aefd8232     A47   0.25      active catalyst  abatement\n",
       "3  5296b0c19e1ce60e     A47   0.50  eliminating process  abatement\n",
       "4  54c1e3b9184cb5b6     A47   0.00        forest region  abatement"
      ]
     },
     "execution_count": 28,
     "metadata": {},
     "output_type": "execute_result"
    }
   ],
   "source": [
    "# Dropping the anchor feature\n",
    "train = train.drop([\"anchor\"],axis=1)\n",
    "# Rename the new_anchor feature as anchor feature\n",
    "train.rename(columns={\"new_anchor\":\"anchor\"}, inplace=True)\n",
    "train.head()"
   ]
  },
  {
   "cell_type": "code",
   "execution_count": 29,
   "id": "5921a640",
   "metadata": {
    "execution": {
     "iopub.execute_input": "2022-04-07T12:30:55.108171Z",
     "iopub.status.busy": "2022-04-07T12:30:55.107417Z",
     "iopub.status.idle": "2022-04-07T12:30:55.110752Z",
     "shell.execute_reply": "2022-04-07T12:30:55.111240Z",
     "shell.execute_reply.started": "2022-04-07T12:00:37.809959Z"
    },
    "papermill": {
     "duration": 0.079092,
     "end_time": "2022-04-07T12:30:55.111406",
     "exception": false,
     "start_time": "2022-04-07T12:30:55.032314",
     "status": "completed"
    },
    "tags": []
   },
   "outputs": [
    {
     "data": {
      "text/html": [
       "<div>\n",
       "<style scoped>\n",
       "    .dataframe tbody tr th:only-of-type {\n",
       "        vertical-align: middle;\n",
       "    }\n",
       "\n",
       "    .dataframe tbody tr th {\n",
       "        vertical-align: top;\n",
       "    }\n",
       "\n",
       "    .dataframe thead th {\n",
       "        text-align: right;\n",
       "    }\n",
       "</style>\n",
       "<table border=\"1\" class=\"dataframe\">\n",
       "  <thead>\n",
       "    <tr style=\"text-align: right;\">\n",
       "      <th></th>\n",
       "      <th>id</th>\n",
       "      <th>context</th>\n",
       "      <th>target</th>\n",
       "      <th>anchor</th>\n",
       "    </tr>\n",
       "  </thead>\n",
       "  <tbody>\n",
       "    <tr>\n",
       "      <th>0</th>\n",
       "      <td>4112d61851461f60</td>\n",
       "      <td>G02</td>\n",
       "      <td>inorganic photoconductor drum</td>\n",
       "      <td>opc drum</td>\n",
       "    </tr>\n",
       "    <tr>\n",
       "      <th>1</th>\n",
       "      <td>09e418c93a776564</td>\n",
       "      <td>F23</td>\n",
       "      <td>altering gas flow</td>\n",
       "      <td>adjust gas flow</td>\n",
       "    </tr>\n",
       "    <tr>\n",
       "      <th>2</th>\n",
       "      <td>36baf228038e314b</td>\n",
       "      <td>B60</td>\n",
       "      <td>lower locating</td>\n",
       "      <td>lower trunnion</td>\n",
       "    </tr>\n",
       "    <tr>\n",
       "      <th>3</th>\n",
       "      <td>1f37ead645e7f0c8</td>\n",
       "      <td>D06</td>\n",
       "      <td>upper portion</td>\n",
       "      <td>cap component</td>\n",
       "    </tr>\n",
       "    <tr>\n",
       "      <th>4</th>\n",
       "      <td>71a5b6ad068d531f</td>\n",
       "      <td>H04</td>\n",
       "      <td>artificial neural network</td>\n",
       "      <td>neural stimulation</td>\n",
       "    </tr>\n",
       "  </tbody>\n",
       "</table>\n",
       "</div>"
      ],
      "text/plain": [
       "                 id context                         target              anchor\n",
       "0  4112d61851461f60     G02  inorganic photoconductor drum            opc drum\n",
       "1  09e418c93a776564     F23              altering gas flow     adjust gas flow\n",
       "2  36baf228038e314b     B60                 lower locating      lower trunnion\n",
       "3  1f37ead645e7f0c8     D06                  upper portion       cap component\n",
       "4  71a5b6ad068d531f     H04      artificial neural network  neural stimulation"
      ]
     },
     "execution_count": 29,
     "metadata": {},
     "output_type": "execute_result"
    }
   ],
   "source": [
    "# Dropping the anchor feature\n",
    "test = test.drop([\"anchor\"],axis=1)\n",
    "# Rename the new_anchor feature as anchor feature\n",
    "test.rename(columns={\"new_anchor\":\"anchor\"}, inplace=True)\n",
    "test.head()"
   ]
  },
  {
   "cell_type": "code",
   "execution_count": 30,
   "id": "fec4291b",
   "metadata": {
    "execution": {
     "iopub.execute_input": "2022-04-07T12:30:55.233524Z",
     "iopub.status.busy": "2022-04-07T12:30:55.232425Z",
     "iopub.status.idle": "2022-04-07T12:30:55.246372Z",
     "shell.execute_reply": "2022-04-07T12:30:55.246800Z",
     "shell.execute_reply.started": "2022-04-07T12:01:09.260737Z"
    },
    "papermill": {
     "duration": 0.074836,
     "end_time": "2022-04-07T12:30:55.246981",
     "exception": false,
     "start_time": "2022-04-07T12:30:55.172145",
     "status": "completed"
    },
    "tags": []
   },
   "outputs": [
    {
     "data": {
      "text/html": [
       "<div>\n",
       "<style scoped>\n",
       "    .dataframe tbody tr th:only-of-type {\n",
       "        vertical-align: middle;\n",
       "    }\n",
       "\n",
       "    .dataframe tbody tr th {\n",
       "        vertical-align: top;\n",
       "    }\n",
       "\n",
       "    .dataframe thead th {\n",
       "        text-align: right;\n",
       "    }\n",
       "</style>\n",
       "<table border=\"1\" class=\"dataframe\">\n",
       "  <thead>\n",
       "    <tr style=\"text-align: right;\">\n",
       "      <th></th>\n",
       "      <th>id</th>\n",
       "      <th>anchor</th>\n",
       "      <th>target</th>\n",
       "      <th>context</th>\n",
       "      <th>score</th>\n",
       "    </tr>\n",
       "  </thead>\n",
       "  <tbody>\n",
       "    <tr>\n",
       "      <th>0</th>\n",
       "      <td>37d61fd2272659b1</td>\n",
       "      <td>abatement</td>\n",
       "      <td>abatement pollution</td>\n",
       "      <td>A47</td>\n",
       "      <td>0.50</td>\n",
       "    </tr>\n",
       "    <tr>\n",
       "      <th>1</th>\n",
       "      <td>7b9652b17b68b7a4</td>\n",
       "      <td>abatement</td>\n",
       "      <td>act abating</td>\n",
       "      <td>A47</td>\n",
       "      <td>0.75</td>\n",
       "    </tr>\n",
       "    <tr>\n",
       "      <th>2</th>\n",
       "      <td>36d72442aefd8232</td>\n",
       "      <td>abatement</td>\n",
       "      <td>active catalyst</td>\n",
       "      <td>A47</td>\n",
       "      <td>0.25</td>\n",
       "    </tr>\n",
       "    <tr>\n",
       "      <th>3</th>\n",
       "      <td>5296b0c19e1ce60e</td>\n",
       "      <td>abatement</td>\n",
       "      <td>eliminating process</td>\n",
       "      <td>A47</td>\n",
       "      <td>0.50</td>\n",
       "    </tr>\n",
       "    <tr>\n",
       "      <th>4</th>\n",
       "      <td>54c1e3b9184cb5b6</td>\n",
       "      <td>abatement</td>\n",
       "      <td>forest region</td>\n",
       "      <td>A47</td>\n",
       "      <td>0.00</td>\n",
       "    </tr>\n",
       "  </tbody>\n",
       "</table>\n",
       "</div>"
      ],
      "text/plain": [
       "                 id     anchor               target context  score\n",
       "0  37d61fd2272659b1  abatement  abatement pollution     A47   0.50\n",
       "1  7b9652b17b68b7a4  abatement          act abating     A47   0.75\n",
       "2  36d72442aefd8232  abatement      active catalyst     A47   0.25\n",
       "3  5296b0c19e1ce60e  abatement  eliminating process     A47   0.50\n",
       "4  54c1e3b9184cb5b6  abatement        forest region     A47   0.00"
      ]
     },
     "execution_count": 30,
     "metadata": {},
     "output_type": "execute_result"
    }
   ],
   "source": [
    "# Simply rearranging the columns\n",
    "train = train[['id','anchor','target','context','score']]\n",
    "train.head()"
   ]
  },
  {
   "cell_type": "code",
   "execution_count": 31,
   "id": "0a0ebfde",
   "metadata": {
    "execution": {
     "iopub.execute_input": "2022-04-07T12:30:55.376283Z",
     "iopub.status.busy": "2022-04-07T12:30:55.375167Z",
     "iopub.status.idle": "2022-04-07T12:30:55.386514Z",
     "shell.execute_reply": "2022-04-07T12:30:55.387002Z",
     "shell.execute_reply.started": "2022-04-07T12:01:30.311077Z"
    },
    "papermill": {
     "duration": 0.078481,
     "end_time": "2022-04-07T12:30:55.387178",
     "exception": false,
     "start_time": "2022-04-07T12:30:55.308697",
     "status": "completed"
    },
    "tags": []
   },
   "outputs": [
    {
     "data": {
      "text/html": [
       "<div>\n",
       "<style scoped>\n",
       "    .dataframe tbody tr th:only-of-type {\n",
       "        vertical-align: middle;\n",
       "    }\n",
       "\n",
       "    .dataframe tbody tr th {\n",
       "        vertical-align: top;\n",
       "    }\n",
       "\n",
       "    .dataframe thead th {\n",
       "        text-align: right;\n",
       "    }\n",
       "</style>\n",
       "<table border=\"1\" class=\"dataframe\">\n",
       "  <thead>\n",
       "    <tr style=\"text-align: right;\">\n",
       "      <th></th>\n",
       "      <th>id</th>\n",
       "      <th>anchor</th>\n",
       "      <th>target</th>\n",
       "      <th>context</th>\n",
       "    </tr>\n",
       "  </thead>\n",
       "  <tbody>\n",
       "    <tr>\n",
       "      <th>0</th>\n",
       "      <td>4112d61851461f60</td>\n",
       "      <td>opc drum</td>\n",
       "      <td>inorganic photoconductor drum</td>\n",
       "      <td>G02</td>\n",
       "    </tr>\n",
       "    <tr>\n",
       "      <th>1</th>\n",
       "      <td>09e418c93a776564</td>\n",
       "      <td>adjust gas flow</td>\n",
       "      <td>altering gas flow</td>\n",
       "      <td>F23</td>\n",
       "    </tr>\n",
       "    <tr>\n",
       "      <th>2</th>\n",
       "      <td>36baf228038e314b</td>\n",
       "      <td>lower trunnion</td>\n",
       "      <td>lower locating</td>\n",
       "      <td>B60</td>\n",
       "    </tr>\n",
       "    <tr>\n",
       "      <th>3</th>\n",
       "      <td>1f37ead645e7f0c8</td>\n",
       "      <td>cap component</td>\n",
       "      <td>upper portion</td>\n",
       "      <td>D06</td>\n",
       "    </tr>\n",
       "    <tr>\n",
       "      <th>4</th>\n",
       "      <td>71a5b6ad068d531f</td>\n",
       "      <td>neural stimulation</td>\n",
       "      <td>artificial neural network</td>\n",
       "      <td>H04</td>\n",
       "    </tr>\n",
       "  </tbody>\n",
       "</table>\n",
       "</div>"
      ],
      "text/plain": [
       "                 id              anchor                         target context\n",
       "0  4112d61851461f60            opc drum  inorganic photoconductor drum     G02\n",
       "1  09e418c93a776564     adjust gas flow              altering gas flow     F23\n",
       "2  36baf228038e314b      lower trunnion                 lower locating     B60\n",
       "3  1f37ead645e7f0c8       cap component                  upper portion     D06\n",
       "4  71a5b6ad068d531f  neural stimulation      artificial neural network     H04"
      ]
     },
     "execution_count": 31,
     "metadata": {},
     "output_type": "execute_result"
    }
   ],
   "source": [
    "# Simply rearranging the columns\n",
    "test = test[['id','anchor','target','context']]\n",
    "test.head()"
   ]
  },
  {
   "cell_type": "markdown",
   "id": "568766ea",
   "metadata": {
    "papermill": {
     "duration": 0.05964,
     "end_time": "2022-04-07T12:30:55.511985",
     "exception": false,
     "start_time": "2022-04-07T12:30:55.452345",
     "status": "completed"
    },
    "tags": []
   },
   "source": [
    "#### Exploratory Data Analysis (EDA)\n",
    "**Now we analyze whether there is any null elements in the dataframe**"
   ]
  },
  {
   "cell_type": "code",
   "execution_count": 32,
   "id": "bdc65c5f",
   "metadata": {
    "execution": {
     "iopub.execute_input": "2022-04-07T12:30:55.639459Z",
     "iopub.status.busy": "2022-04-07T12:30:55.638400Z",
     "iopub.status.idle": "2022-04-07T12:30:55.651709Z",
     "shell.execute_reply": "2022-04-07T12:30:55.652161Z",
     "shell.execute_reply.started": "2022-04-07T12:02:29.903168Z"
    },
    "papermill": {
     "duration": 0.077023,
     "end_time": "2022-04-07T12:30:55.652332",
     "exception": false,
     "start_time": "2022-04-07T12:30:55.575309",
     "status": "completed"
    },
    "tags": []
   },
   "outputs": [
    {
     "data": {
      "text/plain": [
       "id         0\n",
       "anchor     0\n",
       "target     0\n",
       "context    0\n",
       "score      0\n",
       "dtype: int64"
      ]
     },
     "execution_count": 32,
     "metadata": {},
     "output_type": "execute_result"
    }
   ],
   "source": [
    "train.isnull().sum()"
   ]
  },
  {
   "cell_type": "code",
   "execution_count": 33,
   "id": "7a9fb482",
   "metadata": {
    "execution": {
     "iopub.execute_input": "2022-04-07T12:30:55.783707Z",
     "iopub.status.busy": "2022-04-07T12:30:55.782828Z",
     "iopub.status.idle": "2022-04-07T12:30:55.786189Z",
     "shell.execute_reply": "2022-04-07T12:30:55.786825Z",
     "shell.execute_reply.started": "2022-04-07T12:02:47.789428Z"
    },
    "papermill": {
     "duration": 0.071221,
     "end_time": "2022-04-07T12:30:55.787001",
     "exception": false,
     "start_time": "2022-04-07T12:30:55.715780",
     "status": "completed"
    },
    "tags": []
   },
   "outputs": [
    {
     "data": {
      "text/plain": [
       "id         0\n",
       "anchor     0\n",
       "target     0\n",
       "context    0\n",
       "dtype: int64"
      ]
     },
     "execution_count": 33,
     "metadata": {},
     "output_type": "execute_result"
    }
   ],
   "source": [
    "test.isnull().sum()"
   ]
  },
  {
   "cell_type": "markdown",
   "id": "7e569edc",
   "metadata": {
    "papermill": {
     "duration": 0.063116,
     "end_time": "2022-04-07T12:30:55.910322",
     "exception": false,
     "start_time": "2022-04-07T12:30:55.847206",
     "status": "completed"
    },
    "tags": []
   },
   "source": [
    "#### First we analyze the *target* feature.\n",
    "\n",
    "**Distribution of sentence length in the *target* feature**"
   ]
  },
  {
   "cell_type": "code",
   "execution_count": 34,
   "id": "8b8eb099",
   "metadata": {
    "execution": {
     "iopub.execute_input": "2022-04-07T12:30:56.036900Z",
     "iopub.status.busy": "2022-04-07T12:30:56.036271Z",
     "iopub.status.idle": "2022-04-07T12:30:56.499703Z",
     "shell.execute_reply": "2022-04-07T12:30:56.499186Z",
     "shell.execute_reply.started": "2022-04-07T12:02:51.962339Z"
    },
    "papermill": {
     "duration": 0.529373,
     "end_time": "2022-04-07T12:30:56.499874",
     "exception": false,
     "start_time": "2022-04-07T12:30:55.970501",
     "status": "completed"
    },
    "tags": []
   },
   "outputs": [
    {
     "data": {
      "text/plain": [
       "Text(0.5, 1.0, 'Histogram of sentence length of the target feature')"
      ]
     },
     "execution_count": 34,
     "metadata": {},
     "output_type": "execute_result"
    },
    {
     "data": {
      "image/png": "[encoded data removed]",
      "text/plain": [
       "<Figure size 432x288 with 1 Axes>"
      ]
     },
     "metadata": {
      "needs_background": "light"
     },
     "output_type": "display_data"
    }
   ],
   "source": [
    "import matplotlib.pyplot as plt\n",
    "train['target'].str.split(\" \").apply(lambda x: len(x)).hist()\n",
    "plt.title(\"Histogram of sentence length of the target feature\")"
   ]
  },
  {
   "cell_type": "code",
   "execution_count": 35,
   "id": "e94067c8",
   "metadata": {
    "execution": {
     "iopub.execute_input": "2022-04-07T12:30:56.645585Z",
     "iopub.status.busy": "2022-04-07T12:30:56.644924Z",
     "iopub.status.idle": "2022-04-07T12:30:56.873894Z",
     "shell.execute_reply": "2022-04-07T12:30:56.874563Z",
     "shell.execute_reply.started": "2022-04-07T12:02:53.440058Z"
    },
    "papermill": {
     "duration": 0.30743,
     "end_time": "2022-04-07T12:30:56.874812",
     "exception": false,
     "start_time": "2022-04-07T12:30:56.567382",
     "status": "completed"
    },
    "tags": []
   },
   "outputs": [
    {
     "name": "stdout",
     "output_type": "stream",
     "text": [
      "The minimum and maximum sentence length in the target feature are 1 and 15, respectively.\n"
     ]
    }
   ],
   "source": [
    "# Distribution of number of words in a sentence of the target feature\n",
    "sent_max = train['target'].str.split(\" \").apply(lambda x: len(x)).max()\n",
    "sent_min = train['target'].str.split(\" \").apply(lambda x: len(x)).min()\n",
    "print(f\"The minimum and maximum sentence length in the target feature are {sent_min} and {sent_max}, respectively.\")"
   ]
  },
  {
   "cell_type": "markdown",
   "id": "79a41993",
   "metadata": {
    "papermill": {
     "duration": 0.066299,
     "end_time": "2022-04-07T12:30:57.011827",
     "exception": false,
     "start_time": "2022-04-07T12:30:56.945528",
     "status": "completed"
    },
    "tags": []
   },
   "source": [
    "**Mostly the sentence length in the *target* feature is about 2 i.e. 2 words in a sentence.**"
   ]
  },
  {
   "cell_type": "markdown",
   "id": "d052952e",
   "metadata": {
    "papermill": {
     "duration": 0.065512,
     "end_time": "2022-04-07T12:30:57.144527",
     "exception": false,
     "start_time": "2022-04-07T12:30:57.079015",
     "status": "completed"
    },
    "tags": []
   },
   "source": [
    "**Distribution of character length in the *target* feature**"
   ]
  },
  {
   "cell_type": "code",
   "execution_count": 36,
   "id": "39ba7d59",
   "metadata": {
    "execution": {
     "iopub.execute_input": "2022-04-07T12:30:57.278364Z",
     "iopub.status.busy": "2022-04-07T12:30:57.277691Z",
     "iopub.status.idle": "2022-04-07T12:30:57.545036Z",
     "shell.execute_reply": "2022-04-07T12:30:57.545562Z",
     "shell.execute_reply.started": "2022-04-07T12:03:03.873415Z"
    },
    "papermill": {
     "duration": 0.337779,
     "end_time": "2022-04-07T12:30:57.545742",
     "exception": false,
     "start_time": "2022-04-07T12:30:57.207963",
     "status": "completed"
    },
    "tags": []
   },
   "outputs": [
    {
     "data": {
      "text/plain": [
       "Text(0.5, 1.0, 'Histogram of character length of the target feature')"
      ]
     },
     "execution_count": 36,
     "metadata": {},
     "output_type": "execute_result"
    },
    {
     "data": {
      "image/png": "[encoded data removed]",
      "text/plain": [
       "<Figure size 432x288 with 1 Axes>"
      ]
     },
     "metadata": {
      "needs_background": "light"
     },
     "output_type": "display_data"
    }
   ],
   "source": [
    "train['target'].str.len().hist()\n",
    "plt.title(\"Histogram of character length of the target feature\")"
   ]
  },
  {
   "cell_type": "code",
   "execution_count": 37,
   "id": "ef553a59",
   "metadata": {
    "execution": {
     "iopub.execute_input": "2022-04-07T12:30:57.695918Z",
     "iopub.status.busy": "2022-04-07T12:30:57.693369Z",
     "iopub.status.idle": "2022-04-07T12:30:57.718844Z",
     "shell.execute_reply": "2022-04-07T12:30:57.718364Z",
     "shell.execute_reply.started": "2022-04-07T12:03:05.550330Z"
    },
    "papermill": {
     "duration": 0.103645,
     "end_time": "2022-04-07T12:30:57.718987",
     "exception": false,
     "start_time": "2022-04-07T12:30:57.615342",
     "status": "completed"
    },
    "tags": []
   },
   "outputs": [
    {
     "name": "stdout",
     "output_type": "stream",
     "text": [
      "The minimum and maximum character length in the target feature are 2 and 98, respectively.\n"
     ]
    }
   ],
   "source": [
    "char_max = train['target'].str.len().max()\n",
    "char_min = train['target'].str.len().min()\n",
    "print(f\"The minimum and maximum character length in the target feature are {char_min} and {char_max}, respectively.\")"
   ]
  },
  {
   "cell_type": "markdown",
   "id": "6145fc25",
   "metadata": {
    "papermill": {
     "duration": 0.064847,
     "end_time": "2022-04-07T12:30:57.846493",
     "exception": false,
     "start_time": "2022-04-07T12:30:57.781646",
     "status": "completed"
    },
    "tags": []
   },
   "source": [
    "**Mostly the character length in the *target* feature is about 20 i.e. 20 characters in a sentence.**"
   ]
  },
  {
   "cell_type": "markdown",
   "id": "e6475e0a",
   "metadata": {
    "papermill": {
     "duration": 0.06576,
     "end_time": "2022-04-07T12:30:57.982935",
     "exception": false,
     "start_time": "2022-04-07T12:30:57.917175",
     "status": "completed"
    },
    "tags": []
   },
   "source": [
    "**Observing the Word Cloud of the *target* feature.**"
   ]
  },
  {
   "cell_type": "code",
   "execution_count": 38,
   "id": "7a8f74f3",
   "metadata": {
    "execution": {
     "iopub.execute_input": "2022-04-07T12:30:58.124327Z",
     "iopub.status.busy": "2022-04-07T12:30:58.123351Z",
     "iopub.status.idle": "2022-04-07T12:30:59.327481Z",
     "shell.execute_reply": "2022-04-07T12:30:59.328148Z",
     "shell.execute_reply.started": "2022-04-07T12:03:10.210907Z"
    },
    "papermill": {
     "duration": 1.275805,
     "end_time": "2022-04-07T12:30:59.328368",
     "exception": false,
     "start_time": "2022-04-07T12:30:58.052563",
     "status": "completed"
    },
    "tags": []
   },
   "outputs": [
    {
     "data": {
      "image/png": "[encoded data removed]",
      "text/plain": [
       "<Figure size 864x720 with 1 Axes>"
      ]
     },
     "metadata": {
      "needs_background": "light"
     },
     "output_type": "display_data"
    }
   ],
   "source": [
    "from wordcloud import WordCloud\n",
    "# joining all the target features sentences into one line\n",
    "text = \" \".join(sent for sent in train.target)\n",
    "# lower max_font_size, change the maximum number of word and lighten the background:\n",
    "wordcloud = WordCloud(max_font_size=50, max_words=100).generate(text)\n",
    "# Plotting the figure\n",
    "plt.figure(figsize=(12, 10))\n",
    "plt.imshow(wordcloud, interpolation=\"bilinear\")\n",
    "plt.axis(\"off\")\n",
    "plt.title(\"Word cloud of the target feature\")\n",
    "plt.show()"
   ]
  },
  {
   "cell_type": "markdown",
   "id": "44fa9cc0",
   "metadata": {
    "papermill": {
     "duration": 0.070292,
     "end_time": "2022-04-07T12:30:59.471944",
     "exception": false,
     "start_time": "2022-04-07T12:30:59.401652",
     "status": "completed"
    },
    "tags": []
   },
   "source": [
    "**Frequently occuring words in the *target* feature are *device*, *system*, *material*, *member*, etc.**"
   ]
  },
  {
   "cell_type": "markdown",
   "id": "063a88ce",
   "metadata": {
    "papermill": {
     "duration": 0.070644,
     "end_time": "2022-04-07T12:30:59.612488",
     "exception": false,
     "start_time": "2022-04-07T12:30:59.541844",
     "status": "completed"
    },
    "tags": []
   },
   "source": [
    "#### Now we look into the *anchor* feature."
   ]
  },
  {
   "cell_type": "code",
   "execution_count": 39,
   "id": "eba0d91b",
   "metadata": {
    "execution": {
     "iopub.execute_input": "2022-04-07T12:30:59.759762Z",
     "iopub.status.busy": "2022-04-07T12:30:59.758755Z",
     "iopub.status.idle": "2022-04-07T12:31:00.029968Z",
     "shell.execute_reply": "2022-04-07T12:31:00.030558Z",
     "shell.execute_reply.started": "2022-04-07T12:03:17.761316Z"
    },
    "papermill": {
     "duration": 0.348784,
     "end_time": "2022-04-07T12:31:00.030741",
     "exception": false,
     "start_time": "2022-04-07T12:30:59.681957",
     "status": "completed"
    },
    "tags": []
   },
   "outputs": [
    {
     "data": {
      "text/plain": [
       "Text(0.5, 1.0, 'Histogram of sentence length of the anchor feature')"
      ]
     },
     "execution_count": 39,
     "metadata": {},
     "output_type": "execute_result"
    },
    {
     "data": {
      "image/png": "[encoded data removed]",
      "text/plain": [
       "<Figure size 432x288 with 1 Axes>"
      ]
     },
     "metadata": {
      "needs_background": "light"
     },
     "output_type": "display_data"
    }
   ],
   "source": [
    "# Distribution of number of words in a sentence of the anchor feature\n",
    "train['anchor'].str.split(\" \").apply(lambda x: len(x)).hist(align='mid')\n",
    "plt.title(\"Histogram of sentence length of the anchor feature\")"
   ]
  },
  {
   "cell_type": "code",
   "execution_count": 40,
   "id": "899ae2a9",
   "metadata": {
    "execution": {
     "iopub.execute_input": "2022-04-07T12:31:00.174263Z",
     "iopub.status.busy": "2022-04-07T12:31:00.173296Z",
     "iopub.status.idle": "2022-04-07T12:31:00.384630Z",
     "shell.execute_reply": "2022-04-07T12:31:00.384136Z",
     "shell.execute_reply.started": "2022-04-07T12:03:24.584057Z"
    },
    "papermill": {
     "duration": 0.284026,
     "end_time": "2022-04-07T12:31:00.384774",
     "exception": false,
     "start_time": "2022-04-07T12:31:00.100748",
     "status": "completed"
    },
    "tags": []
   },
   "outputs": [
    {
     "name": "stdout",
     "output_type": "stream",
     "text": [
      "The minimum and maximum sentence length in the anchor feature are 1 and 5, respectively.\n"
     ]
    }
   ],
   "source": [
    "sent_max = train['anchor'].str.split(\" \").apply(lambda x: len(x)).max()\n",
    "sent_min = train['anchor'].str.split(\" \").apply(lambda x: len(x)).min()\n",
    "print(f\"The minimum and maximum sentence length in the anchor feature are {sent_min} and {sent_max}, respectively.\")"
   ]
  },
  {
   "cell_type": "markdown",
   "id": "1e08f252",
   "metadata": {
    "papermill": {
     "duration": 0.069826,
     "end_time": "2022-04-07T12:31:00.525437",
     "exception": false,
     "start_time": "2022-04-07T12:31:00.455611",
     "status": "completed"
    },
    "tags": []
   },
   "source": [
    "**On an average the common number of words in a sentence of the *anchor* feature is 2. The minimum length is 1 and maximum length is 5.**"
   ]
  },
  {
   "cell_type": "code",
   "execution_count": 41,
   "id": "7a60d918",
   "metadata": {
    "execution": {
     "iopub.execute_input": "2022-04-07T12:31:00.673044Z",
     "iopub.status.busy": "2022-04-07T12:31:00.672270Z",
     "iopub.status.idle": "2022-04-07T12:31:00.919709Z",
     "shell.execute_reply": "2022-04-07T12:31:00.920206Z",
     "shell.execute_reply.started": "2022-04-07T12:03:27.302153Z"
    },
    "papermill": {
     "duration": 0.322863,
     "end_time": "2022-04-07T12:31:00.920381",
     "exception": false,
     "start_time": "2022-04-07T12:31:00.597518",
     "status": "completed"
    },
    "tags": []
   },
   "outputs": [
    {
     "data": {
      "text/plain": [
       "Text(0.5, 1.0, 'Histogram of character length of the anchor feature')"
      ]
     },
     "execution_count": 41,
     "metadata": {},
     "output_type": "execute_result"
    },
    {
     "data": {
      "image/png": "[encoded data removed]",
      "text/plain": [
       "<Figure size 432x288 with 1 Axes>"
      ]
     },
     "metadata": {
      "needs_background": "light"
     },
     "output_type": "display_data"
    }
   ],
   "source": [
    "# Distribution of number of characters in a sentence of the anchor feature\n",
    "train['anchor'].str.len().hist()\n",
    "plt.title(\"Histogram of character length of the anchor feature\")"
   ]
  },
  {
   "cell_type": "code",
   "execution_count": 42,
   "id": "a0186d0c",
   "metadata": {
    "execution": {
     "iopub.execute_input": "2022-04-07T12:31:01.082427Z",
     "iopub.status.busy": "2022-04-07T12:31:01.081474Z",
     "iopub.status.idle": "2022-04-07T12:31:01.108551Z",
     "shell.execute_reply": "2022-04-07T12:31:01.109073Z",
     "shell.execute_reply.started": "2022-04-07T12:03:28.397725Z"
    },
    "papermill": {
     "duration": 0.107301,
     "end_time": "2022-04-07T12:31:01.109249",
     "exception": false,
     "start_time": "2022-04-07T12:31:01.001948",
     "status": "completed"
    },
    "tags": []
   },
   "outputs": [
    {
     "name": "stdout",
     "output_type": "stream",
     "text": [
      "The minimum and maximum character length in the anchor feature are 3 and 38, respectively.\n"
     ]
    }
   ],
   "source": [
    "char_max = train['anchor'].str.len().max()\n",
    "char_min = train['anchor'].str.len().min()\n",
    "print(f\"The minimum and maximum character length in the anchor feature are {char_min} and {char_max}, respectively.\")"
   ]
  },
  {
   "cell_type": "markdown",
   "id": "729be10f",
   "metadata": {
    "papermill": {
     "duration": 0.079634,
     "end_time": "2022-04-07T12:31:01.262904",
     "exception": false,
     "start_time": "2022-04-07T12:31:01.183270",
     "status": "completed"
    },
    "tags": []
   },
   "source": [
    "**On an average the common number of charaters in a sentence of the *anchor* feature is in the range 10 to 20. The minimum length is 3 and maximum length is 38.**"
   ]
  },
  {
   "cell_type": "code",
   "execution_count": 43,
   "id": "373f40fc",
   "metadata": {
    "execution": {
     "iopub.execute_input": "2022-04-07T12:31:01.458054Z",
     "iopub.status.busy": "2022-04-07T12:31:01.433000Z",
     "iopub.status.idle": "2022-04-07T12:31:02.107731Z",
     "shell.execute_reply": "2022-04-07T12:31:02.108432Z",
     "shell.execute_reply.started": "2022-04-07T12:03:33.220581Z"
    },
    "papermill": {
     "duration": 0.766427,
     "end_time": "2022-04-07T12:31:02.108644",
     "exception": false,
     "start_time": "2022-04-07T12:31:01.342217",
     "status": "completed"
    },
    "tags": []
   },
   "outputs": [
    {
     "data": {
      "image/png": "[encoded data removed]",
      "text/plain": [
       "<Figure size 864x720 with 1 Axes>"
      ]
     },
     "metadata": {
      "needs_background": "light"
     },
     "output_type": "display_data"
    }
   ],
   "source": [
    "# joining all the target features sentences into one line\n",
    "text = \" \".join(sent for sent in train.anchor)\n",
    "# lower max_font_size, change the maximum number of word and lighten the background:\n",
    "wordcloud = WordCloud(max_font_size=50, max_words=100).generate(text)\n",
    "# Plotting the figure\n",
    "plt.figure(figsize=(12, 10))\n",
    "plt.imshow(wordcloud, interpolation=\"bilinear\")\n",
    "plt.axis(\"off\")\n",
    "plt.title(\"Word cloud of the anchor feature\")\n",
    "plt.show()"
   ]
  },
  {
   "cell_type": "code",
   "execution_count": 44,
   "id": "e46847de",
   "metadata": {
    "execution": {
     "iopub.execute_input": "2022-04-07T12:31:02.274835Z",
     "iopub.status.busy": "2022-04-07T12:31:02.274215Z",
     "iopub.status.idle": "2022-04-07T12:31:02.281301Z",
     "shell.execute_reply": "2022-04-07T12:31:02.281748Z",
     "shell.execute_reply.started": "2022-04-07T12:03:49.148090Z"
    },
    "papermill": {
     "duration": 0.090483,
     "end_time": "2022-04-07T12:31:02.281936",
     "exception": false,
     "start_time": "2022-04-07T12:31:02.191453",
     "status": "completed"
    },
    "tags": []
   },
   "outputs": [
    {
     "data": {
      "text/plain": [
       "array(['A01', 'A21', 'A22', 'A23', 'A24', 'A41', 'A43', 'A44', 'A45',\n",
       "       'A46', 'A47', 'A61', 'A62', 'A63', 'B01', 'B02', 'B03', 'B05',\n",
       "       'B07', 'B08', 'B21', 'B22', 'B23', 'B24', 'B25', 'B27', 'B28',\n",
       "       'B29', 'B31', 'B32', 'B41', 'B44', 'B60', 'B61', 'B62', 'B63',\n",
       "       'B64', 'B65', 'B66', 'B67', 'B81', 'C01', 'C02', 'C03', 'C04',\n",
       "       'C06', 'C07', 'C08', 'C09', 'C10', 'C11', 'C12', 'C13', 'C14',\n",
       "       'C21', 'C22', 'C23', 'C25', 'D01', 'D03', 'D04', 'D05', 'D06',\n",
       "       'D21', 'E01', 'E02', 'E03', 'E04', 'E05', 'E06', 'E21', 'F01',\n",
       "       'F02', 'F03', 'F04', 'F15', 'F16', 'F17', 'F21', 'F22', 'F23',\n",
       "       'F24', 'F25', 'F26', 'F27', 'F28', 'F41', 'F42', 'G01', 'G02',\n",
       "       'G03', 'G04', 'G05', 'G06', 'G07', 'G08', 'G09', 'G10', 'G11',\n",
       "       'G16', 'G21', 'H01', 'H02', 'H03', 'H04', 'H05'], dtype=object)"
      ]
     },
     "execution_count": 44,
     "metadata": {},
     "output_type": "execute_result"
    }
   ],
   "source": [
    "np.sort(train['context'].unique())"
   ]
  },
  {
   "cell_type": "markdown",
   "id": "8b61c21e",
   "metadata": {
    "papermill": {
     "duration": 0.080383,
     "end_time": "2022-04-07T12:31:02.443442",
     "exception": false,
     "start_time": "2022-04-07T12:31:02.363059",
     "status": "completed"
    },
    "tags": []
   },
   "source": [
    "#### Importing the *Cooperative Patent Classification Codes Meaning* dataset from the Kaggle notebook given [here](https://www.kaggle.com/datasets/xhlulu/cpc-codes).  "
   ]
  },
  {
   "cell_type": "code",
   "execution_count": 45,
   "id": "c6bf46b2",
   "metadata": {
    "execution": {
     "iopub.execute_input": "2022-04-07T12:31:02.612356Z",
     "iopub.status.busy": "2022-04-07T12:31:02.611708Z",
     "iopub.status.idle": "2022-04-07T12:31:03.439994Z",
     "shell.execute_reply": "2022-04-07T12:31:03.439382Z",
     "shell.execute_reply.started": "2022-04-07T12:06:59.266530Z"
    },
    "papermill": {
     "duration": 0.914738,
     "end_time": "2022-04-07T12:31:03.440130",
     "exception": false,
     "start_time": "2022-04-07T12:31:02.525392",
     "status": "completed"
    },
    "tags": []
   },
   "outputs": [
    {
     "data": {
      "text/html": [
       "<div>\n",
       "<style scoped>\n",
       "    .dataframe tbody tr th:only-of-type {\n",
       "        vertical-align: middle;\n",
       "    }\n",
       "\n",
       "    .dataframe tbody tr th {\n",
       "        vertical-align: top;\n",
       "    }\n",
       "\n",
       "    .dataframe thead th {\n",
       "        text-align: right;\n",
       "    }\n",
       "</style>\n",
       "<table border=\"1\" class=\"dataframe\">\n",
       "  <thead>\n",
       "    <tr style=\"text-align: right;\">\n",
       "      <th></th>\n",
       "      <th>code</th>\n",
       "      <th>title</th>\n",
       "      <th>section</th>\n",
       "      <th>class</th>\n",
       "      <th>subclass</th>\n",
       "      <th>group</th>\n",
       "      <th>main_group</th>\n",
       "    </tr>\n",
       "  </thead>\n",
       "  <tbody>\n",
       "    <tr>\n",
       "      <th>0</th>\n",
       "      <td>A</td>\n",
       "      <td>HUMAN NECESSITIES</td>\n",
       "      <td>A</td>\n",
       "      <td>NaN</td>\n",
       "      <td>NaN</td>\n",
       "      <td>NaN</td>\n",
       "      <td>NaN</td>\n",
       "    </tr>\n",
       "    <tr>\n",
       "      <th>1</th>\n",
       "      <td>A01</td>\n",
       "      <td>AGRICULTURE; FORESTRY; ANIMAL HUSBANDRY; HUNTI...</td>\n",
       "      <td>A</td>\n",
       "      <td>1.0</td>\n",
       "      <td>NaN</td>\n",
       "      <td>NaN</td>\n",
       "      <td>NaN</td>\n",
       "    </tr>\n",
       "    <tr>\n",
       "      <th>2</th>\n",
       "      <td>A01B</td>\n",
       "      <td>SOIL WORKING IN AGRICULTURE OR FORESTRY; PARTS...</td>\n",
       "      <td>A</td>\n",
       "      <td>1.0</td>\n",
       "      <td>B</td>\n",
       "      <td>NaN</td>\n",
       "      <td>NaN</td>\n",
       "    </tr>\n",
       "    <tr>\n",
       "      <th>3</th>\n",
       "      <td>A01B1/00</td>\n",
       "      <td>Hand tools (edge trimmers for lawns A01G3/06  ...</td>\n",
       "      <td>A</td>\n",
       "      <td>1.0</td>\n",
       "      <td>B</td>\n",
       "      <td>1.0</td>\n",
       "      <td>0.0</td>\n",
       "    </tr>\n",
       "    <tr>\n",
       "      <th>4</th>\n",
       "      <td>A01B1/02</td>\n",
       "      <td>Spades; Shovels {(hand-operated dredgers E02F3...</td>\n",
       "      <td>A</td>\n",
       "      <td>1.0</td>\n",
       "      <td>B</td>\n",
       "      <td>1.0</td>\n",
       "      <td>2.0</td>\n",
       "    </tr>\n",
       "  </tbody>\n",
       "</table>\n",
       "</div>"
      ],
      "text/plain": [
       "       code                                              title section  class  \\\n",
       "0         A                                  HUMAN NECESSITIES       A    NaN   \n",
       "1       A01  AGRICULTURE; FORESTRY; ANIMAL HUSBANDRY; HUNTI...       A    1.0   \n",
       "2      A01B  SOIL WORKING IN AGRICULTURE OR FORESTRY; PARTS...       A    1.0   \n",
       "3  A01B1/00  Hand tools (edge trimmers for lawns A01G3/06  ...       A    1.0   \n",
       "4  A01B1/02  Spades; Shovels {(hand-operated dredgers E02F3...       A    1.0   \n",
       "\n",
       "  subclass  group  main_group  \n",
       "0      NaN    NaN         NaN  \n",
       "1      NaN    NaN         NaN  \n",
       "2        B    NaN         NaN  \n",
       "3        B    1.0         0.0  \n",
       "4        B    1.0         2.0  "
      ]
     },
     "execution_count": 45,
     "metadata": {},
     "output_type": "execute_result"
    }
   ],
   "source": [
    "df_cpccm = pd.read_csv(\"../input/cpcc-dataset/Cooperative_Patent_Classification_Codes_Meaning.csv\")\n",
    "df_cpccm.head()"
   ]
  },
  {
   "cell_type": "markdown",
   "id": "2373eef1",
   "metadata": {
    "papermill": {
     "duration": 0.082626,
     "end_time": "2022-04-07T12:31:03.606450",
     "exception": false,
     "start_time": "2022-04-07T12:31:03.523824",
     "status": "completed"
    },
    "tags": []
   },
   "source": [
    "#### Left join the *train* and the *df_cpccm* datasets"
   ]
  },
  {
   "cell_type": "code",
   "execution_count": 46,
   "id": "0bdd245c",
   "metadata": {
    "execution": {
     "iopub.execute_input": "2022-04-07T12:31:03.890540Z",
     "iopub.status.busy": "2022-04-07T12:31:03.889928Z",
     "iopub.status.idle": "2022-04-07T12:31:04.067917Z",
     "shell.execute_reply": "2022-04-07T12:31:04.068353Z",
     "shell.execute_reply.started": "2022-04-07T12:18:45.572332Z"
    },
    "papermill": {
     "duration": 0.377703,
     "end_time": "2022-04-07T12:31:04.068534",
     "exception": false,
     "start_time": "2022-04-07T12:31:03.690831",
     "status": "completed"
    },
    "tags": []
   },
   "outputs": [],
   "source": [
    "train = pd.merge(train, df_cpccm[[\"code\",\"title\"]], \n",
    "                 left_on = \"context\", right_on = \"code\",\n",
    "                 how='left')\n",
    "\n",
    "test = pd.merge(test, df_cpccm[[\"code\",\"title\"]], \n",
    "                 left_on = \"context\", right_on = \"code\",\n",
    "                 how='left')"
   ]
  },
  {
   "cell_type": "code",
   "execution_count": 47,
   "id": "10276b16",
   "metadata": {
    "execution": {
     "iopub.execute_input": "2022-04-07T12:31:04.245869Z",
     "iopub.status.busy": "2022-04-07T12:31:04.245182Z",
     "iopub.status.idle": "2022-04-07T12:31:04.248072Z",
     "shell.execute_reply": "2022-04-07T12:31:04.248553Z",
     "shell.execute_reply.started": "2022-04-07T12:18:55.243886Z"
    },
    "papermill": {
     "duration": 0.099846,
     "end_time": "2022-04-07T12:31:04.248736",
     "exception": false,
     "start_time": "2022-04-07T12:31:04.148890",
     "status": "completed"
    },
    "tags": []
   },
   "outputs": [
    {
     "data": {
      "text/html": [
       "<div>\n",
       "<style scoped>\n",
       "    .dataframe tbody tr th:only-of-type {\n",
       "        vertical-align: middle;\n",
       "    }\n",
       "\n",
       "    .dataframe tbody tr th {\n",
       "        vertical-align: top;\n",
       "    }\n",
       "\n",
       "    .dataframe thead th {\n",
       "        text-align: right;\n",
       "    }\n",
       "</style>\n",
       "<table border=\"1\" class=\"dataframe\">\n",
       "  <thead>\n",
       "    <tr style=\"text-align: right;\">\n",
       "      <th></th>\n",
       "      <th>id</th>\n",
       "      <th>anchor</th>\n",
       "      <th>target</th>\n",
       "      <th>context</th>\n",
       "      <th>score</th>\n",
       "      <th>code</th>\n",
       "      <th>title</th>\n",
       "    </tr>\n",
       "  </thead>\n",
       "  <tbody>\n",
       "    <tr>\n",
       "      <th>0</th>\n",
       "      <td>37d61fd2272659b1</td>\n",
       "      <td>abatement</td>\n",
       "      <td>abatement pollution</td>\n",
       "      <td>A47</td>\n",
       "      <td>0.50</td>\n",
       "      <td>A47</td>\n",
       "      <td>FURNITURE; DOMESTIC ARTICLES OR APPLIANCES; CO...</td>\n",
       "    </tr>\n",
       "    <tr>\n",
       "      <th>1</th>\n",
       "      <td>7b9652b17b68b7a4</td>\n",
       "      <td>abatement</td>\n",
       "      <td>act abating</td>\n",
       "      <td>A47</td>\n",
       "      <td>0.75</td>\n",
       "      <td>A47</td>\n",
       "      <td>FURNITURE; DOMESTIC ARTICLES OR APPLIANCES; CO...</td>\n",
       "    </tr>\n",
       "    <tr>\n",
       "      <th>2</th>\n",
       "      <td>36d72442aefd8232</td>\n",
       "      <td>abatement</td>\n",
       "      <td>active catalyst</td>\n",
       "      <td>A47</td>\n",
       "      <td>0.25</td>\n",
       "      <td>A47</td>\n",
       "      <td>FURNITURE; DOMESTIC ARTICLES OR APPLIANCES; CO...</td>\n",
       "    </tr>\n",
       "    <tr>\n",
       "      <th>3</th>\n",
       "      <td>5296b0c19e1ce60e</td>\n",
       "      <td>abatement</td>\n",
       "      <td>eliminating process</td>\n",
       "      <td>A47</td>\n",
       "      <td>0.50</td>\n",
       "      <td>A47</td>\n",
       "      <td>FURNITURE; DOMESTIC ARTICLES OR APPLIANCES; CO...</td>\n",
       "    </tr>\n",
       "    <tr>\n",
       "      <th>4</th>\n",
       "      <td>54c1e3b9184cb5b6</td>\n",
       "      <td>abatement</td>\n",
       "      <td>forest region</td>\n",
       "      <td>A47</td>\n",
       "      <td>0.00</td>\n",
       "      <td>A47</td>\n",
       "      <td>FURNITURE; DOMESTIC ARTICLES OR APPLIANCES; CO...</td>\n",
       "    </tr>\n",
       "  </tbody>\n",
       "</table>\n",
       "</div>"
      ],
      "text/plain": [
       "                 id     anchor               target context  score code  \\\n",
       "0  37d61fd2272659b1  abatement  abatement pollution     A47   0.50  A47   \n",
       "1  7b9652b17b68b7a4  abatement          act abating     A47   0.75  A47   \n",
       "2  36d72442aefd8232  abatement      active catalyst     A47   0.25  A47   \n",
       "3  5296b0c19e1ce60e  abatement  eliminating process     A47   0.50  A47   \n",
       "4  54c1e3b9184cb5b6  abatement        forest region     A47   0.00  A47   \n",
       "\n",
       "                                               title  \n",
       "0  FURNITURE; DOMESTIC ARTICLES OR APPLIANCES; CO...  \n",
       "1  FURNITURE; DOMESTIC ARTICLES OR APPLIANCES; CO...  \n",
       "2  FURNITURE; DOMESTIC ARTICLES OR APPLIANCES; CO...  \n",
       "3  FURNITURE; DOMESTIC ARTICLES OR APPLIANCES; CO...  \n",
       "4  FURNITURE; DOMESTIC ARTICLES OR APPLIANCES; CO...  "
      ]
     },
     "execution_count": 47,
     "metadata": {},
     "output_type": "execute_result"
    }
   ],
   "source": [
    "train.head()"
   ]
  },
  {
   "cell_type": "code",
   "execution_count": 48,
   "id": "9a8ece62",
   "metadata": {
    "execution": {
     "iopub.execute_input": "2022-04-07T12:31:04.446547Z",
     "iopub.status.busy": "2022-04-07T12:31:04.445385Z",
     "iopub.status.idle": "2022-04-07T12:31:04.450584Z",
     "shell.execute_reply": "2022-04-07T12:31:04.452200Z",
     "shell.execute_reply.started": "2022-04-07T12:19:15.461010Z"
    },
    "papermill": {
     "duration": 0.11334,
     "end_time": "2022-04-07T12:31:04.452815",
     "exception": false,
     "start_time": "2022-04-07T12:31:04.339475",
     "status": "completed"
    },
    "tags": []
   },
   "outputs": [
    {
     "data": {
      "text/html": [
       "<div>\n",
       "<style scoped>\n",
       "    .dataframe tbody tr th:only-of-type {\n",
       "        vertical-align: middle;\n",
       "    }\n",
       "\n",
       "    .dataframe tbody tr th {\n",
       "        vertical-align: top;\n",
       "    }\n",
       "\n",
       "    .dataframe thead th {\n",
       "        text-align: right;\n",
       "    }\n",
       "</style>\n",
       "<table border=\"1\" class=\"dataframe\">\n",
       "  <thead>\n",
       "    <tr style=\"text-align: right;\">\n",
       "      <th></th>\n",
       "      <th>id</th>\n",
       "      <th>anchor</th>\n",
       "      <th>target</th>\n",
       "      <th>context</th>\n",
       "      <th>code</th>\n",
       "      <th>title</th>\n",
       "    </tr>\n",
       "  </thead>\n",
       "  <tbody>\n",
       "    <tr>\n",
       "      <th>0</th>\n",
       "      <td>4112d61851461f60</td>\n",
       "      <td>opc drum</td>\n",
       "      <td>inorganic photoconductor drum</td>\n",
       "      <td>G02</td>\n",
       "      <td>G02</td>\n",
       "      <td>OPTICS</td>\n",
       "    </tr>\n",
       "    <tr>\n",
       "      <th>1</th>\n",
       "      <td>09e418c93a776564</td>\n",
       "      <td>adjust gas flow</td>\n",
       "      <td>altering gas flow</td>\n",
       "      <td>F23</td>\n",
       "      <td>F23</td>\n",
       "      <td>COMBUSTION APPARATUS; COMBUSTION PROCESSES</td>\n",
       "    </tr>\n",
       "    <tr>\n",
       "      <th>2</th>\n",
       "      <td>36baf228038e314b</td>\n",
       "      <td>lower trunnion</td>\n",
       "      <td>lower locating</td>\n",
       "      <td>B60</td>\n",
       "      <td>B60</td>\n",
       "      <td>VEHICLES IN GENERAL</td>\n",
       "    </tr>\n",
       "    <tr>\n",
       "      <th>3</th>\n",
       "      <td>1f37ead645e7f0c8</td>\n",
       "      <td>cap component</td>\n",
       "      <td>upper portion</td>\n",
       "      <td>D06</td>\n",
       "      <td>D06</td>\n",
       "      <td>TREATMENT OF TEXTILES OR THE LIKE; LAUNDERING;...</td>\n",
       "    </tr>\n",
       "    <tr>\n",
       "      <th>4</th>\n",
       "      <td>71a5b6ad068d531f</td>\n",
       "      <td>neural stimulation</td>\n",
       "      <td>artificial neural network</td>\n",
       "      <td>H04</td>\n",
       "      <td>H04</td>\n",
       "      <td>ELECTRIC COMMUNICATION TECHNIQUE</td>\n",
       "    </tr>\n",
       "  </tbody>\n",
       "</table>\n",
       "</div>"
      ],
      "text/plain": [
       "                 id              anchor                         target  \\\n",
       "0  4112d61851461f60            opc drum  inorganic photoconductor drum   \n",
       "1  09e418c93a776564     adjust gas flow              altering gas flow   \n",
       "2  36baf228038e314b      lower trunnion                 lower locating   \n",
       "3  1f37ead645e7f0c8       cap component                  upper portion   \n",
       "4  71a5b6ad068d531f  neural stimulation      artificial neural network   \n",
       "\n",
       "  context code                                              title  \n",
       "0     G02  G02                                             OPTICS  \n",
       "1     F23  F23         COMBUSTION APPARATUS; COMBUSTION PROCESSES  \n",
       "2     B60  B60                                VEHICLES IN GENERAL  \n",
       "3     D06  D06  TREATMENT OF TEXTILES OR THE LIKE; LAUNDERING;...  \n",
       "4     H04  H04                   ELECTRIC COMMUNICATION TECHNIQUE  "
      ]
     },
     "execution_count": 48,
     "metadata": {},
     "output_type": "execute_result"
    }
   ],
   "source": [
    "test.head()"
   ]
  },
  {
   "cell_type": "code",
   "execution_count": 49,
   "id": "d81407a1",
   "metadata": {
    "execution": {
     "iopub.execute_input": "2022-04-07T12:31:04.640354Z",
     "iopub.status.busy": "2022-04-07T12:31:04.639373Z",
     "iopub.status.idle": "2022-04-07T12:31:04.659370Z",
     "shell.execute_reply": "2022-04-07T12:31:04.658854Z",
     "shell.execute_reply.started": "2022-04-07T12:22:51.116719Z"
    },
    "papermill": {
     "duration": 0.111897,
     "end_time": "2022-04-07T12:31:04.659525",
     "exception": false,
     "start_time": "2022-04-07T12:31:04.547628",
     "status": "completed"
    },
    "tags": []
   },
   "outputs": [
    {
     "data": {
      "text/plain": [
       "id         0\n",
       "anchor     0\n",
       "target     0\n",
       "context    0\n",
       "score      0\n",
       "code       0\n",
       "title      0\n",
       "dtype: int64"
      ]
     },
     "execution_count": 49,
     "metadata": {},
     "output_type": "execute_result"
    }
   ],
   "source": [
    "train.isnull().sum()"
   ]
  },
  {
   "cell_type": "code",
   "execution_count": 50,
   "id": "77f71e8b",
   "metadata": {
    "execution": {
     "iopub.execute_input": "2022-04-07T12:31:04.836515Z",
     "iopub.status.busy": "2022-04-07T12:31:04.835954Z",
     "iopub.status.idle": "2022-04-07T12:31:04.844550Z",
     "shell.execute_reply": "2022-04-07T12:31:04.844048Z",
     "shell.execute_reply.started": "2022-04-07T12:23:03.324726Z"
    },
    "papermill": {
     "duration": 0.099527,
     "end_time": "2022-04-07T12:31:04.844719",
     "exception": false,
     "start_time": "2022-04-07T12:31:04.745192",
     "status": "completed"
    },
    "tags": []
   },
   "outputs": [
    {
     "data": {
      "text/plain": [
       "id         0\n",
       "anchor     0\n",
       "target     0\n",
       "context    0\n",
       "code       0\n",
       "title      0\n",
       "dtype: int64"
      ]
     },
     "execution_count": 50,
     "metadata": {},
     "output_type": "execute_result"
    }
   ],
   "source": [
    "test.isnull().sum()"
   ]
  },
  {
   "cell_type": "markdown",
   "id": "0f776886",
   "metadata": {
    "papermill": {
     "duration": 0.08414,
     "end_time": "2022-04-07T12:31:05.011057",
     "exception": false,
     "start_time": "2022-04-07T12:31:04.926917",
     "status": "completed"
    },
    "tags": []
   },
   "source": [
    "#### The top 5 titles having the highest frequency "
   ]
  },
  {
   "cell_type": "code",
   "execution_count": 51,
   "id": "4b6ffddb",
   "metadata": {
    "execution": {
     "iopub.execute_input": "2022-04-07T12:31:05.193092Z",
     "iopub.status.busy": "2022-04-07T12:31:05.192480Z",
     "iopub.status.idle": "2022-04-07T12:31:05.195097Z",
     "shell.execute_reply": "2022-04-07T12:31:05.195673Z",
     "shell.execute_reply.started": "2022-04-07T12:23:54.246994Z"
    },
    "papermill": {
     "duration": 0.099611,
     "end_time": "2022-04-07T12:31:05.195856",
     "exception": false,
     "start_time": "2022-04-07T12:31:05.096245",
     "status": "completed"
    },
    "tags": []
   },
   "outputs": [
    {
     "data": {
      "text/plain": [
       "BASIC ELECTRIC ELEMENTS                                                                                                                                             2186\n",
       "ELECTRIC COMMUNICATION TECHNIQUE                                                                                                                                    2177\n",
       "MEASURING; TESTING                                                                                                                                                  1812\n",
       "MEDICAL OR VETERINARY SCIENCE; HYGIENE                                                                                                                              1477\n",
       "ENGINEERING ELEMENTS AND UNITS; GENERAL MEASURES FOR PRODUCING AND MAINTAINING EFFECTIVE FUNCTIONING OF MACHINES OR INSTALLATIONS; THERMAL INSULATION IN GENERAL    1091\n",
       "Name: title, dtype: int64"
      ]
     },
     "execution_count": 51,
     "metadata": {},
     "output_type": "execute_result"
    }
   ],
   "source": [
    "train['title'].value_counts(dropna=False)[:5]"
   ]
  },
  {
   "cell_type": "code",
   "execution_count": 52,
   "id": "1ea53a95",
   "metadata": {
    "execution": {
     "iopub.execute_input": "2022-04-07T12:31:05.368576Z",
     "iopub.status.busy": "2022-04-07T12:31:05.367994Z",
     "iopub.status.idle": "2022-04-07T12:31:05.525079Z",
     "shell.execute_reply": "2022-04-07T12:31:05.524466Z",
     "shell.execute_reply.started": "2022-04-07T12:29:57.303033Z"
    },
    "papermill": {
     "duration": 0.244308,
     "end_time": "2022-04-07T12:31:05.525225",
     "exception": false,
     "start_time": "2022-04-07T12:31:05.280917",
     "status": "completed"
    },
    "tags": []
   },
   "outputs": [],
   "source": [
    "# Saving the preprocessed dataset\n",
    "train.to_csv(\"train_cleaned_us_patent.csv\",index=False)\n",
    "\n",
    "test.to_csv(\"test_cleaned_us_patent.csv\",index=False)"
   ]
  },
  {
   "cell_type": "code",
   "execution_count": null,
   "id": "ee574241",
   "metadata": {
    "papermill": {
     "duration": 0.082248,
     "end_time": "2022-04-07T12:31:05.690226",
     "exception": false,
     "start_time": "2022-04-07T12:31:05.607978",
     "status": "completed"
    },
    "tags": []
   },
   "outputs": [],
   "source": []
  }
 ],
 "metadata": {
  "kernelspec": {
   "display_name": "Python 3 (ipykernel)",
   "language": "python",
   "name": "python3"
  },
  "language_info": {
   "codemirror_mode": {
    "name": "ipython",
    "version": 3
   },
   "file_extension": ".py",
   "mimetype": "text/x-python",
   "name": "python",
   "nbconvert_exporter": "python",
   "pygments_lexer": "ipython3",
   "version": "3.9.7"
  },
  "papermill": {
   "default_parameters": {},
   "duration": 28.91052,
   "end_time": "2022-04-07T12:31:06.687557",
   "environment_variables": {},
   "exception": null,
   "input_path": "__notebook__.ipynb",
   "output_path": "__notebook__.ipynb",
   "parameters": {},
   "start_time": "2022-04-07T12:30:37.777037",
   "version": "2.3.3"
  }
 },
 "nbformat": 4,
 "nbformat_minor": 5
}
